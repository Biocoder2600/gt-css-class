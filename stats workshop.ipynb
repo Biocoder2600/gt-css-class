{
 "metadata": {
  "name": ""
 },
 "nbformat": 3,
 "nbformat_minor": 0,
 "worksheets": [
  {
   "cells": [
    {
     "cell_type": "code",
     "collapsed": false,
     "input": [
      "import numpy as np\n",
      "import pandas as pd\n",
      "import statsmodels.formula.api as smf"
     ],
     "language": "python",
     "metadata": {},
     "outputs": [],
     "prompt_number": 1
    },
    {
     "cell_type": "markdown",
     "metadata": {},
     "source": [
      "Basic p-values under binomial distribution\n",
      "---"
     ]
    },
    {
     "cell_type": "markdown",
     "metadata": {},
     "source": [
      "If we flip a coin once, and get heads once, is it an unfair coin?"
     ]
    },
    {
     "cell_type": "code",
     "collapsed": false,
     "input": [
      "trials = 1\n",
      "successes = 1\n",
      "samples = 10000\n",
      "(np.random.binomial(trials,0.5,samples)==successes).mean()"
     ],
     "language": "python",
     "metadata": {},
     "outputs": [
      {
       "metadata": {},
       "output_type": "pyout",
       "prompt_number": 9,
       "text": [
        "0.50460000000000005"
       ]
      }
     ],
     "prompt_number": 9
    },
    {
     "cell_type": "markdown",
     "metadata": {},
     "source": [
      "What if we flip a coin 30 times and get heads 19 times?"
     ]
    },
    {
     "cell_type": "code",
     "collapsed": false,
     "input": [
      "trials = 30\n",
      "successes = 19\n",
      "samples = 100000\n",
      "p = (np.random.binomial(trials,0.5,samples)>=successes).mean()"
     ],
     "language": "python",
     "metadata": {},
     "outputs": [],
     "prompt_number": 279
    },
    {
     "cell_type": "markdown",
     "metadata": {},
     "source": [
      "This number is a **p-value**: the probability of observing this outcome (or a more extreme outcome) by chance.\n",
      "\n",
      "More generally, it's the probability of the \"null hypothesis.\" \n",
      "The null hypothesis must be defined for your experimental setting.\n",
      "In this case, it's that the coin is fair."
     ]
    },
    {
     "cell_type": "markdown",
     "metadata": {},
     "source": [
      "The number of successes out of a fixed number of random (IID) trials is given by the [binomial distribution](http://en.wikipedia.org/wiki/Binomial_distribution). \n",
      "Knowing this allows us to compute the probabilities in closed form, rather than through simulation as above."
     ]
    },
    {
     "cell_type": "code",
     "collapsed": false,
     "input": [
      "from scipy.stats import binom,norm\n",
      "import matplotlib.pyplot as plt"
     ],
     "language": "python",
     "metadata": {},
     "outputs": [],
     "prompt_number": 47
    },
    {
     "cell_type": "markdown",
     "metadata": {},
     "source": [
      "The probability mass function of the binomial distribution assigns probability to each possible event (number of successes in N trials)"
     ]
    },
    {
     "cell_type": "code",
     "collapsed": false,
     "input": [
      "plt.plot(binom.pmf(range(trials),trials,0.5),'b')"
     ],
     "language": "python",
     "metadata": {},
     "outputs": [
      {
       "metadata": {},
       "output_type": "pyout",
       "prompt_number": 101,
       "text": [
        "[<matplotlib.lines.Line2D at 0x40bced0>]"
       ]
      },
      {
       "metadata": {},
       "output_type": "display_data",
       "png": "[encoded data removed]",
       "text": [
        "<matplotlib.figure.Figure at 0x414d110>"
       ]
      }
     ],
     "prompt_number": 101
    },
    {
     "cell_type": "markdown",
     "metadata": {},
     "source": [
      "To test whether $k$ successes in $N$ trials could arise by chance from a distribution with probability $p$, we need the *cumulative density function* (CDF)"
     ]
    },
    {
     "cell_type": "code",
     "collapsed": false,
     "input": [
      "1 - binom.cdf(successes-1,trials,0.5)"
     ],
     "language": "python",
     "metadata": {},
     "outputs": [
      {
       "metadata": {},
       "output_type": "pyout",
       "prompt_number": 81,
       "text": [
        "0.10024421103298664"
       ]
      }
     ],
     "prompt_number": 81
    },
    {
     "cell_type": "code",
     "collapsed": false,
     "input": [
      "plt.plot(1-binom.cdf(range(30),30,0.5),'b')"
     ],
     "language": "python",
     "metadata": {},
     "outputs": [
      {
       "metadata": {},
       "output_type": "pyout",
       "prompt_number": 44,
       "text": [
        "[<matplotlib.lines.Line2D at 0x414c0d0>]"
       ]
      },
      {
       "metadata": {},
       "output_type": "display_data",
       "png": "[encoded data removed]",
       "text": [
        "<matplotlib.figure.Figure at 0x4132190>"
       ]
      }
     ],
     "prompt_number": 44
    },
    {
     "cell_type": "markdown",
     "metadata": {},
     "source": [
      "Gaussians and Z-scores\n",
      "---\n",
      "\n",
      "The [central limit theorem](http://en.wikipedia.org/wiki/Central_limit_theorem) ensures that the sum of a \n",
      "large number of IID random events will approach a Gaussian distribution. "
     ]
    },
    {
     "cell_type": "code",
     "collapsed": false,
     "input": [
      "def plotBinomAndNormal(p,trials):\n",
      "    x = range(trials)\n",
      "    plt.plot(x,binom.pmf(x,trials,p),'b')\n",
      "    mu = p * trials\n",
      "    var = p * (1-p) * trials\n",
      "    plt.plot(x,norm.pdf(x,mu,np.sqrt(var)),'r')\n",
      "    legend(['Binomial','Gaussian approximation'])"
     ],
     "language": "python",
     "metadata": {},
     "outputs": [],
     "prompt_number": 91
    },
    {
     "cell_type": "code",
     "collapsed": false,
     "input": [
      "plotBinomAndNormal(0.25,500)"
     ],
     "language": "python",
     "metadata": {},
     "outputs": [
      {
       "metadata": {},
       "output_type": "display_data",
       "png": "[encoded data removed]",
       "text": [
        "<matplotlib.figure.Figure at 0x3dc7c50>"
       ]
      }
     ],
     "prompt_number": 92
    },
    {
     "cell_type": "code",
     "collapsed": false,
     "input": [
      "2 * (1 - norm.cdf(1))"
     ],
     "language": "python",
     "metadata": {},
     "outputs": [
      {
       "metadata": {},
       "output_type": "pyout",
       "prompt_number": 95,
       "text": [
        "0.31731050786291415"
       ]
      }
     ],
     "prompt_number": 95
    },
    {
     "cell_type": "markdown",
     "metadata": {},
     "source": [
      "Gaussians are widely useful, and it is worth memorizing some of their properties. \n",
      "\n",
      "- Gaussians are parametrized by a mean and a standard deviation\n",
      "- 2/3 of instances are within 1 standard deviation of the mean\n",
      "- 95% of instances are within 2 standard deviations of the mean\n",
      "- 99% of instances are within 2.6 standard deviations of the mean"
     ]
    },
    {
     "cell_type": "code",
     "collapsed": false,
     "input": [
      "print 2 * (1 - norm.cdf(1))\n",
      "print 2 * (1 - norm.cdf(2))\n",
      "print 2 * (1 - norm.cdf(2.6))"
     ],
     "language": "python",
     "metadata": {},
     "outputs": [
      {
       "output_type": "stream",
       "stream": "stdout",
       "text": [
        "0.317310507863\n",
        "0.0455002638964\n",
        "0.00932237604744\n"
       ]
      }
     ],
     "prompt_number": 99
    },
    {
     "cell_type": "markdown",
     "metadata": {},
     "source": [
      "The equation $\\frac{x - \\mu}{\\sigma}$ is the **z-score**, which can be converted to a **p-value** using the guidelines above"
     ]
    },
    {
     "cell_type": "markdown",
     "metadata": {},
     "source": [
      "Z-Tests\n",
      "---\n",
      "\n",
      "Do action movies make more money than comedies? \n",
      "We can try to answer this question with a Z-test.\n",
      "\n",
      "Here we are going to use dataframes, which are part of [Pandas](http://pandas.pydata.org/)"
     ]
    },
    {
     "cell_type": "code",
     "collapsed": false,
     "input": [
      "# first, read the CSV file into a data frame\n",
      "dat = pd.read_csv('movies_2010.csv')"
     ],
     "language": "python",
     "metadata": {},
     "outputs": [],
     "prompt_number": 131
    },
    {
     "cell_type": "markdown",
     "metadata": {},
     "source": [
      "Let's fit Gaussian distributions to the average gross for comedy and action films"
     ]
    },
    {
     "cell_type": "code",
     "collapsed": false,
     "input": [
      "# most of the horribleness in this syntax is because of the CSV file, not pandas\n",
      "com_gross = dat[dat[' \"Genre\"']=='Comedy'][' \"Gross\"']\n",
      "act_gross = dat[dat[' \"Genre\"']=='Action'][' \"Gross\"']"
     ],
     "language": "python",
     "metadata": {},
     "outputs": [],
     "prompt_number": 172
    },
    {
     "cell_type": "code",
     "collapsed": false,
     "input": [
      "mu_comedy =  com_gross.mean()\n",
      "mu_action = act_gross.mean()\n",
      "std_comedy = com_gross.std()\n",
      "std_action = act_gross.std()"
     ],
     "language": "python",
     "metadata": {},
     "outputs": [],
     "prompt_number": 145
    },
    {
     "cell_type": "markdown",
     "metadata": {},
     "source": [
      "Now we can plot these Gaussians"
     ]
    },
    {
     "cell_type": "code",
     "collapsed": false,
     "input": [
      "x = range(0,int(3 * max(mu_comedy,mu_action)),int(0.1*std_comedy))\n",
      "plot(x,norm.pdf(x,mu_comedy,std_comedy),'b')\n",
      "plot(x,norm.pdf(x,mu_action,std_action),'r')\n",
      "legend(['comedy','action'])"
     ],
     "language": "python",
     "metadata": {},
     "outputs": [
      {
       "metadata": {},
       "output_type": "pyout",
       "prompt_number": 146,
       "text": [
        "<matplotlib.legend.Legend at 0x5173e90>"
       ]
      },
      {
       "metadata": {},
       "output_type": "display_data",
       "png": "[encoded data removed]",
       "text": [
        "<matplotlib.figure.Figure at 0x5157a10>"
       ]
      }
     ],
     "prompt_number": 146
    },
    {
     "cell_type": "code",
     "collapsed": false,
     "input": [
      "fig = plt.boxplot([com_gross,act_gross])"
     ],
     "language": "python",
     "metadata": {},
     "outputs": [
      {
       "metadata": {},
       "output_type": "display_data",
       "png": "[encoded data removed]",
       "text": [
        "<matplotlib.figure.Figure at 0x4d3b090>"
       ]
      }
     ],
     "prompt_number": 185
    },
    {
     "cell_type": "code",
     "collapsed": false,
     "input": [
      "fig = plt.boxplot([np.log(com_gross),np.log(act_gross)])"
     ],
     "language": "python",
     "metadata": {},
     "outputs": [
      {
       "metadata": {},
       "output_type": "display_data",
       "png": "[encoded data removed]",
       "text": [
        "<matplotlib.figure.Figure at 0x60f3c50>"
       ]
      }
     ],
     "prompt_number": 186
    },
    {
     "cell_type": "code",
     "collapsed": false,
     "input": [
      "log_com_gross = np.log(com_gross)\n",
      "log_act_gross = np.log(act_gross)"
     ],
     "language": "python",
     "metadata": {},
     "outputs": [],
     "prompt_number": 190
    },
    {
     "cell_type": "code",
     "collapsed": false,
     "input": [
      "group_stdev = np.sqrt(log_com_gross.std()**2 + log_act_gross.std()**2)\n",
      "print \"std. dev = \",group_stdev"
     ],
     "language": "python",
     "metadata": {},
     "outputs": [
      {
       "output_type": "stream",
       "stream": "stdout",
       "text": [
        "std. dev =  4.92242844644\n"
       ]
      }
     ],
     "prompt_number": 162
    },
    {
     "cell_type": "code",
     "collapsed": false,
     "input": [
      "z = (log_com_gross.mean() - log_act_gross.mean()) / group_stdev\n",
      "print \"z = \",z\n",
      "print \"p = \",norm.cdf(z)"
     ],
     "language": "python",
     "metadata": {},
     "outputs": [
      {
       "output_type": "stream",
       "stream": "stdout",
       "text": [
        "z =  -0.364952852102\n",
        "p =  0.35757330045\n"
       ]
      }
     ],
     "prompt_number": 170
    },
    {
     "cell_type": "code",
     "collapsed": false,
     "input": [
      "log_doc_gross = np.log(dat[dat[' \"Genre\"']=='Documentary'][' \"Gross\"'])"
     ],
     "language": "python",
     "metadata": {},
     "outputs": [],
     "prompt_number": 197
    },
    {
     "cell_type": "code",
     "collapsed": false,
     "input": [
      "fig = plt.boxplot([log_com_gross,log_act_gross,log_doc_gross])\n",
      "plt.xticks([1,2,3],['Comedy','Action','Documentary'])\n",
      "plt.ylabel('Log gross')"
     ],
     "language": "python",
     "metadata": {},
     "outputs": [
      {
       "metadata": {},
       "output_type": "pyout",
       "prompt_number": 202,
       "text": [
        "<matplotlib.text.Text at 0x680c4d0>"
       ]
      },
      {
       "metadata": {},
       "output_type": "display_data",
       "png": "[encoded data removed]",
       "text": [
        "<matplotlib.figure.Figure at 0x6828310>"
       ]
      }
     ],
     "prompt_number": 202
    },
    {
     "cell_type": "code",
     "collapsed": false,
     "input": [
      "group_stdev = np.sqrt(log_doc_gross.std()**2 + log_act_gross.std()**2)\n",
      "z = (log_doc_gross.mean() - log_act_gross.mean()) / group_stdev\n",
      "print \"z = \",z\n",
      "print \"p = \",norm.cdf(z)"
     ],
     "language": "python",
     "metadata": {},
     "outputs": [
      {
       "output_type": "stream",
       "stream": "stdout",
       "text": [
        "z =  -1.15305836765\n",
        "p =  0.124443214089\n"
       ]
      }
     ],
     "prompt_number": 199
    },
    {
     "cell_type": "markdown",
     "metadata": {},
     "source": [
      "Correlations\n",
      "---\n",
      "\n",
      "Now we're going to look at relationships between data.\n",
      "\n",
      "For this, we'll load in the [Guerry](http://vincentarelbundock.github.io/Rdatasets/doc/HistData/Guerry.html) dataset, \n",
      "which is historical demographic data from France in the 1800s (very early quantitative social science!)"
     ]
    },
    {
     "cell_type": "code",
     "collapsed": false,
     "input": [
      "url = 'http://vincentarelbundock.github.io/Rdatasets/csv/HistData/Guerry.csv'\n",
      "dat = pd.read_csv(url)"
     ],
     "language": "python",
     "metadata": {},
     "outputs": [],
     "prompt_number": 203
    },
    {
     "cell_type": "markdown",
     "metadata": {},
     "source": [
      "Are the number of clergy correlated with the amount of crime?"
     ]
    },
    {
     "cell_type": "code",
     "collapsed": false,
     "input": [
      "fig = plt.scatter(dat['Clergy'],dat['Crime_pers'])\n",
      "plt.xlabel('Clergy rank (lower = more clergy)')\n",
      "plt.ylabel('Pop per crime (lower = more crime)')"
     ],
     "language": "python",
     "metadata": {},
     "outputs": [
      {
       "metadata": {},
       "output_type": "pyout",
       "prompt_number": 217,
       "text": [
        "<matplotlib.text.Text at 0x68364d0>"
       ]
      },
      {
       "metadata": {},
       "output_type": "display_data",
       "png": "[encoded data removed]",
       "text": [
        "<matplotlib.figure.Figure at 0x6839a50>"
       ]
      }
     ],
     "prompt_number": 217
    },
    {
     "cell_type": "code",
     "collapsed": false,
     "input": [
      "corr = dat['Clergy'].corr(dat['Crime_pers'])\n",
      "print \"Corr =\",corr"
     ],
     "language": "python",
     "metadata": {},
     "outputs": [
      {
       "output_type": "stream",
       "stream": "stdout",
       "text": [
        "Corr = 0.255535165672\n"
       ]
      }
     ],
     "prompt_number": 208
    },
    {
     "cell_type": "markdown",
     "metadata": {},
     "source": [
      "Apparently so! But is this correlation statistically significant? Is it the result of random chance?\n",
      "\n",
      "To answer this, we need to convert the correlation to a z-score. We do this using [Fisher's tranformation](http://en.wikipedia.org/wiki/Fisher_transformation)."
     ]
    },
    {
     "cell_type": "code",
     "collapsed": false,
     "input": [
      "N = len(dat['Clergy'])\n",
      "mu = np.arctanh(corr)\n",
      "std = 1. / sqrt(N-3)\n",
      "z = mu / std\n",
      "p = norm.cdf(- abs(z))\n",
      "print N,mu,std,z,p"
     ],
     "language": "python",
     "metadata": {},
     "outputs": [
      {
       "output_type": "stream",
       "stream": "stdout",
       "text": [
        "86 0.261325785219 0.10976425999 2.38079120876 0.00863775024285\n"
       ]
      }
     ],
     "prompt_number": 214
    },
    {
     "cell_type": "markdown",
     "metadata": {},
     "source": [
      "Answer: yes, this correlation is statistically significant at $p < .01$"
     ]
    },
    {
     "cell_type": "markdown",
     "metadata": {},
     "source": [
      "**Your turn**: check for another correlation in the data, again with Crime. You can see all the possible keys below, although not all of them are numerical."
     ]
    },
    {
     "cell_type": "code",
     "collapsed": false,
     "input": [
      "dat.keys()"
     ],
     "language": "python",
     "metadata": {},
     "outputs": [
      {
       "metadata": {},
       "output_type": "pyout",
       "prompt_number": 215,
       "text": [
        "Index([u'Unnamed: 0', u'dept', u'Region', u'Department', u'Crime_pers', u'Crime_prop', u'Literacy', u'Donations', u'Infants', u'Suicides', u'MainCity', u'Wealth', u'Commerce', u'Clergy', u'Crime_parents', u'Infanticide', u'Donation_clergy', u'Lottery', u'Desertion', u'Instruction', u'Prostitutes', u'Distance', u'Area', u'Pop1831'], dtype=object)"
       ]
      }
     ],
     "prompt_number": 215
    },
    {
     "cell_type": "markdown",
     "metadata": {},
     "source": [
      "Regression\n",
      "---\n",
      "\n",
      "Another way to look at the relationship between clergy and crime is through regression. \n",
      "\n",
      "- Here we are trying to find the linear relationship between the two variables. \n",
      "- We select one as the *dependent* variable, and try to predict it.\n",
      "- This is what statsmodel is good at"
     ]
    },
    {
     "cell_type": "code",
     "collapsed": false,
     "input": [
      "results = smf.ols('Crime_pers ~ Clergy',data = dat).fit()"
     ],
     "language": "python",
     "metadata": {},
     "outputs": [],
     "prompt_number": 218
    },
    {
     "cell_type": "markdown",
     "metadata": {},
     "source": [
      "Now we can plot a best fit line"
     ]
    },
    {
     "cell_type": "code",
     "collapsed": false,
     "input": [
      "scatter(dat['Clergy'],dat['Crime_pers'])\n",
      "x = linspace(min(dat['Clergy']),max(dat['Clergy']),100)\n",
      "plot(x,x*results.params[1]+results.params[0],'r')"
     ],
     "language": "python",
     "metadata": {},
     "outputs": [
      {
       "metadata": {},
       "output_type": "pyout",
       "prompt_number": 221,
       "text": [
        "[<matplotlib.lines.Line2D at 0x7116dd0>]"
       ]
      },
      {
       "metadata": {},
       "output_type": "display_data",
       "png": "[encoded data removed]",
       "text": [
        "<matplotlib.figure.Figure at 0x70a0dd0>"
       ]
      }
     ],
     "prompt_number": 221
    },
    {
     "cell_type": "code",
     "collapsed": false,
     "input": [
      "# and we can see all these statistics\n",
      "results.summary()"
     ],
     "language": "python",
     "metadata": {},
     "outputs": [
      {
       "html": [
        "<table class=\"simpletable\">\n",
        "<caption>OLS Regression Results</caption>\n",
        "<tr>\n",
        "  <th>Dep. Variable:</th>       <td>Crime_pers</td>    <th>  R-squared:         </th> <td>   0.065</td>\n",
        "</tr>\n",
        "<tr>\n",
        "  <th>Model:</th>                   <td>OLS</td>       <th>  Adj. R-squared:    </th> <td>   0.054</td>\n",
        "</tr>\n",
        "<tr>\n",
        "  <th>Method:</th>             <td>Least Squares</td>  <th>  F-statistic:       </th> <td>   5.868</td>\n",
        "</tr>\n",
        "<tr>\n",
        "  <th>Date:</th>             <td>Thu, 23 Jan 2014</td> <th>  Prob (F-statistic):</th>  <td>0.0176</td> \n",
        "</tr>\n",
        "<tr>\n",
        "  <th>Time:</th>                 <td>13:12:21</td>     <th>  Log-Likelihood:    </th> <td> -886.02</td>\n",
        "</tr>\n",
        "<tr>\n",
        "  <th>No. Observations:</th>      <td>    86</td>      <th>  AIC:               </th> <td>   1776.</td>\n",
        "</tr>\n",
        "<tr>\n",
        "  <th>Df Residuals:</th>          <td>    84</td>      <th>  BIC:               </th> <td>   1781.</td>\n",
        "</tr>\n",
        "<tr>\n",
        "  <th>Df Model:</th>              <td>     1</td>      <th>                     </th>     <td> </td>   \n",
        "</tr>\n",
        "</table>\n",
        "<table class=\"simpletable\">\n",
        "<tr>\n",
        "      <td></td>         <th>coef</th>     <th>std err</th>      <th>t</th>      <th>P>|t|</th> <th>[95.0% Conf. Int.]</th> \n",
        "</tr>\n",
        "<tr>\n",
        "  <th>Intercept</th> <td> 1.642e+04</td> <td> 1584.551</td> <td>   10.364</td> <td> 0.000</td> <td> 1.33e+04  1.96e+04</td>\n",
        "</tr>\n",
        "<tr>\n",
        "  <th>Clergy</th>    <td>   76.7100</td> <td>   31.666</td> <td>    2.422</td> <td> 0.018</td> <td>   13.738   139.682</td>\n",
        "</tr>\n",
        "</table>\n",
        "<table class=\"simpletable\">\n",
        "<tr>\n",
        "  <th>Omnibus:</th>       <td> 3.184</td> <th>  Durbin-Watson:     </th> <td>   1.656</td>\n",
        "</tr>\n",
        "<tr>\n",
        "  <th>Prob(Omnibus):</th> <td> 0.203</td> <th>  Jarque-Bera (JB):  </th> <td>   2.338</td>\n",
        "</tr>\n",
        "<tr>\n",
        "  <th>Skew:</th>          <td> 0.244</td> <th>  Prob(JB):          </th> <td>   0.311</td>\n",
        "</tr>\n",
        "<tr>\n",
        "  <th>Kurtosis:</th>      <td> 2.356</td> <th>  Cond. No.          </th> <td>    101.</td>\n",
        "</tr>\n",
        "</table>"
       ],
       "metadata": {},
       "output_type": "pyout",
       "prompt_number": 222,
       "text": [
        "<class 'statsmodels.iolib.summary.Summary'>\n",
        "\"\"\"\n",
        "                            OLS Regression Results                            \n",
        "==============================================================================\n",
        "Dep. Variable:             Crime_pers   R-squared:                       0.065\n",
        "Model:                            OLS   Adj. R-squared:                  0.054\n",
        "Method:                 Least Squares   F-statistic:                     5.868\n",
        "Date:                Thu, 23 Jan 2014   Prob (F-statistic):             0.0176\n",
        "Time:                        13:12:21   Log-Likelihood:                -886.02\n",
        "No. Observations:                  86   AIC:                             1776.\n",
        "Df Residuals:                      84   BIC:                             1781.\n",
        "Df Model:                           1                                         \n",
        "==============================================================================\n",
        "                 coef    std err          t      P>|t|      [95.0% Conf. Int.]\n",
        "------------------------------------------------------------------------------\n",
        "Intercept   1.642e+04   1584.551     10.364      0.000      1.33e+04  1.96e+04\n",
        "Clergy        76.7100     31.666      2.422      0.018        13.738   139.682\n",
        "==============================================================================\n",
        "Omnibus:                        3.184   Durbin-Watson:                   1.656\n",
        "Prob(Omnibus):                  0.203   Jarque-Bera (JB):                2.338\n",
        "Skew:                           0.244   Prob(JB):                        0.311\n",
        "Kurtosis:                       2.356   Cond. No.                         101.\n",
        "==============================================================================\n",
        "\"\"\""
       ]
      }
     ],
     "prompt_number": 222
    },
    {
     "cell_type": "markdown",
     "metadata": {},
     "source": [
      "Multiple regression\n",
      "---\n",
      "\n",
      "But the cool thing about regression is how it allows you to weight multiple predictive factors"
     ]
    },
    {
     "cell_type": "code",
     "collapsed": false,
     "input": [
      "results = smf.ols('Crime_pers ~ Clergy + Infants + Literacy + Distance',data = dat).fit()"
     ],
     "language": "python",
     "metadata": {},
     "outputs": [],
     "prompt_number": 231
    },
    {
     "cell_type": "code",
     "collapsed": false,
     "input": [
      "results.summary()"
     ],
     "language": "python",
     "metadata": {},
     "outputs": [
      {
       "html": [
        "<table class=\"simpletable\">\n",
        "<caption>OLS Regression Results</caption>\n",
        "<tr>\n",
        "  <th>Dep. Variable:</th>       <td>Crime_pers</td>    <th>  R-squared:         </th> <td>   0.296</td>\n",
        "</tr>\n",
        "<tr>\n",
        "  <th>Model:</th>                   <td>OLS</td>       <th>  Adj. R-squared:    </th> <td>   0.262</td>\n",
        "</tr>\n",
        "<tr>\n",
        "  <th>Method:</th>             <td>Least Squares</td>  <th>  F-statistic:       </th> <td>   8.533</td>\n",
        "</tr>\n",
        "<tr>\n",
        "  <th>Date:</th>             <td>Thu, 23 Jan 2014</td> <th>  Prob (F-statistic):</th> <td>8.49e-06</td>\n",
        "</tr>\n",
        "<tr>\n",
        "  <th>Time:</th>                 <td>13:18:18</td>     <th>  Log-Likelihood:    </th> <td> -873.81</td>\n",
        "</tr>\n",
        "<tr>\n",
        "  <th>No. Observations:</th>      <td>    86</td>      <th>  AIC:               </th> <td>   1758.</td>\n",
        "</tr>\n",
        "<tr>\n",
        "  <th>Df Residuals:</th>          <td>    81</td>      <th>  BIC:               </th> <td>   1770.</td>\n",
        "</tr>\n",
        "<tr>\n",
        "  <th>Df Model:</th>              <td>     4</td>      <th>                     </th>     <td> </td>   \n",
        "</tr>\n",
        "</table>\n",
        "<table class=\"simpletable\">\n",
        "<tr>\n",
        "      <td></td>         <th>coef</th>     <th>std err</th>      <th>t</th>      <th>P>|t|</th> <th>[95.0% Conf. Int.]</th> \n",
        "</tr>\n",
        "<tr>\n",
        "  <th>Intercept</th> <td> 2.936e+04</td> <td> 4205.226</td> <td>    6.982</td> <td> 0.000</td> <td>  2.1e+04  3.77e+04</td>\n",
        "</tr>\n",
        "<tr>\n",
        "  <th>Clergy</th>    <td>   18.3364</td> <td>   30.783</td> <td>    0.596</td> <td> 0.553</td> <td>  -42.911    79.584</td>\n",
        "</tr>\n",
        "<tr>\n",
        "  <th>Infants</th>   <td>    0.0117</td> <td>    0.088</td> <td>    0.133</td> <td> 0.895</td> <td>   -0.163     0.187</td>\n",
        "</tr>\n",
        "<tr>\n",
        "  <th>Literacy</th>  <td>  -73.8948</td> <td>   47.212</td> <td>   -1.565</td> <td> 0.121</td> <td> -167.832    20.042</td>\n",
        "</tr>\n",
        "<tr>\n",
        "  <th>Distance</th>  <td>  -37.1506</td> <td>    7.215</td> <td>   -5.149</td> <td> 0.000</td> <td>  -51.507   -22.794</td>\n",
        "</tr>\n",
        "</table>\n",
        "<table class=\"simpletable\">\n",
        "<tr>\n",
        "  <th>Omnibus:</th>       <td> 2.533</td> <th>  Durbin-Watson:     </th> <td>   1.899</td>\n",
        "</tr>\n",
        "<tr>\n",
        "  <th>Prob(Omnibus):</th> <td> 0.282</td> <th>  Jarque-Bera (JB):  </th> <td>   1.778</td>\n",
        "</tr>\n",
        "<tr>\n",
        "  <th>Skew:</th>          <td> 0.147</td> <th>  Prob(JB):          </th> <td>   0.411</td>\n",
        "</tr>\n",
        "<tr>\n",
        "  <th>Kurtosis:</th>      <td> 2.360</td> <th>  Cond. No.          </th> <td>1.27e+05</td>\n",
        "</tr>\n",
        "</table>"
       ],
       "metadata": {},
       "output_type": "pyout",
       "prompt_number": 232,
       "text": [
        "<class 'statsmodels.iolib.summary.Summary'>\n",
        "\"\"\"\n",
        "                            OLS Regression Results                            \n",
        "==============================================================================\n",
        "Dep. Variable:             Crime_pers   R-squared:                       0.296\n",
        "Model:                            OLS   Adj. R-squared:                  0.262\n",
        "Method:                 Least Squares   F-statistic:                     8.533\n",
        "Date:                Thu, 23 Jan 2014   Prob (F-statistic):           8.49e-06\n",
        "Time:                        13:18:18   Log-Likelihood:                -873.81\n",
        "No. Observations:                  86   AIC:                             1758.\n",
        "Df Residuals:                      81   BIC:                             1770.\n",
        "Df Model:                           4                                         \n",
        "==============================================================================\n",
        "                 coef    std err          t      P>|t|      [95.0% Conf. Int.]\n",
        "------------------------------------------------------------------------------\n",
        "Intercept   2.936e+04   4205.226      6.982      0.000       2.1e+04  3.77e+04\n",
        "Clergy        18.3364     30.783      0.596      0.553       -42.911    79.584\n",
        "Infants        0.0117      0.088      0.133      0.895        -0.163     0.187\n",
        "Literacy     -73.8948     47.212     -1.565      0.121      -167.832    20.042\n",
        "Distance     -37.1506      7.215     -5.149      0.000       -51.507   -22.794\n",
        "==============================================================================\n",
        "Omnibus:                        2.533   Durbin-Watson:                   1.899\n",
        "Prob(Omnibus):                  0.282   Jarque-Bera (JB):                1.778\n",
        "Skew:                           0.147   Prob(JB):                        0.411\n",
        "Kurtosis:                       2.360   Cond. No.                     1.27e+05\n",
        "==============================================================================\n",
        "\n",
        "Warnings:\n",
        "[1] The condition number is large, 1.27e+05. This might indicate that there are\n",
        "strong multicollinearity or other numerical problems.\n",
        "\"\"\""
       ]
      }
     ],
     "prompt_number": 232
    },
    {
     "cell_type": "markdown",
     "metadata": {},
     "source": [
      "Predicting categorical variables\n",
      "---\n",
      "\n",
      "Finally, we can try to predict categorical variables. "
     ]
    },
    {
     "cell_type": "code",
     "collapsed": false,
     "input": [
      "import statsmodels.api as sm"
     ],
     "language": "python",
     "metadata": {},
     "outputs": [],
     "prompt_number": 244
    },
    {
     "cell_type": "code",
     "collapsed": false,
     "input": [
      "spector_data = sm.datasets.spector.load()\n",
      "spector_data.exog = sm.add_constant(spector_data.exog, prepend=False)"
     ],
     "language": "python",
     "metadata": {},
     "outputs": [],
     "prompt_number": 246
    },
    {
     "cell_type": "code",
     "collapsed": false,
     "input": [
      "spector_data.endog"
     ],
     "language": "python",
     "metadata": {},
     "outputs": [
      {
       "metadata": {},
       "output_type": "pyout",
       "prompt_number": 251,
       "text": [
        "array([ 0.,  0.,  0.,  0.,  1.,  0.,  0.,  0.,  0.,  1.,  0.,  0.,  0.,\n",
        "        1.,  0.,  0.,  0.,  0.,  0.,  1.,  0.,  1.,  0.,  0.,  1.,  1.,\n",
        "        1.,  0.,  1.,  1.,  0.,  1.])"
       ]
      }
     ],
     "prompt_number": 251
    },
    {
     "cell_type": "code",
     "collapsed": false,
     "input": [
      "spector_data.exog"
     ],
     "language": "python",
     "metadata": {},
     "outputs": [
      {
       "metadata": {},
       "output_type": "pyout",
       "prompt_number": 252,
       "text": [
        "array([[  2.66,  20.  ,   0.  ,   1.  ],\n",
        "       [  2.89,  22.  ,   0.  ,   1.  ],\n",
        "       [  3.28,  24.  ,   0.  ,   1.  ],\n",
        "       [  2.92,  12.  ,   0.  ,   1.  ],\n",
        "       [  4.  ,  21.  ,   0.  ,   1.  ],\n",
        "       [  2.86,  17.  ,   0.  ,   1.  ],\n",
        "       [  2.76,  17.  ,   0.  ,   1.  ],\n",
        "       [  2.87,  21.  ,   0.  ,   1.  ],\n",
        "       [  3.03,  25.  ,   0.  ,   1.  ],\n",
        "       [  3.92,  29.  ,   0.  ,   1.  ],\n",
        "       [  2.63,  20.  ,   0.  ,   1.  ],\n",
        "       [  3.32,  23.  ,   0.  ,   1.  ],\n",
        "       [  3.57,  23.  ,   0.  ,   1.  ],\n",
        "       [  3.26,  25.  ,   0.  ,   1.  ],\n",
        "       [  3.53,  26.  ,   0.  ,   1.  ],\n",
        "       [  2.74,  19.  ,   0.  ,   1.  ],\n",
        "       [  2.75,  25.  ,   0.  ,   1.  ],\n",
        "       [  2.83,  19.  ,   0.  ,   1.  ],\n",
        "       [  3.12,  23.  ,   1.  ,   1.  ],\n",
        "       [  3.16,  25.  ,   1.  ,   1.  ],\n",
        "       [  2.06,  22.  ,   1.  ,   1.  ],\n",
        "       [  3.62,  28.  ,   1.  ,   1.  ],\n",
        "       [  2.89,  14.  ,   1.  ,   1.  ],\n",
        "       [  3.51,  26.  ,   1.  ,   1.  ],\n",
        "       [  3.54,  24.  ,   1.  ,   1.  ],\n",
        "       [  2.83,  27.  ,   1.  ,   1.  ],\n",
        "       [  3.39,  17.  ,   1.  ,   1.  ],\n",
        "       [  2.67,  24.  ,   1.  ,   1.  ],\n",
        "       [  3.65,  21.  ,   1.  ,   1.  ],\n",
        "       [  4.  ,  23.  ,   1.  ,   1.  ],\n",
        "       [  3.1 ,  21.  ,   1.  ,   1.  ],\n",
        "       [  2.39,  19.  ,   1.  ,   1.  ]])"
       ]
      }
     ],
     "prompt_number": 252
    },
    {
     "cell_type": "code",
     "collapsed": false,
     "input": [
      "logit_mod = sm.Logit(spector_data.endog, spector_data.exog)"
     ],
     "language": "python",
     "metadata": {},
     "outputs": [],
     "prompt_number": 247
    },
    {
     "cell_type": "code",
     "collapsed": false,
     "input": [
      "logit_res = logit_mod.fit()"
     ],
     "language": "python",
     "metadata": {},
     "outputs": [
      {
       "output_type": "stream",
       "stream": "stdout",
       "text": [
        "Optimization terminated successfully.\n",
        "         Current function value: 0.402801\n",
        "         Iterations 7\n"
       ]
      }
     ],
     "prompt_number": 248
    },
    {
     "cell_type": "code",
     "collapsed": false,
     "input": [
      "logit_res.summary()"
     ],
     "language": "python",
     "metadata": {},
     "outputs": [
      {
       "html": [
        "<table class=\"simpletable\">\n",
        "<caption>Logit Regression Results</caption>\n",
        "<tr>\n",
        "  <th>Dep. Variable:</th>         <td>y</td>        <th>  No. Observations:  </th>  <td>    32</td> \n",
        "</tr>\n",
        "<tr>\n",
        "  <th>Model:</th>               <td>Logit</td>      <th>  Df Residuals:      </th>  <td>    28</td> \n",
        "</tr>\n",
        "<tr>\n",
        "  <th>Method:</th>               <td>MLE</td>       <th>  Df Model:          </th>  <td>     3</td> \n",
        "</tr>\n",
        "<tr>\n",
        "  <th>Date:</th>          <td>Thu, 23 Jan 2014</td> <th>  Pseudo R-squ.:     </th>  <td>0.3740</td> \n",
        "</tr>\n",
        "<tr>\n",
        "  <th>Time:</th>              <td>13:25:44</td>     <th>  Log-Likelihood:    </th> <td> -12.890</td>\n",
        "</tr>\n",
        "<tr>\n",
        "  <th>converged:</th>           <td>True</td>       <th>  LL-Null:           </th> <td> -20.592</td>\n",
        "</tr>\n",
        "<tr>\n",
        "  <th> </th>                      <td> </td>        <th>  LLR p-value:       </th> <td>0.001502</td>\n",
        "</tr>\n",
        "</table>\n",
        "<table class=\"simpletable\">\n",
        "<tr>\n",
        "    <td></td>       <th>coef</th>     <th>std err</th>      <th>z</th>      <th>P>|z|</th> <th>[95.0% Conf. Int.]</th> \n",
        "</tr>\n",
        "<tr>\n",
        "  <th>x1</th>    <td>    2.8261</td> <td>    1.263</td> <td>    2.238</td> <td> 0.025</td> <td>    0.351     5.301</td>\n",
        "</tr>\n",
        "<tr>\n",
        "  <th>x2</th>    <td>    0.0952</td> <td>    0.142</td> <td>    0.672</td> <td> 0.501</td> <td>   -0.182     0.373</td>\n",
        "</tr>\n",
        "<tr>\n",
        "  <th>x3</th>    <td>    2.3787</td> <td>    1.065</td> <td>    2.234</td> <td> 0.025</td> <td>    0.292     4.465</td>\n",
        "</tr>\n",
        "<tr>\n",
        "  <th>const</th> <td>  -13.0213</td> <td>    4.931</td> <td>   -2.641</td> <td> 0.008</td> <td>  -22.687    -3.356</td>\n",
        "</tr>\n",
        "</table>"
       ],
       "metadata": {},
       "output_type": "pyout",
       "prompt_number": 249,
       "text": [
        "<class 'statsmodels.iolib.summary.Summary'>\n",
        "\"\"\"\n",
        "                           Logit Regression Results                           \n",
        "==============================================================================\n",
        "Dep. Variable:                      y   No. Observations:                   32\n",
        "Model:                          Logit   Df Residuals:                       28\n",
        "Method:                           MLE   Df Model:                            3\n",
        "Date:                Thu, 23 Jan 2014   Pseudo R-squ.:                  0.3740\n",
        "Time:                        13:25:44   Log-Likelihood:                -12.890\n",
        "converged:                       True   LL-Null:                       -20.592\n",
        "                                        LLR p-value:                  0.001502\n",
        "==============================================================================\n",
        "                 coef    std err          z      P>|z|      [95.0% Conf. Int.]\n",
        "------------------------------------------------------------------------------\n",
        "x1             2.8261      1.263      2.238      0.025         0.351     5.301\n",
        "x2             0.0952      0.142      0.672      0.501        -0.182     0.373\n",
        "x3             2.3787      1.065      2.234      0.025         0.292     4.465\n",
        "const        -13.0213      4.931     -2.641      0.008       -22.687    -3.356\n",
        "==============================================================================\n",
        "\"\"\""
       ]
      }
     ],
     "prompt_number": 249
    }
   ],
   "metadata": {}
  }
 ]
}