{
 "metadata": {
  "name": ""
 },
 "nbformat": 3,
 "nbformat_minor": 0,
 "worksheets": [
  {
   "cells": [
    {
     "cell_type": "code",
     "collapsed": false,
     "input": [
      "import numpy as np\n",
      "import pandas as pd\n",
      "import statsmodels.formula.api as smf"
     ],
     "language": "python",
     "metadata": {},
     "outputs": [],
     "prompt_number": 1
    },
    {
     "cell_type": "markdown",
     "metadata": {},
     "source": [
      "Basic p-values under binomial distribution\n",
      "---"
     ]
    },
    {
     "cell_type": "markdown",
     "metadata": {},
     "source": [
      "If we flip a coin once, and get heads once, is it an unfair coin?"
     ]
    },
    {
     "cell_type": "code",
     "collapsed": false,
     "input": [
      "trials = 1\n",
      "successes = 1\n",
      "samples = 10000\n",
      "(np.random.binomial(trials,0.5,samples)==successes).mean()"
     ],
     "language": "python",
     "metadata": {},
     "outputs": [
      {
       "metadata": {},
       "output_type": "pyout",
       "prompt_number": 9,
       "text": [
        "0.50460000000000005"
       ]
      }
     ],
     "prompt_number": 9
    },
    {
     "cell_type": "markdown",
     "metadata": {},
     "source": [
      "What if we flip a coin 30 times and get heads 19 times?"
     ]
    },
    {
     "cell_type": "code",
     "collapsed": false,
     "input": [
      "trials = 30\n",
      "successes = 22\n",
      "samples = 100000\n",
      "p = (np.random.binomial(trials,0.5,samples)>=successes).mean()"
     ],
     "language": "python",
     "metadata": {},
     "outputs": [],
     "prompt_number": 4
    },
    {
     "cell_type": "code",
     "collapsed": false,
     "input": [
      "p"
     ],
     "language": "python",
     "metadata": {},
     "outputs": [
      {
       "metadata": {},
       "output_type": "pyout",
       "prompt_number": 5,
       "text": [
        "0.0077299999999999999"
       ]
      }
     ],
     "prompt_number": 5
    },
    {
     "cell_type": "markdown",
     "metadata": {},
     "source": [
      "This number is a **p-value**: the probability of observing this outcome (or a more extreme outcome) by chance.\n",
      "\n",
      "More generally, it's the probability of the \"null hypothesis.\" \n",
      "The null hypothesis must be defined for your experimental setting.\n",
      "In this case, it's that the coin is fair."
     ]
    },
    {
     "cell_type": "markdown",
     "metadata": {},
     "source": [
      "The number of successes out of a fixed number of random (IID) trials is given by the [binomial distribution](http://en.wikipedia.org/wiki/Binomial_distribution). \n",
      "Knowing this allows us to compute the probabilities in closed form, rather than through simulation as above."
     ]
    },
    {
     "cell_type": "code",
     "collapsed": false,
     "input": [
      "from scipy.stats import binom,norm\n",
      "import matplotlib.pyplot as plt"
     ],
     "language": "python",
     "metadata": {},
     "outputs": [],
     "prompt_number": 6
    },
    {
     "cell_type": "markdown",
     "metadata": {},
     "source": [
      "The probability mass function of the binomial distribution assigns probability to each possible event (number of successes in N trials)"
     ]
    },
    {
     "cell_type": "code",
     "collapsed": false,
     "input": [
      "plt.plot(binom.pmf(range(trials),trials,0.5),'b')"
     ],
     "language": "python",
     "metadata": {},
     "outputs": [
      {
       "metadata": {},
       "output_type": "pyout",
       "prompt_number": 101,
       "text": [
        "[<matplotlib.lines.Line2D at 0x40bced0>]"
       ]
      },
      {
       "metadata": {},
       "output_type": "display_data",
       "png": "[encoded data removed]",
       "text": [
        "<matplotlib.figure.Figure at 0x414d110>"
       ]
      }
     ],
     "prompt_number": 101
    },
    {
     "cell_type": "markdown",
     "metadata": {},
     "source": [
      "To test whether $k$ successes in $N$ trials could arise by chance from a distribution with probability $p$, we need the *cumulative density function* (CDF)"
     ]
    },
    {
     "cell_type": "code",
     "collapsed": false,
     "input": [
      "1 - binom.cdf(successes-1,trials,0.5)"
     ],
     "language": "python",
     "metadata": {},
     "outputs": [
      {
       "metadata": {},
       "output_type": "pyout",
       "prompt_number": 81,
       "text": [
        "0.10024421103298664"
       ]
      }
     ],
     "prompt_number": 81
    },
    {
     "cell_type": "code",
     "collapsed": false,
     "input": [
      "plt.plot(1-binom.cdf(range(30),30,0.5),'b')"
     ],
     "language": "python",
     "metadata": {},
     "outputs": [
      {
       "metadata": {},
       "output_type": "pyout",
       "prompt_number": 44,
       "text": [
        "[<matplotlib.lines.Line2D at 0x414c0d0>]"
       ]
      },
      {
       "metadata": {},
       "output_type": "display_data",
       "png": "[encoded data removed]",
       "text": [
        "<matplotlib.figure.Figure at 0x4132190>"
       ]
      }
     ],
     "prompt_number": 44
    },
    {
     "cell_type": "markdown",
     "metadata": {},
     "source": [
      "Gaussians and Z-scores\n",
      "---\n",
      "\n",
      "The [central limit theorem](http://en.wikipedia.org/wiki/Central_limit_theorem) ensures that the sum of a \n",
      "large number of IID random events will approach a Gaussian distribution. "
     ]
    },
    {
     "cell_type": "code",
     "collapsed": false,
     "input": [
      "def plotBinomAndNormal(p,trials):\n",
      "    x = range(trials)\n",
      "    plt.plot(x,binom.pmf(x,trials,p),'b')\n",
      "    mu = p * trials\n",
      "    var = p * (1-p) * trials\n",
      "    plt.plot(x,norm.pdf(x,mu,np.sqrt(var)),'r')\n",
      "    legend(['Binomial','Gaussian approximation'])"
     ],
     "language": "python",
     "metadata": {},
     "outputs": [],
     "prompt_number": 7
    },
    {
     "cell_type": "code",
     "collapsed": false,
     "input": [
      "plotBinomAndNormal(0.25,30)"
     ],
     "language": "python",
     "metadata": {},
     "outputs": [
      {
       "metadata": {},
       "output_type": "display_data",
       "png": "[encoded data removed]",
       "text": [
        "<matplotlib.figure.Figure at 0x33f6e10>"
       ]
      }
     ],
     "prompt_number": 11
    },
    {
     "cell_type": "code",
     "collapsed": false,
     "input": [
      "2 * (1 - norm.cdf(1))"
     ],
     "language": "python",
     "metadata": {},
     "outputs": [
      {
       "metadata": {},
       "output_type": "pyout",
       "prompt_number": 95,
       "text": [
        "0.31731050786291415"
       ]
      }
     ],
     "prompt_number": 95
    },
    {
     "cell_type": "markdown",
     "metadata": {},
     "source": [
      "Gaussians are widely useful, and it is worth memorizing some of their properties. \n",
      "\n",
      "- Gaussians are parametrized by a mean and a standard deviation\n",
      "- 2/3 of instances are within 1 standard deviation of the mean\n",
      "- 95% of instances are within 2 standard deviations of the mean\n",
      "- 99% of instances are within 2.6 standard deviations of the mean"
     ]
    },
    {
     "cell_type": "code",
     "collapsed": false,
     "input": [
      "print 2 * (1 - norm.cdf(1))\n",
      "print 2 * (1 - norm.cdf(2))\n",
      "print 2 * (1 - norm.cdf(2.6))"
     ],
     "language": "python",
     "metadata": {},
     "outputs": [
      {
       "output_type": "stream",
       "stream": "stdout",
       "text": [
        "0.317310507863\n",
        "0.0455002638964\n",
        "0.00932237604744\n"
       ]
      }
     ],
     "prompt_number": 99
    },
    {
     "cell_type": "markdown",
     "metadata": {},
     "source": [
      "The equation $\\frac{x - \\mu}{\\sigma}$ is the **z-score**, which can be converted to a **p-value** using the guidelines above"
     ]
    },
    {
     "cell_type": "markdown",
     "metadata": {},
     "source": [
      "Z-Tests\n",
      "---\n",
      "\n",
      "Do action movies make more money than comedies? \n",
      "We can try to answer this question with a Z-test.\n",
      "\n",
      "Here we are going to use dataframes, which are part of [Pandas](http://pandas.pydata.org/)"
     ]
    },
    {
     "cell_type": "code",
     "collapsed": false,
     "input": [
      "# first, read the CSV file into a data frame\n",
      "dat = pd.read_csv('movies_2010.csv')"
     ],
     "language": "python",
     "metadata": {},
     "outputs": [],
     "prompt_number": 13
    },
    {
     "cell_type": "markdown",
     "metadata": {},
     "source": [
      "Let's fit Gaussian distributions to the average gross for comedy and action films"
     ]
    },
    {
     "cell_type": "code",
     "collapsed": false,
     "input": [
      "# most of the horribleness in this syntax is because of the CSV file, not pandas\n",
      "com_gross = dat[dat[' \"Genre\"']=='Comedy'][' \"Gross\"']\n",
      "act_gross = dat[dat[' \"Genre\"']=='Action'][' \"Gross\"']"
     ],
     "language": "python",
     "metadata": {},
     "outputs": [],
     "prompt_number": 14
    },
    {
     "cell_type": "code",
     "collapsed": false,
     "input": [
      "mu_comedy =  com_gross.mean()\n",
      "mu_action = act_gross.mean()\n",
      "std_comedy = com_gross.std()\n",
      "std_action = act_gross.std()"
     ],
     "language": "python",
     "metadata": {},
     "outputs": [],
     "prompt_number": 16
    },
    {
     "cell_type": "markdown",
     "metadata": {},
     "source": [
      "Now we can plot these Gaussians"
     ]
    },
    {
     "cell_type": "code",
     "collapsed": false,
     "input": [
      "x = range(0,int(3 * max(mu_comedy,mu_action)),int(0.1*std_comedy))\n",
      "plot(x,norm.pdf(x,mu_comedy,std_comedy),'b')\n",
      "plot(x,norm.pdf(x,mu_action,std_action),'r')\n",
      "legend(['comedy','action'])"
     ],
     "language": "python",
     "metadata": {},
     "outputs": [
      {
       "metadata": {},
       "output_type": "pyout",
       "prompt_number": 18,
       "text": [
        "<matplotlib.legend.Legend at 0x32c83d0>"
       ]
      },
      {
       "metadata": {},
       "output_type": "display_data",
       "png": "[encoded data removed]",
       "text": [
        "<matplotlib.figure.Figure at 0x220f410>"
       ]
      }
     ],
     "prompt_number": 18
    },
    {
     "cell_type": "code",
     "collapsed": false,
     "input": [
      "fig = plt.boxplot([com_gross,act_gross])"
     ],
     "language": "python",
     "metadata": {},
     "outputs": [
      {
       "metadata": {},
       "output_type": "display_data",
       "png": "[encoded data removed]",
       "text": [
        "<matplotlib.figure.Figure at 0x4d3b090>"
       ]
      }
     ],
     "prompt_number": 185
    },
    {
     "cell_type": "code",
     "collapsed": false,
     "input": [
      "fig = plt.boxplot([np.log(com_gross),np.log(act_gross)])"
     ],
     "language": "python",
     "metadata": {},
     "outputs": [
      {
       "metadata": {},
       "output_type": "display_data",
       "png": "[encoded data removed]",
       "text": [
        "<matplotlib.figure.Figure at 0x340a290>"
       ]
      }
     ],
     "prompt_number": 19
    },
    {
     "cell_type": "code",
     "collapsed": false,
     "input": [
      "log_com_gross = np.log(com_gross)\n",
      "log_act_gross = np.log(act_gross)"
     ],
     "language": "python",
     "metadata": {},
     "outputs": [],
     "prompt_number": 20
    },
    {
     "cell_type": "code",
     "collapsed": false,
     "input": [
      "group_stdev = np.sqrt(log_com_gross.std()**2 + log_act_gross.std()**2)\n",
      "print \"std. dev = \",group_stdev"
     ],
     "language": "python",
     "metadata": {},
     "outputs": [
      {
       "output_type": "stream",
       "stream": "stdout",
       "text": [
        "std. dev =  4.92242844644\n"
       ]
      }
     ],
     "prompt_number": 21
    },
    {
     "cell_type": "code",
     "collapsed": false,
     "input": [
      "z = (log_com_gross.mean() - log_act_gross.mean()) / group_stdev\n",
      "print \"z = \",z\n",
      "print \"p = \",norm.cdf(z)"
     ],
     "language": "python",
     "metadata": {},
     "outputs": [
      {
       "output_type": "stream",
       "stream": "stdout",
       "text": [
        "z =  -0.364952852102\n",
        "p =  0.35757330045\n"
       ]
      }
     ],
     "prompt_number": 22
    },
    {
     "cell_type": "code",
     "collapsed": false,
     "input": [
      "log_doc_gross = np.log(dat[dat[' \"Genre\"']=='Documentary'][' \"Gross\"'])"
     ],
     "language": "python",
     "metadata": {},
     "outputs": [],
     "prompt_number": 23
    },
    {
     "cell_type": "code",
     "collapsed": false,
     "input": [
      "fig = plt.boxplot([log_com_gross,log_act_gross,log_doc_gross])\n",
      "plt.xticks([1,2,3],['Comedy','Action','Documentary'])\n",
      "plt.ylabel('Log gross')"
     ],
     "language": "python",
     "metadata": {},
     "outputs": [
      {
       "metadata": {},
       "output_type": "pyout",
       "prompt_number": 24,
       "text": [
        "<matplotlib.text.Text at 0x38c7ad0>"
       ]
      },
      {
       "metadata": {},
       "output_type": "display_data",
       "png": "[encoded data removed]",
       "text": [
        "<matplotlib.figure.Figure at 0x38ef650>"
       ]
      }
     ],
     "prompt_number": 24
    },
    {
     "cell_type": "code",
     "collapsed": false,
     "input": [
      "group_stdev = np.sqrt(log_doc_gross.std()**2 + log_act_gross.std()**2)\n",
      "z = (log_doc_gross.mean() - log_act_gross.mean()) / group_stdev\n",
      "print \"z = \",z\n",
      "print \"p = \",norm.cdf(z)"
     ],
     "language": "python",
     "metadata": {},
     "outputs": [
      {
       "output_type": "stream",
       "stream": "stdout",
       "text": [
        "z =  -1.15305836765\n",
        "p =  0.124443214089\n"
       ]
      }
     ],
     "prompt_number": 25
    },
    {
     "cell_type": "markdown",
     "metadata": {},
     "source": [
      "Correlations\n",
      "---\n",
      "\n",
      "Now we're going to look at relationships between data.\n",
      "\n",
      "For this, we'll load in the [Guerry](http://vincentarelbundock.github.io/Rdatasets/doc/HistData/Guerry.html) dataset, \n",
      "which is historical demographic data from France in the 1800s (very early quantitative social science!)"
     ]
    },
    {
     "cell_type": "code",
     "collapsed": false,
     "input": [
      "url = 'http://vincentarelbundock.github.io/Rdatasets/csv/HistData/Guerry.csv'\n",
      "dat = pd.read_csv(url)"
     ],
     "language": "python",
     "metadata": {},
     "outputs": [],
     "prompt_number": 26
    },
    {
     "cell_type": "markdown",
     "metadata": {},
     "source": [
      "Are the number of clergy correlated with the amount of crime?"
     ]
    },
    {
     "cell_type": "code",
     "collapsed": false,
     "input": [
      "fig = plt.scatter(dat['Clergy'],dat['Crime_pers'])\n",
      "plt.xlabel('Clergy rank (lower = more clergy)')\n",
      "plt.ylabel('Pop per crime (lower = more crime)')"
     ],
     "language": "python",
     "metadata": {},
     "outputs": [
      {
       "metadata": {},
       "output_type": "pyout",
       "prompt_number": 27,
       "text": [
        "<matplotlib.text.Text at 0x38e9190>"
       ]
      },
      {
       "metadata": {},
       "output_type": "display_data",
       "png": "[encoded data removed]",
       "text": [
        "<matplotlib.figure.Figure at 0x3708a10>"
       ]
      }
     ],
     "prompt_number": 27
    },
    {
     "cell_type": "code",
     "collapsed": false,
     "input": [
      "corr = dat['Clergy'].corr(dat['Crime_pers'])\n",
      "print \"Corr =\",corr"
     ],
     "language": "python",
     "metadata": {},
     "outputs": [
      {
       "output_type": "stream",
       "stream": "stdout",
       "text": [
        "Corr = 0.255535165672\n"
       ]
      }
     ],
     "prompt_number": 28
    },
    {
     "cell_type": "markdown",
     "metadata": {},
     "source": [
      "Apparently so! But is this correlation statistically significant? Is it the result of random chance?\n",
      "\n",
      "To answer this, we need to convert the correlation to a z-score. We do this using [Fisher's tranformation](http://en.wikipedia.org/wiki/Fisher_transformation)."
     ]
    },
    {
     "cell_type": "code",
     "collapsed": false,
     "input": [
      "N = len(dat['Clergy'])\n",
      "mu = np.arctanh(corr)\n",
      "std = 1. / sqrt(N-3)\n",
      "z = mu / std\n",
      "p = norm.cdf(- abs(z))\n",
      "print N,mu,std,z,p"
     ],
     "language": "python",
     "metadata": {},
     "outputs": [
      {
       "output_type": "stream",
       "stream": "stdout",
       "text": [
        "86 0.261325785219 0.10976425999 2.38079120876 0.00863775024285\n"
       ]
      }
     ],
     "prompt_number": 214
    },
    {
     "cell_type": "markdown",
     "metadata": {},
     "source": [
      "Answer: yes, this correlation is statistically significant at $p < .01$"
     ]
    },
    {
     "cell_type": "markdown",
     "metadata": {},
     "source": [
      "**Your turn**: check for another correlation in the data, again with Crime. You can see all the possible keys below, although not all of them are numerical."
     ]
    },
    {
     "cell_type": "code",
     "collapsed": false,
     "input": [
      "dat.keys()"
     ],
     "language": "python",
     "metadata": {},
     "outputs": [
      {
       "metadata": {},
       "output_type": "pyout",
       "prompt_number": 215,
       "text": [
        "Index([u'Unnamed: 0', u'dept', u'Region', u'Department', u'Crime_pers', u'Crime_prop', u'Literacy', u'Donations', u'Infants', u'Suicides', u'MainCity', u'Wealth', u'Commerce', u'Clergy', u'Crime_parents', u'Infanticide', u'Donation_clergy', u'Lottery', u'Desertion', u'Instruction', u'Prostitutes', u'Distance', u'Area', u'Pop1831'], dtype=object)"
       ]
      }
     ],
     "prompt_number": 215
    },
    {
     "cell_type": "markdown",
     "metadata": {},
     "source": [
      "Regression\n",
      "---\n",
      "\n",
      "Another way to look at the relationship between clergy and crime is through regression. \n",
      "\n",
      "- Here we are trying to find the linear relationship between the two variables. \n",
      "- We select one as the *dependent* variable, and try to predict it.\n",
      "- This is what statsmodel is good at"
     ]
    },
    {
     "cell_type": "code",
     "collapsed": false,
     "input": [
      "results = smf.ols('Distance ~ Clergy',data = dat).fit()"
     ],
     "language": "python",
     "metadata": {},
     "outputs": [],
     "prompt_number": 34
    },
    {
     "cell_type": "markdown",
     "metadata": {},
     "source": [
      "Now we can plot a best fit line"
     ]
    },
    {
     "cell_type": "code",
     "collapsed": false,
     "input": [
      "scatter(dat['Clergy'],dat['Distance'])\n",
      "x = linspace(min(dat['Clergy']),max(dat['Distance']),100)\n",
      "plot(x,x*results.params[1]+results.params[0],'r')"
     ],
     "language": "python",
     "metadata": {},
     "outputs": [
      {
       "metadata": {},
       "output_type": "pyout",
       "prompt_number": 35,
       "text": [
        "[<matplotlib.lines.Line2D at 0x3c66310>]"
       ]
      },
      {
       "metadata": {},
       "output_type": "display_data",
       "png": "[encoded data removed]",
       "text": [
        "<matplotlib.figure.Figure at 0x3c85790>"
       ]
      }
     ],
     "prompt_number": 35
    },
    {
     "cell_type": "code",
     "collapsed": false,
     "input": [
      "# and we can see all these statistics\n",
      "results.summary()"
     ],
     "language": "python",
     "metadata": {},
     "outputs": [
      {
       "html": [
        "<table class=\"simpletable\">\n",
        "<caption>OLS Regression Results</caption>\n",
        "<tr>\n",
        "  <th>Dep. Variable:</th>       <td>Crime_pers</td>    <th>  R-squared:         </th> <td>   0.065</td>\n",
        "</tr>\n",
        "<tr>\n",
        "  <th>Model:</th>                   <td>OLS</td>       <th>  Adj. R-squared:    </th> <td>   0.054</td>\n",
        "</tr>\n",
        "<tr>\n",
        "  <th>Method:</th>             <td>Least Squares</td>  <th>  F-statistic:       </th> <td>   5.868</td>\n",
        "</tr>\n",
        "<tr>\n",
        "  <th>Date:</th>             <td>Thu, 23 Jan 2014</td> <th>  Prob (F-statistic):</th>  <td>0.0176</td> \n",
        "</tr>\n",
        "<tr>\n",
        "  <th>Time:</th>                 <td>13:12:21</td>     <th>  Log-Likelihood:    </th> <td> -886.02</td>\n",
        "</tr>\n",
        "<tr>\n",
        "  <th>No. Observations:</th>      <td>    86</td>      <th>  AIC:               </th> <td>   1776.</td>\n",
        "</tr>\n",
        "<tr>\n",
        "  <th>Df Residuals:</th>          <td>    84</td>      <th>  BIC:               </th> <td>   1781.</td>\n",
        "</tr>\n",
        "<tr>\n",
        "  <th>Df Model:</th>              <td>     1</td>      <th>                     </th>     <td> </td>   \n",
        "</tr>\n",
        "</table>\n",
        "<table class=\"simpletable\">\n",
        "<tr>\n",
        "      <td></td>         <th>coef</th>     <th>std err</th>      <th>t</th>      <th>P>|t|</th> <th>[95.0% Conf. Int.]</th> \n",
        "</tr>\n",
        "<tr>\n",
        "  <th>Intercept</th> <td> 1.642e+04</td> <td> 1584.551</td> <td>   10.364</td> <td> 0.000</td> <td> 1.33e+04  1.96e+04</td>\n",
        "</tr>\n",
        "<tr>\n",
        "  <th>Clergy</th>    <td>   76.7100</td> <td>   31.666</td> <td>    2.422</td> <td> 0.018</td> <td>   13.738   139.682</td>\n",
        "</tr>\n",
        "</table>\n",
        "<table class=\"simpletable\">\n",
        "<tr>\n",
        "  <th>Omnibus:</th>       <td> 3.184</td> <th>  Durbin-Watson:     </th> <td>   1.656</td>\n",
        "</tr>\n",
        "<tr>\n",
        "  <th>Prob(Omnibus):</th> <td> 0.203</td> <th>  Jarque-Bera (JB):  </th> <td>   2.338</td>\n",
        "</tr>\n",
        "<tr>\n",
        "  <th>Skew:</th>          <td> 0.244</td> <th>  Prob(JB):          </th> <td>   0.311</td>\n",
        "</tr>\n",
        "<tr>\n",
        "  <th>Kurtosis:</th>      <td> 2.356</td> <th>  Cond. No.          </th> <td>    101.</td>\n",
        "</tr>\n",
        "</table>"
       ],
       "metadata": {},
       "output_type": "pyout",
       "prompt_number": 222,
       "text": [
        "<class 'statsmodels.iolib.summary.Summary'>\n",
        "\"\"\"\n",
        "                            OLS Regression Results                            \n",
        "==============================================================================\n",
        "Dep. Variable:             Crime_pers   R-squared:                       0.065\n",
        "Model:                            OLS   Adj. R-squared:                  0.054\n",
        "Method:                 Least Squares   F-statistic:                     5.868\n",
        "Date:                Thu, 23 Jan 2014   Prob (F-statistic):             0.0176\n",
        "Time:                        13:12:21   Log-Likelihood:                -886.02\n",
        "No. Observations:                  86   AIC:                             1776.\n",
        "Df Residuals:                      84   BIC:                             1781.\n",
        "Df Model:                           1                                         \n",
        "==============================================================================\n",
        "                 coef    std err          t      P>|t|      [95.0% Conf. Int.]\n",
        "------------------------------------------------------------------------------\n",
        "Intercept   1.642e+04   1584.551     10.364      0.000      1.33e+04  1.96e+04\n",
        "Clergy        76.7100     31.666      2.422      0.018        13.738   139.682\n",
        "==============================================================================\n",
        "Omnibus:                        3.184   Durbin-Watson:                   1.656\n",
        "Prob(Omnibus):                  0.203   Jarque-Bera (JB):                2.338\n",
        "Skew:                           0.244   Prob(JB):                        0.311\n",
        "Kurtosis:                       2.356   Cond. No.                         101.\n",
        "==============================================================================\n",
        "\"\"\""
       ]
      }
     ],
     "prompt_number": 222
    },
    {
     "cell_type": "markdown",
     "metadata": {},
     "source": [
      "Multiple regression\n",
      "---\n",
      "\n",
      "But the cool thing about regression is how it allows you to weight multiple predictive factors"
     ]
    },
    {
     "cell_type": "code",
     "collapsed": false,
     "input": [
      "results = smf.ols('Crime_pers ~ Region + Clergy + Infants + Literacy + Distance',data = dat).fit()"
     ],
     "language": "python",
     "metadata": {},
     "outputs": [],
     "prompt_number": 36
    },
    {
     "cell_type": "code",
     "collapsed": false,
     "input": [
      "results.summary()"
     ],
     "language": "python",
     "metadata": {},
     "outputs": [
      {
       "html": [
        "<table class=\"simpletable\">\n",
        "<caption>OLS Regression Results</caption>\n",
        "<tr>\n",
        "  <th>Dep. Variable:</th>       <td>Crime_pers</td>    <th>  R-squared:         </th> <td>   0.359</td>\n",
        "</tr>\n",
        "<tr>\n",
        "  <th>Model:</th>                   <td>OLS</td>       <th>  Adj. R-squared:    </th> <td>   0.292</td>\n",
        "</tr>\n",
        "<tr>\n",
        "  <th>Method:</th>             <td>Least Squares</td>  <th>  F-statistic:       </th> <td>   5.328</td>\n",
        "</tr>\n",
        "<tr>\n",
        "  <th>Date:</th>             <td>Thu, 23 Jan 2014</td> <th>  Prob (F-statistic):</th> <td>2.55e-05</td>\n",
        "</tr>\n",
        "<tr>\n",
        "  <th>Time:</th>                 <td>15:59:13</td>     <th>  Log-Likelihood:    </th> <td> -857.30</td>\n",
        "</tr>\n",
        "<tr>\n",
        "  <th>No. Observations:</th>      <td>    85</td>      <th>  AIC:               </th> <td>   1733.</td>\n",
        "</tr>\n",
        "<tr>\n",
        "  <th>Df Residuals:</th>          <td>    76</td>      <th>  BIC:               </th> <td>   1755.</td>\n",
        "</tr>\n",
        "<tr>\n",
        "  <th>Df Model:</th>              <td>     8</td>      <th>                     </th>     <td> </td>   \n",
        "</tr>\n",
        "</table>\n",
        "<table class=\"simpletable\">\n",
        "<tr>\n",
        "       <td></td>          <th>coef</th>     <th>std err</th>      <th>t</th>      <th>P>|t|</th> <th>[95.0% Conf. Int.]</th> \n",
        "</tr>\n",
        "<tr>\n",
        "  <th>Intercept</th>   <td> 2.859e+04</td> <td> 4513.444</td> <td>    6.333</td> <td> 0.000</td> <td> 1.96e+04  3.76e+04</td>\n",
        "</tr>\n",
        "<tr>\n",
        "  <th>Region[T.E]</th> <td> 1474.9384</td> <td> 2986.508</td> <td>    0.494</td> <td> 0.623</td> <td>-4473.209  7423.085</td>\n",
        "</tr>\n",
        "<tr>\n",
        "  <th>Region[T.N]</th> <td> 1190.7603</td> <td> 2787.903</td> <td>    0.427</td> <td> 0.671</td> <td>-4361.830  6743.350</td>\n",
        "</tr>\n",
        "<tr>\n",
        "  <th>Region[T.S]</th> <td>-6335.1283</td> <td> 3167.340</td> <td>   -2.000</td> <td> 0.049</td> <td>-1.26e+04   -26.823</td>\n",
        "</tr>\n",
        "<tr>\n",
        "  <th>Region[T.W]</th> <td> 1843.8182</td> <td> 2517.015</td> <td>    0.733</td> <td> 0.466</td> <td>-3169.252  6856.888</td>\n",
        "</tr>\n",
        "<tr>\n",
        "  <th>Clergy</th>      <td>   -0.1184</td> <td>   31.143</td> <td>   -0.004</td> <td> 0.997</td> <td>  -62.144    61.907</td>\n",
        "</tr>\n",
        "<tr>\n",
        "  <th>Infants</th>     <td>   -0.0237</td> <td>    0.090</td> <td>   -0.262</td> <td> 0.794</td> <td>   -0.204     0.156</td>\n",
        "</tr>\n",
        "<tr>\n",
        "  <th>Literacy</th>    <td>  -96.3412</td> <td>   63.186</td> <td>   -1.525</td> <td> 0.131</td> <td> -222.187    29.504</td>\n",
        "</tr>\n",
        "<tr>\n",
        "  <th>Distance</th>    <td>  -19.7678</td> <td>   12.199</td> <td>   -1.620</td> <td> 0.109</td> <td>  -44.065     4.530</td>\n",
        "</tr>\n",
        "</table>\n",
        "<table class=\"simpletable\">\n",
        "<tr>\n",
        "  <th>Omnibus:</th>       <td> 2.464</td> <th>  Durbin-Watson:     </th> <td>   1.749</td>\n",
        "</tr>\n",
        "<tr>\n",
        "  <th>Prob(Omnibus):</th> <td> 0.292</td> <th>  Jarque-Bera (JB):  </th> <td>   2.238</td>\n",
        "</tr>\n",
        "<tr>\n",
        "  <th>Skew:</th>          <td> 0.303</td> <th>  Prob(JB):          </th> <td>   0.327</td>\n",
        "</tr>\n",
        "<tr>\n",
        "  <th>Kurtosis:</th>      <td> 2.484</td> <th>  Cond. No.          </th> <td>1.58e+05</td>\n",
        "</tr>\n",
        "</table>"
       ],
       "metadata": {},
       "output_type": "pyout",
       "prompt_number": 37,
       "text": [
        "<class 'statsmodels.iolib.summary.Summary'>\n",
        "\"\"\"\n",
        "                            OLS Regression Results                            \n",
        "==============================================================================\n",
        "Dep. Variable:             Crime_pers   R-squared:                       0.359\n",
        "Model:                            OLS   Adj. R-squared:                  0.292\n",
        "Method:                 Least Squares   F-statistic:                     5.328\n",
        "Date:                Thu, 23 Jan 2014   Prob (F-statistic):           2.55e-05\n",
        "Time:                        15:59:13   Log-Likelihood:                -857.30\n",
        "No. Observations:                  85   AIC:                             1733.\n",
        "Df Residuals:                      76   BIC:                             1755.\n",
        "Df Model:                           8                                         \n",
        "===============================================================================\n",
        "                  coef    std err          t      P>|t|      [95.0% Conf. Int.]\n",
        "-------------------------------------------------------------------------------\n",
        "Intercept    2.859e+04   4513.444      6.333      0.000      1.96e+04  3.76e+04\n",
        "Region[T.E]  1474.9384   2986.508      0.494      0.623     -4473.209  7423.085\n",
        "Region[T.N]  1190.7603   2787.903      0.427      0.671     -4361.830  6743.350\n",
        "Region[T.S] -6335.1283   3167.340     -2.000      0.049     -1.26e+04   -26.823\n",
        "Region[T.W]  1843.8182   2517.015      0.733      0.466     -3169.252  6856.888\n",
        "Clergy         -0.1184     31.143     -0.004      0.997       -62.144    61.907\n",
        "Infants        -0.0237      0.090     -0.262      0.794        -0.204     0.156\n",
        "Literacy      -96.3412     63.186     -1.525      0.131      -222.187    29.504\n",
        "Distance      -19.7678     12.199     -1.620      0.109       -44.065     4.530\n",
        "==============================================================================\n",
        "Omnibus:                        2.464   Durbin-Watson:                   1.749\n",
        "Prob(Omnibus):                  0.292   Jarque-Bera (JB):                2.238\n",
        "Skew:                           0.303   Prob(JB):                        0.327\n",
        "Kurtosis:                       2.484   Cond. No.                     1.58e+05\n",
        "==============================================================================\n",
        "\n",
        "Warnings:\n",
        "[1] The condition number is large, 1.58e+05. This might indicate that there are\n",
        "strong multicollinearity or other numerical problems.\n",
        "\"\"\""
       ]
      }
     ],
     "prompt_number": 37
    },
    {
     "cell_type": "markdown",
     "metadata": {},
     "source": [
      "Predicting categorical variables\n",
      "---\n",
      "\n",
      "Finally, we can try to predict categorical variables. "
     ]
    },
    {
     "cell_type": "code",
     "collapsed": false,
     "input": [
      "import statsmodels.api as sm"
     ],
     "language": "python",
     "metadata": {},
     "outputs": [],
     "prompt_number": 244
    },
    {
     "cell_type": "code",
     "collapsed": false,
     "input": [
      "spector_data = sm.datasets.spector.load()\n",
      "spector_data.exog = sm.add_constant(spector_data.exog, prepend=False)"
     ],
     "language": "python",
     "metadata": {},
     "outputs": [],
     "prompt_number": 246
    },
    {
     "cell_type": "code",
     "collapsed": false,
     "input": [
      "spector_data.endog"
     ],
     "language": "python",
     "metadata": {},
     "outputs": [
      {
       "metadata": {},
       "output_type": "pyout",
       "prompt_number": 251,
       "text": [
        "array([ 0.,  0.,  0.,  0.,  1.,  0.,  0.,  0.,  0.,  1.,  0.,  0.,  0.,\n",
        "        1.,  0.,  0.,  0.,  0.,  0.,  1.,  0.,  1.,  0.,  0.,  1.,  1.,\n",
        "        1.,  0.,  1.,  1.,  0.,  1.])"
       ]
      }
     ],
     "prompt_number": 251
    },
    {
     "cell_type": "code",
     "collapsed": false,
     "input": [
      "spector_data.exog"
     ],
     "language": "python",
     "metadata": {},
     "outputs": [
      {
       "metadata": {},
       "output_type": "pyout",
       "prompt_number": 252,
       "text": [
        "array([[  2.66,  20.  ,   0.  ,   1.  ],\n",
        "       [  2.89,  22.  ,   0.  ,   1.  ],\n",
        "       [  3.28,  24.  ,   0.  ,   1.  ],\n",
        "       [  2.92,  12.  ,   0.  ,   1.  ],\n",
        "       [  4.  ,  21.  ,   0.  ,   1.  ],\n",
        "       [  2.86,  17.  ,   0.  ,   1.  ],\n",
        "       [  2.76,  17.  ,   0.  ,   1.  ],\n",
        "       [  2.87,  21.  ,   0.  ,   1.  ],\n",
        "       [  3.03,  25.  ,   0.  ,   1.  ],\n",
        "       [  3.92,  29.  ,   0.  ,   1.  ],\n",
        "       [  2.63,  20.  ,   0.  ,   1.  ],\n",
        "       [  3.32,  23.  ,   0.  ,   1.  ],\n",
        "       [  3.57,  23.  ,   0.  ,   1.  ],\n",
        "       [  3.26,  25.  ,   0.  ,   1.  ],\n",
        "       [  3.53,  26.  ,   0.  ,   1.  ],\n",
        "       [  2.74,  19.  ,   0.  ,   1.  ],\n",
        "       [  2.75,  25.  ,   0.  ,   1.  ],\n",
        "       [  2.83,  19.  ,   0.  ,   1.  ],\n",
        "       [  3.12,  23.  ,   1.  ,   1.  ],\n",
        "       [  3.16,  25.  ,   1.  ,   1.  ],\n",
        "       [  2.06,  22.  ,   1.  ,   1.  ],\n",
        "       [  3.62,  28.  ,   1.  ,   1.  ],\n",
        "       [  2.89,  14.  ,   1.  ,   1.  ],\n",
        "       [  3.51,  26.  ,   1.  ,   1.  ],\n",
        "       [  3.54,  24.  ,   1.  ,   1.  ],\n",
        "       [  2.83,  27.  ,   1.  ,   1.  ],\n",
        "       [  3.39,  17.  ,   1.  ,   1.  ],\n",
        "       [  2.67,  24.  ,   1.  ,   1.  ],\n",
        "       [  3.65,  21.  ,   1.  ,   1.  ],\n",
        "       [  4.  ,  23.  ,   1.  ,   1.  ],\n",
        "       [  3.1 ,  21.  ,   1.  ,   1.  ],\n",
        "       [  2.39,  19.  ,   1.  ,   1.  ]])"
       ]
      }
     ],
     "prompt_number": 252
    },
    {
     "cell_type": "code",
     "collapsed": false,
     "input": [
      "logit_mod = sm.Logit(spector_data.endog, spector_data.exog)"
     ],
     "language": "python",
     "metadata": {},
     "outputs": [],
     "prompt_number": 247
    },
    {
     "cell_type": "code",
     "collapsed": false,
     "input": [
      "logit_res = logit_mod.fit()"
     ],
     "language": "python",
     "metadata": {},
     "outputs": [
      {
       "output_type": "stream",
       "stream": "stdout",
       "text": [
        "Optimization terminated successfully.\n",
        "         Current function value: 0.402801\n",
        "         Iterations 7\n"
       ]
      }
     ],
     "prompt_number": 248
    },
    {
     "cell_type": "code",
     "collapsed": false,
     "input": [
      "logit_res.summary()"
     ],
     "language": "python",
     "metadata": {},
     "outputs": [
      {
       "html": [
        "<table class=\"simpletable\">\n",
        "<caption>Logit Regression Results</caption>\n",
        "<tr>\n",
        "  <th>Dep. Variable:</th>         <td>y</td>        <th>  No. Observations:  </th>  <td>    32</td> \n",
        "</tr>\n",
        "<tr>\n",
        "  <th>Model:</th>               <td>Logit</td>      <th>  Df Residuals:      </th>  <td>    28</td> \n",
        "</tr>\n",
        "<tr>\n",
        "  <th>Method:</th>               <td>MLE</td>       <th>  Df Model:          </th>  <td>     3</td> \n",
        "</tr>\n",
        "<tr>\n",
        "  <th>Date:</th>          <td>Thu, 23 Jan 2014</td> <th>  Pseudo R-squ.:     </th>  <td>0.3740</td> \n",
        "</tr>\n",
        "<tr>\n",
        "  <th>Time:</th>              <td>13:25:44</td>     <th>  Log-Likelihood:    </th> <td> -12.890</td>\n",
        "</tr>\n",
        "<tr>\n",
        "  <th>converged:</th>           <td>True</td>       <th>  LL-Null:           </th> <td> -20.592</td>\n",
        "</tr>\n",
        "<tr>\n",
        "  <th> </th>                      <td> </td>        <th>  LLR p-value:       </th> <td>0.001502</td>\n",
        "</tr>\n",
        "</table>\n",
        "<table class=\"simpletable\">\n",
        "<tr>\n",
        "    <td></td>       <th>coef</th>     <th>std err</th>      <th>z</th>      <th>P>|z|</th> <th>[95.0% Conf. Int.]</th> \n",
        "</tr>\n",
        "<tr>\n",
        "  <th>x1</th>    <td>    2.8261</td> <td>    1.263</td> <td>    2.238</td> <td> 0.025</td> <td>    0.351     5.301</td>\n",
        "</tr>\n",
        "<tr>\n",
        "  <th>x2</th>    <td>    0.0952</td> <td>    0.142</td> <td>    0.672</td> <td> 0.501</td> <td>   -0.182     0.373</td>\n",
        "</tr>\n",
        "<tr>\n",
        "  <th>x3</th>    <td>    2.3787</td> <td>    1.065</td> <td>    2.234</td> <td> 0.025</td> <td>    0.292     4.465</td>\n",
        "</tr>\n",
        "<tr>\n",
        "  <th>const</th> <td>  -13.0213</td> <td>    4.931</td> <td>   -2.641</td> <td> 0.008</td> <td>  -22.687    -3.356</td>\n",
        "</tr>\n",
        "</table>"
       ],
       "metadata": {},
       "output_type": "pyout",
       "prompt_number": 249,
       "text": [
        "<class 'statsmodels.iolib.summary.Summary'>\n",
        "\"\"\"\n",
        "                           Logit Regression Results                           \n",
        "==============================================================================\n",
        "Dep. Variable:                      y   No. Observations:                   32\n",
        "Model:                          Logit   Df Residuals:                       28\n",
        "Method:                           MLE   Df Model:                            3\n",
        "Date:                Thu, 23 Jan 2014   Pseudo R-squ.:                  0.3740\n",
        "Time:                        13:25:44   Log-Likelihood:                -12.890\n",
        "converged:                       True   LL-Null:                       -20.592\n",
        "                                        LLR p-value:                  0.001502\n",
        "==============================================================================\n",
        "                 coef    std err          z      P>|z|      [95.0% Conf. Int.]\n",
        "------------------------------------------------------------------------------\n",
        "x1             2.8261      1.263      2.238      0.025         0.351     5.301\n",
        "x2             0.0952      0.142      0.672      0.501        -0.182     0.373\n",
        "x3             2.3787      1.065      2.234      0.025         0.292     4.465\n",
        "const        -13.0213      4.931     -2.641      0.008       -22.687    -3.356\n",
        "==============================================================================\n",
        "\"\"\""
       ]
      }
     ],
     "prompt_number": 249
    }
   ],
   "metadata": {}
  }
 ]
}