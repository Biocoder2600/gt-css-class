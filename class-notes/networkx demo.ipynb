{
 "metadata": {
  "name": "",
  "signature": "sha256:7ba089805ead20b78feaef7b52fae0089235f265927694de1fa9b74e47a1f42a"
 },
 "nbformat": 3,
 "nbformat_minor": 0,
 "worksheets": [
  {
   "cells": [
    {
     "cell_type": "code",
     "collapsed": false,
     "input": [
      "import networkx as nx"
     ],
     "language": "python",
     "metadata": {},
     "outputs": [],
     "prompt_number": 51
    },
    {
     "cell_type": "code",
     "collapsed": false,
     "input": [
      "G = nx.karate_club_graph()"
     ],
     "language": "python",
     "metadata": {},
     "outputs": [],
     "prompt_number": 106
    },
    {
     "cell_type": "markdown",
     "metadata": {},
     "source": [
      "We can represent a graph as a list of *edges*, where each edge is a tuple of nodes. \n",
      "\n",
      "If the tuple is ordered, than the graph is directed."
     ]
    },
    {
     "cell_type": "code",
     "collapsed": false,
     "input": [
      "G.edges()"
     ],
     "language": "python",
     "metadata": {},
     "outputs": [
      {
       "metadata": {},
       "output_type": "pyout",
       "prompt_number": 107,
       "text": [
        "[(0, 1),\n",
        " (0, 2),\n",
        " (0, 3),\n",
        " (0, 4),\n",
        " (0, 5),\n",
        " (0, 6),\n",
        " (0, 7),\n",
        " (0, 8),\n",
        " (0, 10),\n",
        " (0, 11),\n",
        " (0, 12),\n",
        " (0, 13),\n",
        " (0, 17),\n",
        " (0, 19),\n",
        " (0, 21),\n",
        " (0, 31),\n",
        " (1, 2),\n",
        " (1, 3),\n",
        " (1, 7),\n",
        " (1, 13),\n",
        " (1, 17),\n",
        " (1, 19),\n",
        " (1, 21),\n",
        " (1, 30),\n",
        " (2, 3),\n",
        " (2, 32),\n",
        " (2, 7),\n",
        " (2, 8),\n",
        " (2, 9),\n",
        " (2, 13),\n",
        " (2, 27),\n",
        " (2, 28),\n",
        " (3, 7),\n",
        " (3, 12),\n",
        " (3, 13),\n",
        " (4, 10),\n",
        " (4, 6),\n",
        " (5, 16),\n",
        " (5, 10),\n",
        " (5, 6),\n",
        " (6, 16),\n",
        " (8, 32),\n",
        " (8, 30),\n",
        " (8, 33),\n",
        " (9, 33),\n",
        " (13, 33),\n",
        " (14, 32),\n",
        " (14, 33),\n",
        " (15, 32),\n",
        " (15, 33),\n",
        " (18, 32),\n",
        " (18, 33),\n",
        " (19, 33),\n",
        " (20, 32),\n",
        " (20, 33),\n",
        " (22, 32),\n",
        " (22, 33),\n",
        " (23, 32),\n",
        " (23, 25),\n",
        " (23, 27),\n",
        " (23, 29),\n",
        " (23, 33),\n",
        " (24, 25),\n",
        " (24, 27),\n",
        " (24, 31),\n",
        " (25, 31),\n",
        " (26, 33),\n",
        " (26, 29),\n",
        " (27, 33),\n",
        " (28, 33),\n",
        " (28, 31),\n",
        " (29, 32),\n",
        " (29, 33),\n",
        " (30, 33),\n",
        " (30, 32),\n",
        " (31, 33),\n",
        " (31, 32),\n",
        " (32, 33)]"
       ]
      }
     ],
     "prompt_number": 107
    },
    {
     "cell_type": "markdown",
     "metadata": {},
     "source": [
      "Alternatively, we can represent a graph as an adjacency matrix, where $M_{ij} = 1$ iff $(i,j) \\in G$.\n",
      "\n",
      "If the graph is directed, then the matrix can be asymmetric."
     ]
    },
    {
     "cell_type": "code",
     "collapsed": false,
     "input": [
      "nx.adj_matrix(G)"
     ],
     "language": "python",
     "metadata": {},
     "outputs": [
      {
       "metadata": {},
       "output_type": "pyout",
       "prompt_number": 108,
       "text": [
        "matrix([[ 0.,  1.,  1., ...,  1.,  0.,  0.],\n",
        "        [ 1.,  0.,  1., ...,  0.,  0.,  0.],\n",
        "        [ 1.,  1.,  0., ...,  0.,  1.,  0.],\n",
        "        ..., \n",
        "        [ 1.,  0.,  0., ...,  0.,  1.,  1.],\n",
        "        [ 0.,  0.,  1., ...,  1.,  0.,  1.],\n",
        "        [ 0.,  0.,  0., ...,  1.,  1.,  0.]])"
       ]
      }
     ],
     "prompt_number": 108
    },
    {
     "cell_type": "code",
     "collapsed": false,
     "input": [
      "%pylab inline"
     ],
     "language": "python",
     "metadata": {},
     "outputs": [
      {
       "output_type": "stream",
       "stream": "stdout",
       "text": [
        "Populating the interactive namespace from numpy and matplotlib\n"
       ]
      }
     ],
     "prompt_number": 109
    },
    {
     "cell_type": "code",
     "collapsed": false,
     "input": [
      "pos=nx.spring_layout(G,iterations=100)\n",
      "nx.draw(G,pos,node_size=300,with_labels=True)"
     ],
     "language": "python",
     "metadata": {},
     "outputs": [
      {
       "metadata": {},
       "output_type": "display_data",
       "png": "[encoded data removed]",
       "text": [
        "<matplotlib.figure.Figure at 0x7f5c16dd7b90>"
       ]
      }
     ],
     "prompt_number": 113
    },
    {
     "cell_type": "markdown",
     "metadata": {},
     "source": [
      "# Paths #"
     ]
    },
    {
     "cell_type": "code",
     "collapsed": false,
     "input": [
      "nx.has_path(G,0,22)"
     ],
     "language": "python",
     "metadata": {},
     "outputs": [
      {
       "metadata": {},
       "output_type": "pyout",
       "prompt_number": 85,
       "text": [
        "True"
       ]
      }
     ],
     "prompt_number": 85
    },
    {
     "cell_type": "code",
     "collapsed": false,
     "input": [
      "M = nx.adj_matrix(G)"
     ],
     "language": "python",
     "metadata": {},
     "outputs": [],
     "prompt_number": 86
    },
    {
     "cell_type": "code",
     "collapsed": false,
     "input": [
      "M[0,22]"
     ],
     "language": "python",
     "metadata": {},
     "outputs": [
      {
       "metadata": {},
       "output_type": "pyout",
       "prompt_number": 87,
       "text": [
        "0.0"
       ]
      }
     ],
     "prompt_number": 87
    },
    {
     "cell_type": "code",
     "collapsed": false,
     "input": [
      "(M*M)[0,22]"
     ],
     "language": "python",
     "metadata": {},
     "outputs": [
      {
       "metadata": {},
       "output_type": "pyout",
       "prompt_number": 88,
       "text": [
        "0.0"
       ]
      }
     ],
     "prompt_number": 88
    },
    {
     "cell_type": "code",
     "collapsed": false,
     "input": [
      "(M*M*M)[0,22]"
     ],
     "language": "python",
     "metadata": {},
     "outputs": [
      {
       "metadata": {},
       "output_type": "pyout",
       "prompt_number": 89,
       "text": [
        "7.0"
       ]
      }
     ],
     "prompt_number": 89
    },
    {
     "cell_type": "code",
     "collapsed": false,
     "input": [
      "nx.shortest_path_length(G,1,23)"
     ],
     "language": "python",
     "metadata": {},
     "outputs": [
      {
       "metadata": {},
       "output_type": "pyout",
       "prompt_number": 90,
       "text": [
        "3"
       ]
      }
     ],
     "prompt_number": 90
    },
    {
     "cell_type": "markdown",
     "metadata": {},
     "source": [
      "## Cycles ##"
     ]
    },
    {
     "cell_type": "code",
     "collapsed": false,
     "input": [
      "print nx.cycle_basis(G)"
     ],
     "language": "python",
     "metadata": {},
     "outputs": [
      {
       "output_type": "stream",
       "stream": "stdout",
       "text": [
        "[[33, 28, 31], [2, 28, 31, 0], [24, 25, 31], [32, 23, 25, 31], [33, 23, 25, 31], [32, 29, 23], [33, 29, 23], [33, 26, 29], [24, 27, 23, 25], [33, 27, 23], [2, 27, 23, 25, 31, 0], [33, 32, 31], [2, 32, 31, 0], [8, 32, 31, 0], [8, 30, 32], [1, 30, 32, 31, 0], [33, 30, 32], [33, 22, 32], [33, 20, 32], [33, 18, 32], [33, 15, 32], [33, 14, 32], [8, 33, 31, 0], [13, 33, 31, 0], [19, 33, 31, 0], [2, 9, 33, 31, 0], [1, 21, 0], [1, 19, 0], [1, 17, 0], [1, 13, 0], [2, 13, 0], [3, 13, 0], [3, 12, 0], [4, 10, 0], [5, 10, 0], [2, 8, 0], [1, 7, 0], [2, 7, 0], [3, 7, 0], [4, 6, 0], [5, 6, 0], [5, 16, 6], [1, 3, 0], [2, 3, 0], [1, 2, 0]]\n"
       ]
      }
     ],
     "prompt_number": 104
    },
    {
     "cell_type": "code",
     "collapsed": false,
     "input": [
      "print \"num len 3 cycles:\",len([c for c in nx.cycles.cycle_basis(G) if len(c)==3])"
     ],
     "language": "python",
     "metadata": {},
     "outputs": [
      {
       "output_type": "stream",
       "stream": "stdout",
       "text": [
        "num len 3 cycles: 33\n"
       ]
      }
     ],
     "prompt_number": 92
    },
    {
     "cell_type": "code",
     "collapsed": false,
     "input": [
      "print np.trace(M*M*M)"
     ],
     "language": "python",
     "metadata": {},
     "outputs": [
      {
       "output_type": "stream",
       "stream": "stdout",
       "text": [
        "270.0\n"
       ]
      }
     ],
     "prompt_number": 102
    },
    {
     "cell_type": "markdown",
     "metadata": {},
     "source": [
      "## Connected components ##"
     ]
    },
    {
     "cell_type": "code",
     "collapsed": false,
     "input": [
      "nx.is_connected(G)"
     ],
     "language": "python",
     "metadata": {},
     "outputs": [
      {
       "metadata": {},
       "output_type": "pyout",
       "prompt_number": 49,
       "text": [
        "True"
       ]
      }
     ],
     "prompt_number": 49
    },
    {
     "cell_type": "code",
     "collapsed": false,
     "input": [
      "print len(nx.components.connected_components(G))"
     ],
     "language": "python",
     "metadata": {},
     "outputs": [
      {
       "output_type": "stream",
       "stream": "stdout",
       "text": [
        "1\n"
       ]
      }
     ],
     "prompt_number": 41
    },
    {
     "cell_type": "code",
     "collapsed": false,
     "input": [
      "G.remove_edge()"
     ],
     "language": "python",
     "metadata": {},
     "outputs": []
    },
    {
     "cell_type": "markdown",
     "metadata": {},
     "source": [
      "# Political data #"
     ]
    },
    {
     "cell_type": "code",
     "collapsed": false,
     "input": [
      "import cPickle\n",
      "import numpy as np"
     ],
     "language": "python",
     "metadata": {},
     "outputs": [],
     "prompt_number": 244
    },
    {
     "cell_type": "code",
     "collapsed": false,
     "input": [
      "with open('political-donations.pkl','r') as fin:\n",
      "    adj,can_dct,com_dict,candidates,cmtes = cPickle.load(fin)"
     ],
     "language": "python",
     "metadata": {},
     "outputs": [],
     "prompt_number": 245
    },
    {
     "cell_type": "code",
     "collapsed": false,
     "input": [
      "%pylab inline"
     ],
     "language": "python",
     "metadata": {},
     "outputs": [
      {
       "output_type": "stream",
       "stream": "stdout",
       "text": [
        "Populating the interactive namespace from numpy and matplotlib\n"
       ]
      }
     ],
     "prompt_number": 76
    },
    {
     "cell_type": "code",
     "collapsed": false,
     "input": [
      "print adj.shape\n",
      "print len(candidates), len(cmtes)"
     ],
     "language": "python",
     "metadata": {},
     "outputs": [
      {
       "output_type": "stream",
       "stream": "stdout",
       "text": [
        "(4319, 13355)\n",
        "4319 13355\n"
       ]
      }
     ],
     "prompt_number": 246
    },
    {
     "cell_type": "code",
     "collapsed": false,
     "input": [
      "inv_can_dct = {j:i for i,j in can_dct.iteritems()}"
     ],
     "language": "python",
     "metadata": {},
     "outputs": [],
     "prompt_number": 36
    },
    {
     "cell_type": "code",
     "collapsed": false,
     "input": [
      "can_list = [candidates[inv_can_dct[i]][0] for i in range(len(candidates))]"
     ],
     "language": "python",
     "metadata": {},
     "outputs": [],
     "prompt_number": 41
    },
    {
     "cell_type": "code",
     "collapsed": false,
     "input": [
      "top_100 = (-np.array(adj.sum(axis=1)).reshape(len(candidates),)).argsort()[:20]"
     ],
     "language": "python",
     "metadata": {},
     "outputs": [],
     "prompt_number": 247
    },
    {
     "cell_type": "code",
     "collapsed": false,
     "input": [
      "adj100 = adj[top_100,]"
     ],
     "language": "python",
     "metadata": {},
     "outputs": [],
     "prompt_number": 248
    },
    {
     "cell_type": "code",
     "collapsed": false,
     "input": [
      "co_sponsored = (adj100.dot(adj100.T) > 200)"
     ],
     "language": "python",
     "metadata": {},
     "outputs": [],
     "prompt_number": 249
    },
    {
     "cell_type": "code",
     "collapsed": false,
     "input": [
      "net = nx.from_numpy_matrix(co_sponsored.todense())"
     ],
     "language": "python",
     "metadata": {},
     "outputs": [],
     "prompt_number": 250
    },
    {
     "cell_type": "code",
     "collapsed": false,
     "input": [
      "import matplotlib.pyplot as plt\n",
      "plt.figure(1,figsize=(16,6))\n",
      "limits = plt.axis('off')\n",
      "pos = nx.spring_layout(net)\n",
      "labels = {idx:can_list[i][:-4] for idx,i in enumerate(top_100)}\n",
      "dems = [idx for idx,i in enumerate(top_100) if can_list[i][-2]=='D']\n",
      "reps = [idx for idx,i in enumerate(top_100) if can_list[i][-2]=='R']\n",
      "\n",
      "nx.draw_networkx_nodes(net,pos,nodelist=dems,node_color='b',alpha=0.3);\n",
      "nx.draw_networkx_nodes(net,pos,nodelist=reps,node_color='r',alpha=0.3);\n",
      "nx.draw_networkx_edges(net,pos,alpha=0.5);\n",
      "nx.draw_networkx_labels(net,pos,labels);"
     ],
     "language": "python",
     "metadata": {},
     "outputs": [
      {
       "metadata": {},
       "output_type": "display_data",
       "png": "[encoded data removed]",
       "text": [
        "<matplotlib.figure.Figure at 0x7fda454739d0>"
       ]
      }
     ],
     "prompt_number": 257
    },
    {
     "cell_type": "markdown",
     "metadata": {},
     "source": [
      "## Clustering coefficient ##"
     ]
    },
    {
     "cell_type": "code",
     "collapsed": false,
     "input": [
      "{(i,can_list[top_100[i]]):j for i,j in nx.clustering(net).items()}"
     ],
     "language": "python",
     "metadata": {},
     "outputs": [
      {
       "metadata": {},
       "output_type": "pyout",
       "prompt_number": 178,
       "text": [
        "{(0, 'Mark Pryor (D)'): 0.21428571428571427,\n",
        " (1, 'Mitch McConnell (R)'): 0.7333333333333333,\n",
        " (2, 'John Cornyn (R)'): 0.4166666666666667,\n",
        " (3, 'Mary L. Landrieu (D)'): 1.0,\n",
        " (4, 'Tim Scott (R)'): 0.6666666666666666,\n",
        " (5, 'Kay R. Hagan (D)'): 1.0,\n",
        " (6, 'Dave Camp (R)'): 0.3611111111111111,\n",
        " (7, 'Lamar Alexander (R)'): 1.0,\n",
        " (8, 'Mark Udall (D)'): 0.6666666666666666,\n",
        " (9, 'Mark Begich (D)'): 0.6666666666666666,\n",
        " (10, 'Max Baucus (D)'): 0.0,\n",
        " (11, 'Kevin McCarthy (R)'): 0.9,\n",
        " (12, 'Mark Warner (D)'): 0.0,\n",
        " (13, 'Patrick J. Tiberi (R)'): 1.0,\n",
        " (14, 'Eric Cantor (R)'): 1.0,\n",
        " (15, 'Bill Shuster (R)'): 0.0,\n",
        " (16, 'Susan Collins (R)'): 0.0,\n",
        " (17, 'Steny H. Hoyer (D)'): 0.0,\n",
        " (18, 'Fred Upton (R)'): 0.0,\n",
        " (19, 'Ed Markey (D)'): 0.0}"
       ]
      }
     ],
     "prompt_number": 178
    },
    {
     "cell_type": "code",
     "collapsed": false,
     "input": [
      "mutual = 0\n",
      "non_mutual = 0\n",
      "ego = 0\n",
      "for friend_i in net[ego]:\n",
      "    for friend_j in net[ego]:\n",
      "        if friend_j > friend_i and friend_j != ego and friend_i != ego:\n",
      "            if (friend_i,friend_j) in net.edges():\n",
      "                mutual += 1\n",
      "                print 'mutual: ',friend_i,friend_j\n",
      "            else:\n",
      "                non_mutual += 1\n",
      "                print 'not mutual: ',friend_i,friend_j\n",
      "print mutual, non_mutual, mutual/float(mutual+non_mutual+1e-12)"
     ],
     "language": "python",
     "metadata": {},
     "outputs": [
      {
       "output_type": "stream",
       "stream": "stdout",
       "text": [
        "mutual:  1 2\n",
        "not mutual:  1 3\n",
        "mutual:  1 4\n",
        "not mutual:  1 5\n",
        "not mutual:  1 8\n",
        "not mutual:  1 9\n",
        "not mutual:  1 12\n",
        "not mutual:  2 3\n",
        "mutual:  2 4\n",
        "not mutual:  2 5\n",
        "not mutual:  2 8\n",
        "not mutual:  2 9\n",
        "not mutual:  2 12\n",
        "not mutual:  3 4\n",
        "not mutual:  3 5\n",
        "not mutual:  3 8\n",
        "mutual:  3 9\n",
        "not mutual:  3 12\n",
        "not mutual:  4 5\n",
        "not mutual:  4 8\n",
        "not mutual:  4 9\n",
        "not mutual:  4 12\n",
        "mutual:  5 8\n",
        "not mutual:  5 9\n",
        "not mutual:  5 12\n",
        "mutual:  8 9\n",
        "not mutual:  8 12\n",
        "not mutual:  9 12\n",
        "6 22 0.214285714286\n"
       ]
      }
     ],
     "prompt_number": 185
    },
    {
     "cell_type": "markdown",
     "metadata": {},
     "source": [
      "## Betweenness ##"
     ]
    },
    {
     "cell_type": "code",
     "collapsed": false,
     "input": [
      "for (i,j),score in nx.betweenness.edge_betweenness(net).iteritems():\n",
      "    if score > 0.05:\n",
      "        print '%s\\t%s\\t%.4f'%(can_list[top_100[i]],can_list[top_100[j]],score)"
     ],
     "language": "python",
     "metadata": {},
     "outputs": [
      {
       "output_type": "stream",
       "stream": "stdout",
       "text": [
        "Mitch McConnell (R)\tDave Camp (R)\t0.0513\n",
        "Dave Camp (R)\tMax Baucus (D)\t0.0842\n",
        "John Cornyn (R)\tPatrick J. Tiberi (R)\t0.0553\n",
        "Mark Pryor (D)\tTim Scott (R)\t0.1000\n",
        "Mark Pryor (D)\tMark Warner (D)\t0.0842\n",
        "Mark Pryor (D)\tMitch McConnell (R)\t0.0842\n",
        "Dave Camp (R)\tFred Upton (R)\t0.0842\n",
        "Mark Pryor (D)\tMark Begich (D)\t0.0711\n",
        "John Cornyn (R)\tDave Camp (R)\t0.0632\n",
        "Mark Pryor (D)\tMary L. Landrieu (D)\t0.0763\n",
        "John Cornyn (R)\tSusan Collins (R)\t0.0842\n",
        "Mark Pryor (D)\tKay R. Hagan (D)\t0.0763\n",
        "Mark Pryor (D)\tMark Udall (D)\t0.0711\n",
        "Mark Pryor (D)\tJohn Cornyn (R)\t0.1632\n"
       ]
      }
     ],
     "prompt_number": 242
    },
    {
     "cell_type": "code",
     "collapsed": false,
     "input": [
      "{(i,can_list[top_100[i]]):j for i,j in nx.betweenness_centrality(net).items()}"
     ],
     "language": "python",
     "metadata": {},
     "outputs": [
      {
       "metadata": {},
       "output_type": "pyout",
       "prompt_number": 218,
       "text": [
        "{(0, 'Mark Pryor (D)'): 0.3567251461988304,\n",
        " (1, 'Mitch McConnell (R)'): 0.059941520467836254,\n",
        " (2, 'John Cornyn (R)'): 0.21832358674463936,\n",
        " (3, 'Mary L. Landrieu (D)'): 0.0,\n",
        " (4, 'Tim Scott (R)'): 0.08089668615984405,\n",
        " (5, 'Kay R. Hagan (D)'): 0.0,\n",
        " (6, 'Dave Camp (R)'): 0.189083820662768,\n",
        " (7, 'Lamar Alexander (R)'): 0.0,\n",
        " (8, 'Mark Udall (D)'): 0.0029239766081871343,\n",
        " (9, 'Mark Begich (D)'): 0.0029239766081871343,\n",
        " (10, 'Max Baucus (D)'): 0.0,\n",
        " (11, 'Kevin McCarthy (R)'): 0.0014619883040935672,\n",
        " (12, 'Mark Warner (D)'): 0.0,\n",
        " (13, 'Patrick J. Tiberi (R)'): 0.0,\n",
        " (14, 'Eric Cantor (R)'): 0.0,\n",
        " (15, 'Bill Shuster (R)'): 0.0,\n",
        " (16, 'Susan Collins (R)'): 0.0,\n",
        " (17, 'Steny H. Hoyer (D)'): 0.0,\n",
        " (18, 'Fred Upton (R)'): 0.0,\n",
        " (19, 'Ed Markey (D)'): 0.0}"
       ]
      }
     ],
     "prompt_number": 218
    },
    {
     "cell_type": "markdown",
     "metadata": {},
     "source": [
      "- Mark Pryor was defeated in 2014\n",
      "- Cornyn is now the majority whip (second ranking republican, after McConnell)\n",
      "- Camp was chairman of the powerful House Committee on Ways and Means, but resigned in 2014, at age 61."
     ]
    },
    {
     "cell_type": "code",
     "collapsed": false,
     "input": [
      "{(i,can_list[top_100[i]]):j for i,j in nx.eigenvector_centrality(net).items()}"
     ],
     "language": "python",
     "metadata": {},
     "outputs": [
      {
       "metadata": {},
       "output_type": "pyout",
       "prompt_number": 243,
       "text": [
        "{(0, 'Mark Pryor (D)'): 0.2535015768685423,\n",
        " (1, 'Mitch McConnell (R)'): 0.3587351339791757,\n",
        " (2, 'John Cornyn (R)'): 0.43019202391320455,\n",
        " (3, 'Mary L. Landrieu (D)'): 0.054840313430984326,\n",
        " (4, 'Tim Scott (R)'): 0.39812522547087403,\n",
        " (5, 'Kay R. Hagan (D)'): 0.054840313430984326,\n",
        " (6, 'Dave Camp (R)'): 0.402398244592922,\n",
        " (7, 'Lamar Alexander (R)'): 0.27426968002404534,\n",
        " (8, 'Mark Udall (D)'): 0.06430368436325325,\n",
        " (9, 'Mark Begich (D)'): 0.06430368436325325,\n",
        " (10, 'Max Baucus (D)'): 0.06943619759621816,\n",
        " (11, 'Kevin McCarthy (R)'): 0.3204567514620518,\n",
        " (12, 'Mark Warner (D)'): 0.043743870090503255,\n",
        " (13, 'Patrick J. Tiberi (R)'): 0.14366855673418083,\n",
        " (14, 'Eric Cantor (R)'): 0.2676643517709477,\n",
        " (15, 'Bill Shuster (R)'): 9.987606326936427e-19,\n",
        " (16, 'Susan Collins (R)'): 0.07423235913796268,\n",
        " (17, 'Steny H. Hoyer (D)'): 9.987606326936427e-19,\n",
        " (18, 'Fred Upton (R)'): 0.06943619759621816,\n",
        " (19, 'Ed Markey (D)'): 9.987606326936427e-19}"
       ]
      }
     ],
     "prompt_number": 243
    }
   ],
   "metadata": {}
  }
 ]
}