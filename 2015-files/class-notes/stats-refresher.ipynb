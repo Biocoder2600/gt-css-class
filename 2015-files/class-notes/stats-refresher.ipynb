{
 "metadata": {
  "name": "",
  "signature": "sha256:51bb8da1556d3d831efe7e0b48540f0761e8d4024b06aa997800e347318ab99b"
 },
 "nbformat": 3,
 "nbformat_minor": 0,
 "worksheets": [
  {
   "cells": [
    {
     "cell_type": "markdown",
     "metadata": {},
     "source": [
      "Stats Refresher\n",
      "====\n",
      "\n",
      "- By Jacob Eisenstein, 2015\n",
      "- For Georgia Tech CS 8803-CSS, [Computational Social Science](https://github.com/jacobeisenstein/gt-css-class/)\n",
      "\n",
      "This notebook is a refresher on some basic statistics that we'll see throughout this course.\n",
      "\n",
      "It's particularly concerned with hypothesis tests on random variables that are binomial counts or continuous numbers. It shows how to perform these hypothesis tests using built-in scipy functions, as well as through random sampling. The notebook also shows a little of the functionality of the [Pandas](http://pandas.pydata.org) library for dataframes. The data is drawn from work by:\n",
      "- [Beber and Scacco](https://github.com/jacobeisenstein/gt-css-class/) on the 2009 election in Iran \n",
      "- [Bamman et al](http://journals.uic.edu/ojs/index.php/fm/article/view/3943/3169) on censorship in Sina Weibo"
     ]
    },
    {
     "cell_type": "code",
     "collapsed": false,
     "input": [
      "import matplotlib.pyplot as plt\n",
      "from numpy import random\n",
      "from scipy.stats import binom, bernoulli, norm\n",
      "import numpy as np\n",
      "import scipy as sp\n",
      "%matplotlib inline"
     ],
     "language": "python",
     "metadata": {},
     "outputs": [],
     "prompt_number": 1
    },
    {
     "cell_type": "markdown",
     "metadata": {},
     "source": [
      "In class, we saw that 30% of all students had taken a social science course in their undergraduate studies, but that for the five students who did their undergrad in the USA, four of them had taken a social science course. What is the probability of this count, under the [binomial distribution](http://en.wikipedia.org/wiki/Binomial_distribution)?"
     ]
    },
    {
     "cell_type": "code",
     "collapsed": false,
     "input": [
      "binom.pmf(4,5,.3)"
     ],
     "language": "python",
     "metadata": {},
     "outputs": [
      {
       "metadata": {},
       "output_type": "pyout",
       "prompt_number": 3,
       "text": [
        "0.028349999999999976"
       ]
      }
     ],
     "prompt_number": 3
    },
    {
     "cell_type": "markdown",
     "metadata": {},
     "source": [
      "We can compute this value from the closed form of the binomial distribution, using the scipy's combinatorial function. Verify that this is equivalent to the form of the probability mass function (PMF) on the wikipedia page for the binomial distribution."
     ]
    },
    {
     "cell_type": "code",
     "collapsed": false,
     "input": [
      "sp.misc.comb(5,4) * (.3 ** 4) * .7"
     ],
     "language": "python",
     "metadata": {},
     "outputs": [
      {
       "metadata": {},
       "output_type": "pyout",
       "prompt_number": 4,
       "text": [
        "0.028349999999999983"
       ]
      }
     ],
     "prompt_number": 4
    },
    {
     "cell_type": "markdown",
     "metadata": {},
     "source": [
      "Performing a significance test requires computing the cumulative distribution function (CDF)."
     ]
    },
    {
     "cell_type": "code",
     "collapsed": false,
     "input": [
      "1 - binom.cdf(4,5,.3,loc=1)"
     ],
     "language": "python",
     "metadata": {},
     "outputs": [
      {
       "metadata": {},
       "output_type": "pyout",
       "prompt_number": 222,
       "text": [
        "0.03078000000000003"
       ]
      }
     ],
     "prompt_number": 222
    },
    {
     "cell_type": "markdown",
     "metadata": {},
     "source": [
      "We can compute this value from the PMFs binom(4,5,.3) + binom(5,5.3)"
     ]
    },
    {
     "cell_type": "code",
     "collapsed": false,
     "input": [
      "binom.pmf(4,5,.3) + binom.pmf(5,5,.3)"
     ],
     "language": "python",
     "metadata": {},
     "outputs": [
      {
       "metadata": {},
       "output_type": "pyout",
       "prompt_number": 11,
       "text": [
        "0.030779999999999974"
       ]
      }
     ],
     "prompt_number": 11
    },
    {
     "cell_type": "markdown",
     "metadata": {},
     "source": [
      "## Iranian election results ##\n",
      "\n",
      "See [this oped](http://www.washingtonpost.com/wp-dyn/content/article/2009/06/20/AR2009062000004.html?hpid=opinionsbox1) by Beber and Scacco."
     ]
    },
    {
     "cell_type": "code",
     "collapsed": false,
     "input": [
      "theta = 0.7 #null hypothesis probability of non-indentical, non-adjacent final digits\n",
      "N = 116 #number of election districts\n",
      "k = 72 #number of districts with non-adjacent, non-identical final digits"
     ],
     "language": "python",
     "metadata": {},
     "outputs": [],
     "prompt_number": 223
    },
    {
     "cell_type": "markdown",
     "metadata": {},
     "source": [
      "We can apply the same binomial test as discussed on monday to this data."
     ]
    },
    {
     "cell_type": "code",
     "collapsed": false,
     "input": [
      "binom.cdf(k,N,theta)"
     ],
     "language": "python",
     "metadata": {},
     "outputs": [
      {
       "metadata": {},
       "output_type": "pyout",
       "prompt_number": 224,
       "text": [
        "0.041055668001980426"
       ]
      }
     ],
     "prompt_number": 224
    },
    {
     "cell_type": "markdown",
     "metadata": {},
     "source": [
      "Here's a sampling version of the same test.\n",
      "\n",
      "- We generate a bunch of random samples\n",
      "- In each sample, we draw 116 Bernoulli random variables, with probability theta\n",
      "- If the number of hits is less than the $k$ observed from the Iranian data, we count that\n",
      "- The empirical p-value is the number of times in which we get $k$ or fewer hits"
     ]
    },
    {
     "cell_type": "code",
     "collapsed": false,
     "input": [
      "def empiricalPValue(N_samp,N_obs=116,theta=0.7,k_obs = 72):\n",
      "    counter = 0.0\n",
      "    for _ in range(N_samp):\n",
      "        # do you see why this line samples from a binomial with parameters N_obs, theta?\n",
      "        k_samp = sum(np.random.rand(N_obs) < theta)\n",
      "        if k_samp <= k_obs:\n",
      "            counter += 1\n",
      "    return counter / N_samp"
     ],
     "language": "python",
     "metadata": {},
     "outputs": [],
     "prompt_number": 16
    },
    {
     "cell_type": "code",
     "collapsed": false,
     "input": [
      "print empiricalPValue(10000)"
     ],
     "language": "python",
     "metadata": {},
     "outputs": [
      {
       "output_type": "stream",
       "stream": "stdout",
       "text": [
        "0.0393\n"
       ]
      }
     ],
     "prompt_number": 15
    },
    {
     "cell_type": "code",
     "collapsed": false,
     "input": [
      "# This code block shows how the empirical procedure converges to the true p-value, over five different runs\n",
      "for _ in range(5):\n",
      "    N_samps = np.logspace(1,4,25)\n",
      "    pvals = []\n",
      "    for N_samp in N_samps:\n",
      "        pvals.append(empiricalPValue(int(N_samp)))\n",
      "    # semilogx plots on a logarithmic x-axis\n",
      "    plt.semilogx(N_samps,pvals,'k',alpha=0.5)"
     ],
     "language": "python",
     "metadata": {},
     "outputs": [
      {
       "metadata": {},
       "output_type": "display_data",
       "png": "[encoded data removed]",
       "text": [
        "<matplotlib.figure.Figure at 0x7f57d9722e50>"
       ]
      }
     ],
     "prompt_number": 17
    },
    {
     "cell_type": "markdown",
     "metadata": {},
     "source": [
      "## Gaussian approximation ##\n",
      "\n",
      "Suppose it were not easy to compute the CDF of the binomial distribution, or to sample from it.\n",
      "\n",
      "The [mean and variance of the Binomial distribution](http://en.wikipedia.org/wiki/Binomial_distribution) with parameters $\\theta, N$ can be proven to be equal to:\n",
      "\n",
      "- $\\mu = \\theta N$\n",
      "- $\\sigma^2 = N \\theta ( 1- \\theta)$\n",
      "\n",
      "To understand what this means, we need to define a few more concepts.\n",
      "\n",
      "The *expectation* of a function of a random variable is written $E[f(X)] = \\int_x P(X=x) f(x) dx$. This means we integrate over all possible values of the random variable $X$, compute the probability, and multiply by $f(x)$. Put another way, we *convolve* $P(X)$ with $f(X)$.\n",
      "\n",
      "- The mean is equal to the expectation of the function $f(X) = X$, so $\\mu = E[X]$.\n",
      "- The sample estimate of the mean is simply equal to $\\hat{\\mu} = \\frac{1}{N}\\sum_i x_i$\n",
      "- In general, we have $E[X + Y] = E[X] + E[Y]$.\n",
      "- If $X$ and $Y$ are independent (meaning $P(X,Y) = P(X)P(Y)$), then we have $E[XY] = E[X]E[Y]$.\n",
      "\n",
      "The *variance* is defined as $\\sigma^2 = E[(X - \\mu)^2]$. \n",
      "\n",
      "- A useful equality is $V[X] = E[X^2] - (E[x])^2$. Can you prove this?\n",
      "- In general, we have $V[X + Y] = V[X] + V[Y]$ if X and Y are independent.\n",
      "- The sample estimate of the variance is equal to $\\sigma^2 = \\frac{1}{N}\\sum^N_i (x_i - \\mu_i)^2$\n",
      "- The **standard deviation** is simply $\\sigma = \\sqrt(\\sigma^2)$\n",
      "\n",
      "Now, we have been given expressions for the mean and variance of a Gaussian distribution around the number of successful draws from our Binomial distribution: $k \\sim N(\\mu, \\sigma^2)$. This means we can use the Gaussian approximation to compute the p-value, instead of the Binomial distribution. But first, let's see how good this approximation is."
     ]
    },
    {
     "cell_type": "code",
     "collapsed": false,
     "input": [
      "N_samp = 10000\n",
      "bin_samps = np.zeros(N_samp)\n",
      "gauss_samps = np.zeros(N_samp)\n",
      "variance = theta * (1-theta)* N\n",
      "stdev = np.sqrt(variance)\n",
      "mean = theta * N\n",
      "for i in range(N_samp):\n",
      "    bin_samps[i] = sum(np.random.rand(N) < theta) # sample from the binomial\n",
      "    gauss_samps[i] = np.random.randn() * stdev + mean #sample from the Gaussian"
     ],
     "language": "python",
     "metadata": {},
     "outputs": [],
     "prompt_number": 18
    },
    {
     "cell_type": "code",
     "collapsed": false,
     "input": [
      "plt.subplot(2,1,1)\n",
      "plt.hist(bin_samps,bins=10,range=[50,100])\n",
      "plt.title('binomial')\n",
      "plt.subplot(2,1,2)\n",
      "plt.hist(gauss_samps,bins=10,range=[50,100])\n",
      "plt.title('Gaussian')\n",
      "print 'binomial',bin_samps.mean(),bin_samps.std()\n",
      "print 'gaussian',gauss_samps.mean(),gauss_samps.std()\n",
      "print 'mean=',mean, 'stdev=',stdev"
     ],
     "language": "python",
     "metadata": {},
     "outputs": [
      {
       "output_type": "stream",
       "stream": "stdout",
       "text": [
        "binomial 81.1701 4.88904550909\n",
        "gaussian 81.2128553708 4.887937835\n",
        "mean= 81.2 stdev= 4.9355850717\n"
       ]
      },
      {
       "metadata": {},
       "output_type": "display_data",
       "png": "[encoded data removed]",
       "text": [
        "<matplotlib.figure.Figure at 0x7f57b2af8910>"
       ]
      }
     ],
     "prompt_number": 19
    },
    {
     "cell_type": "markdown",
     "metadata": {},
     "source": [
      "Why does this work? The **Central Limit Theorem**:\n",
      "\n",
      "- If $X_1, X_2, \\ldots X_N$ are independent and identically-distributed random variables, with mean $\\mu$ and variance $\\sigma^2$\n",
      "- and $\\mu$ and $\\sigma^2$ are finite\n",
      "- Then as $N \\to \\infty$, the sample average $S = \\frac{1}{N}\\sum^N_n X_n$ is approximately Gaussian with mean $\\mu$ and variance $\\frac{\\sigma^2}{N}$\n",
      "\n",
      "In other words, as $N$ gets large, everything is approximately Gaussian"
     ]
    },
    {
     "cell_type": "markdown",
     "metadata": {},
     "source": [
      "## Gaussian tests ##\n",
      "\n",
      "This means we could use the Gaussian approximation to compute the test statistic. \n",
      "\n",
      "- We could do this by using the cumulative distribution function (CDF) of $N(\\mu,\\sigma^2)$\n",
      "- Alternatively, we can compute $k$ into a z-score, by the formula, $z = (k - \\mu) / \\sigma^2$\n",
      "- Then we have $z \\sim N(0,1)$. This distribution is called the **standard normal.**\n",
      "- Crucially, $P(z; \\mu = 0, \\sigma^2 = 1) = P(k; \\mu, \\sigma^2)$.\n",
      "\n",
      "Before computers were widespread, we could compute a p-value by the following process:\n",
      "\n",
      "- Compute the mean and variance of the Gaussian approximation to the null distribution\n",
      "- Convert the observed value to a z-score\n",
      "- Look up the z-score in a big table of values for the CDF for the standard normal distribution."
     ]
    },
    {
     "cell_type": "code",
     "collapsed": false,
     "input": [
      "z = (k - mean)/stdev\n",
      "print 'z = ',z\n",
      "print 'p < ', norm.cdf(k,mean,stdev)"
     ],
     "language": "python",
     "metadata": {},
     "outputs": [
      {
       "output_type": "stream",
       "stream": "stdout",
       "text": [
        "z =  -1.86401406649\n",
        "p <  0.0311598644965\n"
       ]
      }
     ],
     "prompt_number": 20
    },
    {
     "cell_type": "markdown",
     "metadata": {},
     "source": [
      "This value is a little lower than the true value, $p\\approx 0.04$. The approximation works better with larger N."
     ]
    },
    {
     "cell_type": "code",
     "collapsed": false,
     "input": [
      "N_obs = 1000\n",
      "k = 243\n",
      "theta = 0.22"
     ],
     "language": "python",
     "metadata": {},
     "outputs": [],
     "prompt_number": 36
    },
    {
     "cell_type": "code",
     "collapsed": false,
     "input": [
      "print 'binom',1 - binom.cdf(k,N_obs,theta)\n",
      "print 'gauss',1-norm.cdf(k,N_obs*theta,np.sqrt(theta*(1-theta)*N_obs))"
     ],
     "language": "python",
     "metadata": {},
     "outputs": [
      {
       "output_type": "stream",
       "stream": "stdout",
       "text": [
        "binom 0.0376148123505\n",
        "gauss 0.039563302268\n"
       ]
      }
     ],
     "prompt_number": 37
    },
    {
     "cell_type": "markdown",
     "metadata": {},
     "source": [
      "For completeness, here's an empirical version of the Gaussian approximation of the test. "
     ]
    },
    {
     "cell_type": "code",
     "collapsed": false,
     "input": [
      "def empiricalPValueGaussApprox(N_samp,N_obs=116,theta=0.7,k_obs = 72):\n",
      "    counter = 0.0\n",
      "    variance = theta * (1-theta)* N_obs\n",
      "    stdev = np.sqrt(variance)\n",
      "    mean = theta * N_obs\n",
      "    for _ in range(N_samp):\n",
      "        k_samp = np.random.randn() * stdev + mean        \n",
      "        if k_samp <= k_obs:\n",
      "            counter += 1\n",
      "    return counter / N_samp"
     ],
     "language": "python",
     "metadata": {},
     "outputs": [],
     "prompt_number": 71
    },
    {
     "cell_type": "code",
     "collapsed": false,
     "input": [
      "empiricalPValueGaussApprox(10000)"
     ],
     "language": "python",
     "metadata": {},
     "outputs": [
      {
       "metadata": {},
       "output_type": "pyout",
       "prompt_number": 75,
       "text": [
        "0.0336"
       ]
      }
     ],
     "prompt_number": 75
    },
    {
     "cell_type": "markdown",
     "metadata": {},
     "source": [
      "Sometimes you want to know how many successful trials would be necessary to get statistical significance. \n",
      "For this, you need the inverse of the CDF, which is sometimes called the percent point function (ppf)"
     ]
    },
    {
     "cell_type": "code",
     "collapsed": false,
     "input": [
      "theta = 0.7\n",
      "N_obs = 116\n",
      "alpha = 0.05\n",
      "k_crit = binom.ppf(alpha,N_obs,theta) - 1\n",
      "print k_crit,binom.cdf(k_crit,N_obs,theta),theta*N_obs\n",
      "alpha = 0.01\n",
      "k_crit = binom.ppf(alpha,N_obs,theta) - 1\n",
      "print k_crit,binom.cdf(k_crit,N_obs,theta),theta*N_obs\n",
      "print norm.ppf(0.05,N_obs * theta, np.sqrt(theta * (1-theta) * N_obs)) - 1"
     ],
     "language": "python",
     "metadata": {},
     "outputs": [
      {
       "output_type": "stream",
       "stream": "stdout",
       "text": [
        "72.0 0.041055668002 81.2\n",
        "68.0 0.00599705139811 81.2\n",
        "72.0816849937\n"
       ]
      }
     ],
     "prompt_number": 74
    },
    {
     "cell_type": "markdown",
     "metadata": {},
     "source": [
      "# Comparing means #"
     ]
    },
    {
     "cell_type": "markdown",
     "metadata": {},
     "source": [
      "Do action movies make more money than comedies? \n",
      "We can try to answer this question with a Z-test.\n",
      "\n",
      "Here we are going to use dataframes, which are part of the [Pandas](http://pandas.pydata.org/) library."
     ]
    },
    {
     "cell_type": "code",
     "collapsed": false,
     "input": [
      "import pandas as pd"
     ],
     "language": "python",
     "metadata": {},
     "outputs": [],
     "prompt_number": 77
    },
    {
     "cell_type": "code",
     "collapsed": false,
     "input": [
      "# first, read the CSV file into a data frame\n",
      "dat = pd.read_csv('movies_2010.csv')"
     ],
     "language": "python",
     "metadata": {},
     "outputs": [],
     "prompt_number": 82
    },
    {
     "cell_type": "code",
     "collapsed": false,
     "input": [
      "# most of the horribleness in this syntax is because of the format of the CSV file, not pandas.\n",
      "com_gross = dat[dat[' \"Genre\"']=='Comedy'][' \"Gross\"']\n",
      "act_gross = dat[dat[' \"Genre\"']=='Action'][' \"Gross\"']"
     ],
     "language": "python",
     "metadata": {},
     "outputs": [],
     "prompt_number": 225
    },
    {
     "cell_type": "code",
     "collapsed": false,
     "input": [
      "mu_comedy =  com_gross.mean()\n",
      "mu_action = act_gross.mean()\n",
      "print \"comedy\",mu_comedy,len(com_gross)\n",
      "print \"action\",mu_action,len(act_gross)"
     ],
     "language": "python",
     "metadata": {},
     "outputs": [
      {
       "output_type": "stream",
       "stream": "stdout",
       "text": [
        "comedy 24786467.236 89\n",
        "action 49674316.0645 31\n"
       ]
      }
     ],
     "prompt_number": 90
    },
    {
     "cell_type": "markdown",
     "metadata": {},
     "source": [
      "The 31 action films made roughly twice as much on average as the 89 comedies. \n",
      "But is this difference statistically significant?"
     ]
    },
    {
     "cell_type": "code",
     "collapsed": false,
     "input": [
      "std_comedy = com_gross.std()\n",
      "std_action = act_gross.std()"
     ],
     "language": "python",
     "metadata": {},
     "outputs": [],
     "prompt_number": 91
    },
    {
     "cell_type": "code",
     "collapsed": false,
     "input": [
      "print std_comedy,std_action"
     ],
     "language": "python",
     "metadata": {},
     "outputs": [
      {
       "output_type": "stream",
       "stream": "stdout",
       "text": [
        "46602648.9355 79869946.202\n"
       ]
      }
     ],
     "prompt_number": 92
    },
    {
     "cell_type": "markdown",
     "metadata": {},
     "source": [
      "The standard deviations are really big, which is a bad sign. Let's look at the data."
     ]
    },
    {
     "cell_type": "code",
     "collapsed": false,
     "input": [
      "plt.subplot(2,1,1)\n",
      "plt.title('comedy')\n",
      "plt.hist(com_gross)\n",
      "plt.subplot(2,1,2)\n",
      "plt.hist(act_gross)\n",
      "plt.xlabel('gross')\n",
      "plt.title('action')"
     ],
     "language": "python",
     "metadata": {},
     "outputs": [
      {
       "metadata": {},
       "output_type": "pyout",
       "prompt_number": 119,
       "text": [
        "<matplotlib.text.Text at 0x7f57aeec8a90>"
       ]
      },
      {
       "metadata": {},
       "output_type": "display_data",
       "png": "[encoded data removed]",
       "text": [
        "<matplotlib.figure.Figure at 0x7f57aefbb550>"
       ]
      }
     ],
     "prompt_number": 119
    },
    {
     "cell_type": "markdown",
     "metadata": {},
     "source": [
      "Here's a function that I wrote, for prettier plotting of histograms of paired data series."
     ]
    },
    {
     "cell_type": "code",
     "collapsed": false,
     "input": [
      "def stackedHist(series_a,series_b,names=None,num_bins=10,normed=False):\n",
      "    bins = np.histogram(series_a.append(series_b),num_bins)[1]\n",
      "    y_d,_ = np.histogram(series_a,bins=bins)\n",
      "    y_r,_ = np.histogram(series_b,bins=bins)\n",
      "    if normed:\n",
      "        y_d = y_d / float(y_d.sum())\n",
      "        y_r = y_r / float(y_r.sum())\n",
      "\n",
      "    width = bins[1]-bins[0]\n",
      "    maxval = max(y_d.max(),y_r.max()) * 1.1\n",
      "    plt.ylim([-maxval,maxval])\n",
      "    plt.bar(bins[:-1]+0.5*width,+y_d,width=0.8*width,facecolor='blue',edgecolor='white',alpha=0.6)\n",
      "    plt.bar(bins[:-1]+0.5*width,-y_r,width=0.8*width,facecolor='red',edgecolor='white',alpha=0.6)\n",
      "    if names is not None:\n",
      "        plt.legend(names)"
     ],
     "language": "python",
     "metadata": {},
     "outputs": [],
     "prompt_number": 120
    },
    {
     "cell_type": "code",
     "collapsed": false,
     "input": [
      "stackedHist(com_gross,act_gross,names=['comedy','action'],num_bins=20)\n",
      "plt.xlabel('gross earnings')"
     ],
     "language": "python",
     "metadata": {},
     "outputs": [
      {
       "metadata": {},
       "output_type": "pyout",
       "prompt_number": 123,
       "text": [
        "<matplotlib.text.Text at 0x7f57aebb2110>"
       ]
      },
      {
       "metadata": {},
       "output_type": "display_data",
       "png": "[encoded data removed]",
       "text": [
        "<matplotlib.figure.Figure at 0x7f57aecda250>"
       ]
      }
     ],
     "prompt_number": 123
    },
    {
     "cell_type": "markdown",
     "metadata": {},
     "source": [
      "No matter how you plot it, it's clear that this data is not Gaussian: \n",
      "there are a lot of movies with small earnings, and a long tail of movies with very large earnings.\n",
      "\n",
      "This kind of data is often said to be drawn from a [power law](http://en.wikipedia.org/wiki/Power_law#Power-law_probability_distributions) distribution. \n",
      "But it's simpler (and often just as accurate) to model it as drawn from a log-normal distribution.\n",
      "Here's a [strong opinion](http://vserver1.cscs.lsa.umich.edu/~crshalizi/weblog/491.html) on this issue, from CMU statistician Cosma Shalizi.\n",
      "\n",
      "If $x$ follows a log-normal distribution, this means that $\\log x$ follows a normal distribution:\n",
      "\\begin{equation}\n",
      "\\log x \\sim N(\\mu, \\sigma^2)\n",
      "\\end{equation}\n",
      "\n",
      "Let's try this with our data."
     ]
    },
    {
     "cell_type": "code",
     "collapsed": false,
     "input": [
      "stackedHist(np.log(com_gross),np.log(act_gross),names=['comedy','action'],num_bins=10)\n",
      "plt.xlabel('log gross earnings');"
     ],
     "language": "python",
     "metadata": {},
     "outputs": [
      {
       "metadata": {},
       "output_type": "display_data",
       "png": "[encoded data removed]",
       "text": [
        "<matplotlib.figure.Figure at 0x7f57ada91450>"
       ]
      }
     ],
     "prompt_number": 226
    },
    {
     "cell_type": "markdown",
     "metadata": {},
     "source": [
      "It's not a bell curve, but it looks more Gaussian than the histograms of the raw data, so we're going to go with it."
     ]
    },
    {
     "cell_type": "code",
     "collapsed": false,
     "input": [
      "# basic statistics\n",
      "mu_comedy = np.log(com_gross).mean()\n",
      "mu_action = np.log(act_gross).mean()\n",
      "std_comedy = np.log(com_gross).std()\n",
      "std_action = np.log(act_gross).std()\n",
      "print 'comedy', mu_comedy,std_comedy\n",
      "print 'action', mu_action,std_action"
     ],
     "language": "python",
     "metadata": {},
     "outputs": [
      {
       "output_type": "stream",
       "stream": "stdout",
       "text": [
        "comedy 13.6269496145 3.75041366153\n",
        "action 15.4234039153 3.18821253648\n"
       ]
      }
     ],
     "prompt_number": 227
    },
    {
     "cell_type": "markdown",
     "metadata": {},
     "source": [
      "We can use a [two-sample Z-test](http://www.cliffsnotes.com/math/statistics/univariate-inferential-tests/two-sample-z-test-for-comparing-two-means) to evaluate the null hypothesis that the two data sequences are drawn from a single, Gaussian distribution.\n",
      "\n",
      "We need to identify the standard deviation of this distribution, and we use the group standard deviation,\n",
      "\n",
      "$\\sigma_\\text{group} = \\sqrt{\\frac{\\sigma^2_c}{N_c} + \\frac{\\sigma^2_a}{N_a}}$\n",
      "\n",
      "- where $N_c$ and $N_a$ are the number of observations in each series, \n",
      "- and $\\sigma^2_c$ and $\\sigma^2_a$ are the variances of the two series being compared."
     ]
    },
    {
     "cell_type": "code",
     "collapsed": false,
     "input": [
      "group_std = np.sqrt((std_comedy**2)/float(len(com_gross)) + (std_action**2)/float(len(act_gross)))\n",
      "print group_std"
     ],
     "language": "python",
     "metadata": {},
     "outputs": [
      {
       "output_type": "stream",
       "stream": "stdout",
       "text": [
        "0.697089664879\n"
       ]
      }
     ],
     "prompt_number": 135
    },
    {
     "cell_type": "markdown",
     "metadata": {},
     "source": [
      "The Z-statistic is then $z = (\\mu_c - \\mu_a) / \\sigma_\\text{group}$"
     ]
    },
    {
     "cell_type": "code",
     "collapsed": false,
     "input": [
      "z = (mu_comedy - mu_action) / group_std\n",
      "print \"z=\",z"
     ],
     "language": "python",
     "metadata": {},
     "outputs": [
      {
       "output_type": "stream",
       "stream": "stdout",
       "text": [
        "z= -2.57707780119\n"
       ]
      }
     ],
     "prompt_number": 138
    },
    {
     "cell_type": "markdown",
     "metadata": {},
     "source": [
      "### One-tailed versus two-tailed tests ###\n",
      "\n",
      "Recall our original experimental hypothesis: it is that comedies and action movies make different amounts of money.\n",
      "\n",
      "Unlike the previous cases, we did not have a prior expectation that one genre made more money than the other, just that they were different.\n",
      "\n",
      "This means we are doing a **two-tailed** test: we are interested in the area under *both* tails of the distribution. The p-value is therefore computed by doubling the CDF."
     ]
    },
    {
     "cell_type": "code",
     "collapsed": false,
     "input": [
      "pval = 2 * norm.cdf(z)\n",
      "print pval"
     ],
     "language": "python",
     "metadata": {},
     "outputs": [
      {
       "output_type": "stream",
       "stream": "stdout",
       "text": [
        "0.00996395209397\n"
       ]
      }
     ],
     "prompt_number": 141
    },
    {
     "cell_type": "markdown",
     "metadata": {},
     "source": [
      "Even with the two-tailed test, we have statistical significance at $p < .01$.\n"
     ]
    },
    {
     "cell_type": "markdown",
     "metadata": {},
     "source": [
      "### Sampling-based z-test ###\n",
      "Let's confirm this p-value with a sampling-based hypothesis test. \n",
      "\n",
      "- We will draw several thousand datasets from a Gaussian estimated from the aggregated data\n",
      "- We will see how often the difference in means in these sampled datasets is greater than the observed difference in our data."
     ]
    },
    {
     "cell_type": "code",
     "collapsed": false,
     "input": [
      "all_gross = np.log(com_gross.append(act_gross))\n",
      "mu_all = all_gross.mean()\n",
      "std_all = all_gross.std()"
     ],
     "language": "python",
     "metadata": {},
     "outputs": [],
     "prompt_number": 163
    },
    {
     "cell_type": "code",
     "collapsed": true,
     "input": [
      "N_com = len(com_gross)\n",
      "N_act = len(act_gross)\n",
      "N_samp = 5000\n",
      "counter = 0\n",
      "for _ in range(N_samp):\n",
      "    samp_com_mean = (np.random.randn(N_com) * std_all + mu_all).mean()\n",
      "    samp_act_mean = (np.random.randn(N_act) * std_all + mu_all).mean()\n",
      "    if samp_act_mean - samp_com_mean > mu_action - mu_comedy:\n",
      "        counter += 1\n",
      "print 'p =',counter/float(N_samp)"
     ],
     "language": "python",
     "metadata": {},
     "outputs": [
      {
       "output_type": "stream",
       "stream": "stdout",
       "text": [
        "p = 0.0118\n"
       ]
      }
     ],
     "prompt_number": 230
    },
    {
     "cell_type": "markdown",
     "metadata": {},
     "source": [
      "One nice thing about the sampling-based test is that we can also compare the medians, rather than the means. This should be less sensitive to outliers."
     ]
    },
    {
     "cell_type": "code",
     "collapsed": false,
     "input": [
      "med_action = np.log(act_gross).median()\n",
      "med_comedy = np.log(com_gross).median()"
     ],
     "language": "python",
     "metadata": {},
     "outputs": [],
     "prompt_number": 180
    },
    {
     "cell_type": "code",
     "collapsed": false,
     "input": [
      "N_com = len(com_gross)\n",
      "N_act = len(act_gross)\n",
      "N_samp = 20000\n",
      "counter = 0\n",
      "for _ in range(N_samp):\n",
      "    samp_com_med = np.median(np.random.randn(N_com) * std_all + mu_all)\n",
      "    samp_act_med = np.median(np.random.randn(N_act) * std_all + mu_all)\n",
      "    if samp_act_med - samp_com_med > med_action - med_comedy:\n",
      "        counter += 1\n",
      "print 'p =',counter/float(N_samp)"
     ],
     "language": "python",
     "metadata": {},
     "outputs": [
      {
       "output_type": "stream",
       "stream": "stdout",
       "text": [
        "p = 0.00015\n"
       ]
      }
     ],
     "prompt_number": 231
    },
    {
     "cell_type": "markdown",
     "metadata": {},
     "source": [
      "The separation between the medians is much larger than the separation between the means. \n",
      "\n",
      "This supports the hypothesis that *the typical action movie* grosses more money than the typical comedy."
     ]
    },
    {
     "cell_type": "markdown",
     "metadata": {},
     "source": [
      "### Non-parametric comparison of means ###\n",
      "\n",
      "Recall that even the log of this data doesn't really look very Gaussian. Can we get rid of the parametric assumption that it is Gaussian-distributed?\n",
      "\n",
      "Yes! We can use [the bootstrap](http://en.wikipedia.org/wiki/Bootstrapping_%28statistics%29) to compare means, without assuming any parametric form for the process that generates the data. To do this, we **resample with replacement** within each group."
     ]
    },
    {
     "cell_type": "code",
     "collapsed": false,
     "input": [
      "def bootstrap_df(X):\n",
      "    indices = np.random.randint(len(X),size=len(X)) #randomly N integers between 0 and N\n",
      "    return X.iloc[indices] #need to use iloc to get a new dataframe or series of instances"
     ],
     "language": "python",
     "metadata": {},
     "outputs": [],
     "prompt_number": 189
    },
    {
     "cell_type": "code",
     "collapsed": false,
     "input": [
      "N_samp = 10000\n",
      "count_med_diff = 0\n",
      "count_mean_diff = 0\n",
      "\n",
      "for _ in xrange(N_samp):\n",
      "    com_samp = bootstrap_df(np.log(com_gross))\n",
      "    act_samp = bootstrap_df(np.log(act_gross))\n",
      "    \n",
      "    count_med_diff += np.median(com_samp) > np.median(act_samp)\n",
      "    count_mean_diff += np.mean(com_samp) > np.mean(act_samp)\n",
      "# multiply by two, because it's still a two-tailed test\n",
      "print \"p_med = \",2 * (count_med_diff / float(N_samp))\n",
      "print \"p_mean = \",2 * (count_mean_diff / float(N_samp))"
     ],
     "language": "python",
     "metadata": {},
     "outputs": [
      {
       "output_type": "stream",
       "stream": "stdout",
       "text": [
        "p_med =  0.0806\n",
        "p_mean =  0.0118\n"
       ]
      }
     ],
     "prompt_number": 197
    },
    {
     "cell_type": "markdown",
     "metadata": {},
     "source": [
      "Using this test, we find that the mean difference is significant, but the median difference is not!\n",
      "\n",
      "The strong difference in medians that we observed in the previous test was an artifact of the log-normal assumption, which imposed a much greater central tendency than we actually observed in the data.\n",
      "\n",
      "A comparison of the histogram of the data with its best fit normal distribution makes this point."
     ]
    },
    {
     "cell_type": "code",
     "collapsed": false,
     "input": [
      "def plotOne(series):\n",
      "    bins = np.histogram(np.log(series),15)[1]\n",
      "    plt.hist(np.log(series),bins=bins,alpha=0.4,color='b')\n",
      "    plt.plot(bins,norm.pdf(bins,np.log(series).mean(),np.log(series).std())*len(series),'r')\n",
      "\n",
      "plt.subplot(1,2,1)\n",
      "plotOne(com_gross)\n",
      "plt.title('comedy')\n",
      "plt.subplot(1,2,2)\n",
      "plotOne(act_gross)\n",
      "plt.title('action');"
     ],
     "language": "python",
     "metadata": {},
     "outputs": [
      {
       "metadata": {},
       "output_type": "display_data",
       "png": "[encoded data removed]",
       "text": [
        "<matplotlib.figure.Figure at 0x7f57ad853e10>"
       ]
      }
     ],
     "prompt_number": 217
    },
    {
     "cell_type": "markdown",
     "metadata": {},
     "source": [
      "The bootstrap can be expensive to perform if the statistic of the data that you are comparing is costly to compute. But if you don't know the true generating distribution of your data, the non-parametric nature of the bootstrap is a huge advantage."
     ]
    },
    {
     "cell_type": "markdown",
     "metadata": {},
     "source": [
      "# Bamman et al #\n",
      "\n",
      "Here's what would happen if Bamman et al tried a Bonferroni correction instead of FDR"
     ]
    },
    {
     "cell_type": "code",
     "collapsed": false,
     "input": [
      "alpha = 0.025\n",
      "alpha_bonf = alpha / 75000.0\n",
      "alpha_fdr = 0.001 #from Bamman et al "
     ],
     "language": "python",
     "metadata": {},
     "outputs": [],
     "prompt_number": 3
    },
    {
     "cell_type": "code",
     "collapsed": false,
     "input": [
      "vals_bonf = []\n",
      "vals_no_correct = []\n",
      "vals_fdr = []\n",
      "for N in range(1,100):\n",
      "    binoms = [1-binom.cdf(k,N,.1625) for k in range(N)]\n",
      "    vals_bonf.append((N - sum([x < alpha_bonf for x in binoms]))/float(N))\n",
      "    vals_no_correct.append((N - sum([x < alpha for x in binoms]))/float(N))\n",
      "    vals_fdr.append((N - sum([x < alpha_fdr for x in binoms]))/float(N))\n",
      "plt.semilogx(vals_no_correct) #alternatively, use plt.plot and then plt.xscale('log')\n",
      "plt.semilogx(vals_bonf)\n",
      "plt.semilogx(vals_fdr)\n",
      "plt.legend(['No correction','Bonferroni','FDR'])"
     ],
     "language": "python",
     "metadata": {},
     "outputs": [
      {
       "metadata": {},
       "output_type": "pyout",
       "prompt_number": 51,
       "text": [
        "<matplotlib.legend.Legend at 0x7f4cafdf8490>"
       ]
      },
      {
       "metadata": {},
       "output_type": "display_data",
       "png": "[encoded data removed]",
       "text": [
        "<matplotlib.figure.Figure at 0x7f4cb0193350>"
       ]
      }
     ],
     "prompt_number": 51
    },
    {
     "cell_type": "code",
     "collapsed": false,
     "input": [
      "print .025 * 3046\n",
      "print .003 * 2181\n",
      "print .0004 * 1715"
     ],
     "language": "python",
     "metadata": {},
     "outputs": [
      {
       "output_type": "stream",
       "stream": "stdout",
       "text": [
        "76.15\n",
        "6.543\n",
        "0.686\n"
       ]
      }
     ],
     "prompt_number": 53
    },
    {
     "cell_type": "code",
     "collapsed": false,
     "input": [],
     "language": "python",
     "metadata": {},
     "outputs": []
    }
   ],
   "metadata": {}
  }
 ]
}