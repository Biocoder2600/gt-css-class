{
 "metadata": {
  "name": "",
  "signature": "sha256:94dac5607adb3dcdd57c29f79ff4a8d8f85f8053157efe3c6c353cfb68944855"
 },
 "nbformat": 3,
 "nbformat_minor": 0,
 "worksheets": [
  {
   "cells": [
    {
     "cell_type": "code",
     "collapsed": false,
     "input": [
      "import numpy as np\n",
      "import scipy as sp"
     ],
     "language": "python",
     "metadata": {},
     "outputs": [],
     "prompt_number": 1
    },
    {
     "cell_type": "code",
     "collapsed": false,
     "input": [
      "%pylab inline\n",
      "import matplotlib.pyplot as plt"
     ],
     "language": "python",
     "metadata": {},
     "outputs": [
      {
       "output_type": "stream",
       "stream": "stdout",
       "text": [
        "Populating the interactive namespace from numpy and matplotlib\n"
       ]
      }
     ],
     "prompt_number": 34
    },
    {
     "cell_type": "markdown",
     "metadata": {},
     "source": [
      "# Difference in proportions #\n",
      "\n",
      "Section 3.2.2 claims that the sample variance of the difference in proportions is higher for common words.\n",
      "\n",
      "This code demonstrates this point, by drawing samples of word counts from a binomial distribution, and computing the absolute difference from the expected frequency."
     ]
    },
    {
     "cell_type": "code",
     "collapsed": false,
     "input": [
      "def computeEAbsDiff(theta,N,N_samp=1000):\n",
      "    counts = np.random.binomial(N,theta,N_samp)\n",
      "    freqs = counts/float(N)\n",
      "    abs_freq_diff = np.abs(freqs - theta)\n",
      "    return abs_freq_diff.mean()"
     ],
     "language": "python",
     "metadata": {},
     "outputs": [],
     "prompt_number": 44
    },
    {
     "cell_type": "code",
     "collapsed": false,
     "input": [
      "computeEAbsDiff(0.001,10000)"
     ],
     "language": "python",
     "metadata": {},
     "outputs": [
      {
       "metadata": {},
       "output_type": "pyout",
       "prompt_number": 124,
       "text": [
        "0.00025639999999999994"
       ]
      }
     ],
     "prompt_number": 124
    },
    {
     "cell_type": "code",
     "collapsed": false,
     "input": [
      "thetas = np.logspace(-5,-1,20)\n",
      "eads = [computeEAbsDiff(theta,10000) for theta in thetas]\n",
      "plt.plot(np.log10(thetas),eads,'sr:')\n",
      "plt.ylabel('$E[|\\hat{f}_i - f_i|]$')\n",
      "plt.xlabel('$\\log f_i$');"
     ],
     "language": "python",
     "metadata": {},
     "outputs": [
      {
       "metadata": {},
       "output_type": "display_data",
       "png": "[encoded data removed]",
       "text": [
        "<matplotlib.figure.Figure at 0x7f690e599e10>"
       ]
      }
     ],
     "prompt_number": 49
    },
    {
     "cell_type": "markdown",
     "metadata": {},
     "source": [
      "# Log-odds#\n",
      "\n",
      "Section 3.2.5"
     ]
    },
    {
     "cell_type": "code",
     "collapsed": false,
     "input": [
      "def computeEAbsLogOddsDiff(theta,N=100000,N_samp=1000):\n",
      "    counts = np.random.binomial(N,theta,N_samp)\n",
      "    freqs = counts/float(N)\n",
      "    abs_log_odds = np.abs(np.log(freqs / (1 - freqs)) - np.log(theta / (1 - theta)))\n",
      "    return abs_log_odds.mean()"
     ],
     "language": "python",
     "metadata": {},
     "outputs": [],
     "prompt_number": 62
    },
    {
     "cell_type": "code",
     "collapsed": false,
     "input": [
      "thetas = np.logspace(-4,-1,20)\n",
      "eads = [computeEAbsLogOddsDiff(theta) for theta in thetas]\n",
      "plt.plot(np.log10(thetas),eads,'sr:')\n",
      "plt.ylabel('$E[|\\log \\hat{O}_i - \\log O_i|]$')\n",
      "plt.xlabel('$\\log f_i$');"
     ],
     "language": "python",
     "metadata": {},
     "outputs": [
      {
       "metadata": {},
       "output_type": "display_data",
       "png": "[encoded data removed]",
       "text": [
        "<matplotlib.figure.Figure at 0x7f690e282c90>"
       ]
      }
     ],
     "prompt_number": 66
    },
    {
     "cell_type": "markdown",
     "metadata": {},
     "source": [
      "# Word scores #"
     ]
    },
    {
     "cell_type": "code",
     "collapsed": false,
     "input": [
      "def computeEAbsWordScoreDiff(theta,N=100000,N_samp=1000):\n",
      "    counts = np.random.binomial(N,theta,N_samp)\n",
      "    freqs = counts/float(N)\n",
      "    abs_word_score = np.abs((freqs - theta)/(freqs+theta))\n",
      "    return abs_word_score.mean()"
     ],
     "language": "python",
     "metadata": {},
     "outputs": [],
     "prompt_number": 70
    },
    {
     "cell_type": "code",
     "collapsed": false,
     "input": [
      "thetas = np.logspace(-4,-1,20)\n",
      "eads = [computeEAbsWordScoreDiff(theta) for theta in thetas]\n",
      "plt.plot(np.log10(thetas),eads,'sr:')\n",
      "plt.ylabel('$E[|\\hat{WS}_i|]$')\n",
      "plt.xlabel('$\\log f_i$');"
     ],
     "language": "python",
     "metadata": {},
     "outputs": [
      {
       "metadata": {},
       "output_type": "display_data",
       "png": "[encoded data removed]",
       "text": [
        "<matplotlib.figure.Figure at 0x7f69114e2f90>"
       ]
      }
     ],
     "prompt_number": 72
    },
    {
     "cell_type": "markdown",
     "metadata": {},
     "source": [
      "# Bayesian modeling #"
     ]
    },
    {
     "cell_type": "markdown",
     "metadata": {},
     "source": [
      "The dirichlet prior"
     ]
    },
    {
     "cell_type": "code",
     "collapsed": false,
     "input": [
      "f, (ax1, ax2, ax3) = plt.subplots(3, sharex=True, sharey=True)\n",
      "ax1.bar(range(20),np.random.dirichlet(0.1*np.ones(20)));\n",
      "ax2.bar(range(20),np.random.dirichlet(1*np.ones(20)));\n",
      "ax3.bar(range(20),np.random.dirichlet(10*np.ones(20)));"
     ],
     "language": "python",
     "metadata": {},
     "outputs": [
      {
       "metadata": {},
       "output_type": "display_data",
       "png": "[encoded data removed]",
       "text": [
        "<matplotlib.figure.Figure at 0x7f690d8dee90>"
       ]
      }
     ],
     "prompt_number": 128
    },
    {
     "cell_type": "markdown",
     "metadata": {},
     "source": [
      "The informative dirichlet prior"
     ]
    },
    {
     "cell_type": "code",
     "collapsed": false,
     "input": [
      "alpha = np.linspace(1,20,20)\n",
      "f, (ax1, ax2, ax3,ax4) = plt.subplots(4, sharex=True, sharey=True)\n",
      "ax1.bar(range(20),np.random.dirichlet(0.01*alpha));\n",
      "ax2.bar(range(20),np.random.dirichlet(0.1*alpha));\n",
      "ax3.bar(range(20),np.random.dirichlet(1*alpha));\n",
      "ax4.bar(range(20),np.random.dirichlet(10*alpha));"
     ],
     "language": "python",
     "metadata": {},
     "outputs": [
      {
       "metadata": {},
       "output_type": "display_data",
       "png": "[encoded data removed]",
       "text": [
        "<matplotlib.figure.Figure at 0x7f690d87a150>"
       ]
      }
     ],
     "prompt_number": 87
    },
    {
     "cell_type": "markdown",
     "metadata": {},
     "source": [
      "# Laplace distribution #"
     ]
    },
    {
     "cell_type": "code",
     "collapsed": false,
     "input": [
      "f, (ax1, ax2) = plt.subplots(2, sharex=True)\n",
      "ax1.hist(np.random.laplace(0,1,10000),bins=np.linspace(-10,10));\n",
      "ax2.hist(np.random.normal(0,1,10000),bins=np.linspace(-10,10));"
     ],
     "language": "python",
     "metadata": {},
     "outputs": [
      {
       "metadata": {},
       "output_type": "display_data",
       "png": "[encoded data removed]",
       "text": [
        "<matplotlib.figure.Figure at 0x7f690d830cd0>"
       ]
      }
     ],
     "prompt_number": 112
    },
    {
     "cell_type": "code",
     "collapsed": false,
     "input": [],
     "language": "python",
     "metadata": {},
     "outputs": []
    }
   ],
   "metadata": {}
  }
 ]
}