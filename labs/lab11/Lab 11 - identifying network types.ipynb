{
 "cells": [
  {
   "cell_type": "markdown",
   "metadata": {},
   "source": [
    "# Lab 11: Identifying Networks by their Characteristics\n",
    "\n",
    "- Jacob Eisenstein\n",
    "- CS8803-CSS\n",
    "\n",
    "This lab will be a little different. I have generated ten random networks, from three network models. Your job is to figure out which networks are generated from the same models. At least two of the three models were discussed in class.\n",
    "\n",
    "The networks are constructed so that the number of nodes is random and independent of the network model, and the edge density is roughly the same across all networks. However, there are other network characteristics that clearly differentiate the three groups of networks.\n",
    "\n",
    "The networkx documentation will be helpful. https://networkx.github.io/documentation/stable/"
   ]
  },
  {
   "cell_type": "code",
   "execution_count": 4,
   "metadata": {
    "collapsed": true
   },
   "outputs": [],
   "source": [
    "import networkx as nx\n",
    "from glob import glob"
   ]
  },
  {
   "cell_type": "code",
   "execution_count": 6,
   "metadata": {
    "collapsed": false
   },
   "outputs": [],
   "source": [
    "G = []\n",
    "for filename in glob('net*.edges'):\n",
    "    G.append(nx.read_edgelist(filename))"
   ]
  },
  {
   "cell_type": "code",
   "execution_count": 13,
   "metadata": {
    "collapsed": false
   },
   "outputs": [
    {
     "name": "stdout",
     "output_type": "stream",
     "text": [
      "203 0.09900990099009901\n",
      "571 0.10051310412634037\n",
      "1065 0.09972819372374599\n",
      "274 0.10037164781690329\n",
      "221 0.10168654874537228\n",
      "321 0.09501557632398754\n",
      "203 0.09900990099009901\n",
      "166 0.09696969696969697\n",
      "129 0.10198643410852713\n",
      "136 0.09455337690631808\n"
     ]
    }
   ],
   "source": [
    "for G_i in G:\n",
    "    print(nx.number_of_nodes(G_i),nx.density(G_i))"
   ]
  },
  {
   "cell_type": "markdown",
   "metadata": {},
   "source": [
    "When you think you have the answer, please fill out the form here: https://goo.gl/forms/WMGeV7E7vEpBYFQE2\n",
    "\n",
    "A small prize goes to the first team to get the correct answer. There is a maximum of one submission per team.\n",
    "\n",
    "**Hint**: look for other functions like `density` that might tell you something interesting about the network.\n",
    "\n",
    "**Warning**: some functions may take a long time to run on the larger networks."
   ]
  },
  {
   "cell_type": "code",
   "execution_count": null,
   "metadata": {
    "collapsed": true
   },
   "outputs": [],
   "source": []
  }
 ],
 "metadata": {
  "kernelspec": {
   "display_name": "Python 3",
   "language": "python",
   "name": "python3"
  },
  "language_info": {
   "codemirror_mode": {
    "name": "ipython",
    "version": 3
   },
   "file_extension": ".py",
   "mimetype": "text/x-python",
   "name": "python",
   "nbconvert_exporter": "python",
   "pygments_lexer": "ipython3",
   "version": "3.6.3"
  }
 },
 "nbformat": 4,
 "nbformat_minor": 2
}
