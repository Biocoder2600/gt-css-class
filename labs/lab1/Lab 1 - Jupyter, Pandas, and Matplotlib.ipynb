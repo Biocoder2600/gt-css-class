{
 "cells": [
  {
   "cell_type": "markdown",
   "metadata": {},
   "source": [
    "Lab 1: Jupyter, Pandas, and Matplotlib\n",
    "============\n",
    "\n",
    "This lab will help you get started with Jupyter, and with manipulating and visualizing dataframes.\n",
    "\n",
    "You will need to be able to run jupyter, and you may need to install several additional libraries. \n",
    "- Instructions via [pip](https://www.scipy.org/install.html)\n",
    "- [anaconda](https://www.continuum.io/downloads), a collection of packages for scientific computing\n",
    "- You'll also need the data, which is also in the repository.\n",
    "\n",
    "I wrote the notebook using Python 2.7, but it *should* work in Python 3.5 as well."
   ]
  },
  {
   "cell_type": "code",
   "execution_count": 3,
   "metadata": {
    "collapsed": false
   },
   "outputs": [],
   "source": [
    "import pandas as pd\n",
    "import matplotlib.pyplot as plt\n",
    "# this puts the plots in the notebook, rather than as separate windows\n",
    "%matplotlib inline \n",
    "from __future__ import print_function #python3 print statements"
   ]
  },
  {
   "cell_type": "markdown",
   "metadata": {},
   "source": [
    "[A tutorial about Jupyter notebooks](https://nbviewer.jupyter.org/github/jupyter/notebook/blob/master/docs/source/examples/Notebook/Notebook%20Basics.ipynb)\n",
    "\n",
    "Some very, very minimal tips:\n",
    "\n",
    "- You can execute a cell by pressing control-return.\n",
    "    - For code cells, this runs the python code\n",
    "    - For Markdown cells, this \"compiles\" the markdown\n",
    "    - Markdown cells can include hyperlinks and $\\LaTeX$\n",
    "- modes\n",
    "    - \"enter\": enters edit mode\n",
    "    - \"escape\": exits edit mode\n",
    "- You can create a new cell with ctrl-m b\n",
    "- You can delete a cell by hitting \"dd\", if you're not in edit mode\n",
    "- If you get stuck, try to interrupt or restart the kernel (kernel menu)"
   ]
  },
  {
   "cell_type": "markdown",
   "metadata": {},
   "source": [
    "# Loading a CSV file into a Pandas dataframe"
   ]
  },
  {
   "cell_type": "code",
   "execution_count": 4,
   "metadata": {
    "collapsed": false
   },
   "outputs": [
    {
     "name": "stderr",
     "output_type": "stream",
     "text": [
      "/home/jacobe/.local/lib/python3.5/site-packages/IPython/core/interactiveshell.py:2717: DtypeWarning: Columns (683,748,751,756,757,760,772,774,857,872) have mixed types. Specify dtype option on import or set low_memory=False.\n",
      "  interactivity=interactivity, compiler=compiler, result=result)\n"
     ]
    }
   ],
   "source": [
    "df = pd.read_csv('correlatesofstatepolicyprojectv1_10.csv')"
   ]
  },
  {
   "cell_type": "code",
   "execution_count": 5,
   "metadata": {
    "collapsed": false
   },
   "outputs": [
    {
     "data": {
      "text/html": [
       "<div>\n",
       "<style>\n",
       "    .dataframe thead tr:only-child th {\n",
       "        text-align: right;\n",
       "    }\n",
       "\n",
       "    .dataframe thead th {\n",
       "        text-align: left;\n",
       "    }\n",
       "\n",
       "    .dataframe tbody tr th {\n",
       "        vertical-align: top;\n",
       "    }\n",
       "</style>\n",
       "<table border=\"1\" class=\"dataframe\">\n",
       "  <thead>\n",
       "    <tr style=\"text-align: right;\">\n",
       "      <th></th>\n",
       "      <th>year</th>\n",
       "      <th>st</th>\n",
       "      <th>stateno</th>\n",
       "      <th>state</th>\n",
       "      <th>state_fips</th>\n",
       "      <th>state_icpsr</th>\n",
       "      <th>pollib_median</th>\n",
       "      <th>pollib_lower</th>\n",
       "      <th>pollib_upper</th>\n",
       "      <th>pollib_sd</th>\n",
       "      <th>...</th>\n",
       "      <th>wideo</th>\n",
       "      <th>pid</th>\n",
       "      <th>ideo</th>\n",
       "      <th>npid</th>\n",
       "      <th>mood</th>\n",
       "      <th>democrat</th>\n",
       "      <th>republican</th>\n",
       "      <th>liberal</th>\n",
       "      <th>conservative</th>\n",
       "      <th>hou_chamber</th>\n",
       "    </tr>\n",
       "  </thead>\n",
       "  <tbody>\n",
       "    <tr>\n",
       "      <th>0</th>\n",
       "      <td>1900</td>\n",
       "      <td>AK</td>\n",
       "      <td>2.0</td>\n",
       "      <td>Alaska</td>\n",
       "      <td>2</td>\n",
       "      <td>81</td>\n",
       "      <td>NaN</td>\n",
       "      <td>NaN</td>\n",
       "      <td>NaN</td>\n",
       "      <td>NaN</td>\n",
       "      <td>...</td>\n",
       "      <td>NaN</td>\n",
       "      <td>NaN</td>\n",
       "      <td>NaN</td>\n",
       "      <td>NaN</td>\n",
       "      <td>NaN</td>\n",
       "      <td>NaN</td>\n",
       "      <td>NaN</td>\n",
       "      <td>NaN</td>\n",
       "      <td>NaN</td>\n",
       "      <td>NaN</td>\n",
       "    </tr>\n",
       "    <tr>\n",
       "      <th>1</th>\n",
       "      <td>1901</td>\n",
       "      <td>AK</td>\n",
       "      <td>2.0</td>\n",
       "      <td>Alaska</td>\n",
       "      <td>2</td>\n",
       "      <td>81</td>\n",
       "      <td>NaN</td>\n",
       "      <td>NaN</td>\n",
       "      <td>NaN</td>\n",
       "      <td>NaN</td>\n",
       "      <td>...</td>\n",
       "      <td>NaN</td>\n",
       "      <td>NaN</td>\n",
       "      <td>NaN</td>\n",
       "      <td>NaN</td>\n",
       "      <td>NaN</td>\n",
       "      <td>NaN</td>\n",
       "      <td>NaN</td>\n",
       "      <td>NaN</td>\n",
       "      <td>NaN</td>\n",
       "      <td>NaN</td>\n",
       "    </tr>\n",
       "    <tr>\n",
       "      <th>2</th>\n",
       "      <td>1902</td>\n",
       "      <td>AK</td>\n",
       "      <td>2.0</td>\n",
       "      <td>Alaska</td>\n",
       "      <td>2</td>\n",
       "      <td>81</td>\n",
       "      <td>NaN</td>\n",
       "      <td>NaN</td>\n",
       "      <td>NaN</td>\n",
       "      <td>NaN</td>\n",
       "      <td>...</td>\n",
       "      <td>NaN</td>\n",
       "      <td>NaN</td>\n",
       "      <td>NaN</td>\n",
       "      <td>NaN</td>\n",
       "      <td>NaN</td>\n",
       "      <td>NaN</td>\n",
       "      <td>NaN</td>\n",
       "      <td>NaN</td>\n",
       "      <td>NaN</td>\n",
       "      <td>NaN</td>\n",
       "    </tr>\n",
       "    <tr>\n",
       "      <th>3</th>\n",
       "      <td>1903</td>\n",
       "      <td>AK</td>\n",
       "      <td>2.0</td>\n",
       "      <td>Alaska</td>\n",
       "      <td>2</td>\n",
       "      <td>81</td>\n",
       "      <td>NaN</td>\n",
       "      <td>NaN</td>\n",
       "      <td>NaN</td>\n",
       "      <td>NaN</td>\n",
       "      <td>...</td>\n",
       "      <td>NaN</td>\n",
       "      <td>NaN</td>\n",
       "      <td>NaN</td>\n",
       "      <td>NaN</td>\n",
       "      <td>NaN</td>\n",
       "      <td>NaN</td>\n",
       "      <td>NaN</td>\n",
       "      <td>NaN</td>\n",
       "      <td>NaN</td>\n",
       "      <td>NaN</td>\n",
       "    </tr>\n",
       "    <tr>\n",
       "      <th>4</th>\n",
       "      <td>1904</td>\n",
       "      <td>AK</td>\n",
       "      <td>2.0</td>\n",
       "      <td>Alaska</td>\n",
       "      <td>2</td>\n",
       "      <td>81</td>\n",
       "      <td>NaN</td>\n",
       "      <td>NaN</td>\n",
       "      <td>NaN</td>\n",
       "      <td>NaN</td>\n",
       "      <td>...</td>\n",
       "      <td>NaN</td>\n",
       "      <td>NaN</td>\n",
       "      <td>NaN</td>\n",
       "      <td>NaN</td>\n",
       "      <td>NaN</td>\n",
       "      <td>NaN</td>\n",
       "      <td>NaN</td>\n",
       "      <td>NaN</td>\n",
       "      <td>NaN</td>\n",
       "      <td>NaN</td>\n",
       "    </tr>\n",
       "  </tbody>\n",
       "</table>\n",
       "<p>5 rows × 928 columns</p>\n",
       "</div>"
      ],
      "text/plain": [
       "   year  st  stateno   state  state_fips  state_icpsr  pollib_median  \\\n",
       "0  1900  AK      2.0  Alaska           2           81            NaN   \n",
       "1  1901  AK      2.0  Alaska           2           81            NaN   \n",
       "2  1902  AK      2.0  Alaska           2           81            NaN   \n",
       "3  1903  AK      2.0  Alaska           2           81            NaN   \n",
       "4  1904  AK      2.0  Alaska           2           81            NaN   \n",
       "\n",
       "   pollib_lower  pollib_upper  pollib_sd     ...       wideo  pid  ideo  npid  \\\n",
       "0           NaN           NaN        NaN     ...         NaN  NaN   NaN   NaN   \n",
       "1           NaN           NaN        NaN     ...         NaN  NaN   NaN   NaN   \n",
       "2           NaN           NaN        NaN     ...         NaN  NaN   NaN   NaN   \n",
       "3           NaN           NaN        NaN     ...         NaN  NaN   NaN   NaN   \n",
       "4           NaN           NaN        NaN     ...         NaN  NaN   NaN   NaN   \n",
       "\n",
       "   mood  democrat  republican  liberal  conservative  hou_chamber  \n",
       "0   NaN       NaN         NaN      NaN           NaN          NaN  \n",
       "1   NaN       NaN         NaN      NaN           NaN          NaN  \n",
       "2   NaN       NaN         NaN      NaN           NaN          NaN  \n",
       "3   NaN       NaN         NaN      NaN           NaN          NaN  \n",
       "4   NaN       NaN         NaN      NaN           NaN          NaN  \n",
       "\n",
       "[5 rows x 928 columns]"
      ]
     },
     "execution_count": 5,
     "metadata": {},
     "output_type": "execute_result"
    }
   ],
   "source": [
    "df.head()"
   ]
  },
  {
   "cell_type": "code",
   "execution_count": 6,
   "metadata": {
    "collapsed": false
   },
   "outputs": [
    {
     "data": {
      "text/plain": [
       "(5967, 928)"
      ]
     },
     "execution_count": 6,
     "metadata": {},
     "output_type": "execute_result"
    }
   ],
   "source": [
    "# rows, columns\n",
    "df.shape"
   ]
  },
  {
   "cell_type": "code",
   "execution_count": 7,
   "metadata": {
    "collapsed": false
   },
   "outputs": [
    {
     "data": {
      "text/plain": [
       "Index(['year', 'st', 'stateno', 'state', 'state_fips', 'state_icpsr',\n",
       "       'pollib_median', 'pollib_lower', 'pollib_upper', 'pollib_sd',\n",
       "       ...\n",
       "       'wideo', 'pid', 'ideo', 'npid', 'mood', 'democrat', 'republican',\n",
       "       'liberal', 'conservative', 'hou_chamber'],\n",
       "      dtype='object', length=928)"
      ]
     },
     "execution_count": 7,
     "metadata": {},
     "output_type": "execute_result"
    }
   ],
   "source": [
    "df.keys()"
   ]
  },
  {
   "cell_type": "code",
   "execution_count": 8,
   "metadata": {
    "collapsed": false
   },
   "outputs": [
    {
     "data": {
      "text/plain": [
       "0    Alaska\n",
       "1    Alaska\n",
       "2    Alaska\n",
       "3    Alaska\n",
       "4    Alaska\n",
       "Name: state, dtype: object"
      ]
     },
     "execution_count": 8,
     "metadata": {},
     "output_type": "execute_result"
    }
   ],
   "source": [
    "df['state'].head()"
   ]
  },
  {
   "cell_type": "markdown",
   "metadata": {},
   "source": [
    "Codes are explained here: http://ippsr.msu.edu/sites/default/files/CorrelatesCodebook.pdf"
   ]
  },
  {
   "cell_type": "markdown",
   "metadata": {},
   "source": [
    "# Computing basic statistics\n",
    "\n",
    "Let's compute the mean per-state population in 1950.\n",
    "\n",
    "To do this, we need to isolate the entries in the dataframe where the year is 1950."
   ]
  },
  {
   "cell_type": "code",
   "execution_count": 9,
   "metadata": {
    "collapsed": false
   },
   "outputs": [
    {
     "data": {
      "text/plain": [
       "0    False\n",
       "1    False\n",
       "2    False\n",
       "3    False\n",
       "4    False\n",
       "Name: year, dtype: bool"
      ]
     },
     "execution_count": 9,
     "metadata": {},
     "output_type": "execute_result"
    }
   ],
   "source": [
    "# this is a Series\n",
    "(df['year']==1950).head()"
   ]
  },
  {
   "cell_type": "markdown",
   "metadata": {},
   "source": [
    "`df.loc` takes a boolean Series, and returns a dataframe containing the entries that meet the boolean condition."
   ]
  },
  {
   "cell_type": "code",
   "execution_count": 10,
   "metadata": {
    "collapsed": false
   },
   "outputs": [],
   "source": [
    "df_1950 = df.loc[df['year']==1950]"
   ]
  },
  {
   "cell_type": "code",
   "execution_count": 11,
   "metadata": {
    "collapsed": false
   },
   "outputs": [
    {
     "data": {
      "text/html": [
       "<div>\n",
       "<style>\n",
       "    .dataframe thead tr:only-child th {\n",
       "        text-align: right;\n",
       "    }\n",
       "\n",
       "    .dataframe thead th {\n",
       "        text-align: left;\n",
       "    }\n",
       "\n",
       "    .dataframe tbody tr th {\n",
       "        vertical-align: top;\n",
       "    }\n",
       "</style>\n",
       "<table border=\"1\" class=\"dataframe\">\n",
       "  <thead>\n",
       "    <tr style=\"text-align: right;\">\n",
       "      <th></th>\n",
       "      <th>year</th>\n",
       "      <th>st</th>\n",
       "      <th>stateno</th>\n",
       "      <th>state</th>\n",
       "      <th>state_fips</th>\n",
       "      <th>state_icpsr</th>\n",
       "      <th>pollib_median</th>\n",
       "      <th>pollib_lower</th>\n",
       "      <th>pollib_upper</th>\n",
       "      <th>pollib_sd</th>\n",
       "      <th>...</th>\n",
       "      <th>wideo</th>\n",
       "      <th>pid</th>\n",
       "      <th>ideo</th>\n",
       "      <th>npid</th>\n",
       "      <th>mood</th>\n",
       "      <th>democrat</th>\n",
       "      <th>republican</th>\n",
       "      <th>liberal</th>\n",
       "      <th>conservative</th>\n",
       "      <th>hou_chamber</th>\n",
       "    </tr>\n",
       "  </thead>\n",
       "  <tbody>\n",
       "    <tr>\n",
       "      <th>50</th>\n",
       "      <td>1950</td>\n",
       "      <td>AK</td>\n",
       "      <td>2.0</td>\n",
       "      <td>Alaska</td>\n",
       "      <td>2</td>\n",
       "      <td>81</td>\n",
       "      <td>NaN</td>\n",
       "      <td>NaN</td>\n",
       "      <td>NaN</td>\n",
       "      <td>NaN</td>\n",
       "      <td>...</td>\n",
       "      <td>NaN</td>\n",
       "      <td>NaN</td>\n",
       "      <td>NaN</td>\n",
       "      <td>NaN</td>\n",
       "      <td>NaN</td>\n",
       "      <td>NaN</td>\n",
       "      <td>NaN</td>\n",
       "      <td>NaN</td>\n",
       "      <td>NaN</td>\n",
       "      <td>NaN</td>\n",
       "    </tr>\n",
       "    <tr>\n",
       "      <th>167</th>\n",
       "      <td>1950</td>\n",
       "      <td>AL</td>\n",
       "      <td>1.0</td>\n",
       "      <td>Alabama</td>\n",
       "      <td>1</td>\n",
       "      <td>41</td>\n",
       "      <td>-0.858539</td>\n",
       "      <td>-1.372300</td>\n",
       "      <td>-0.437250</td>\n",
       "      <td>0.286938</td>\n",
       "      <td>...</td>\n",
       "      <td>NaN</td>\n",
       "      <td>NaN</td>\n",
       "      <td>NaN</td>\n",
       "      <td>NaN</td>\n",
       "      <td>NaN</td>\n",
       "      <td>NaN</td>\n",
       "      <td>NaN</td>\n",
       "      <td>NaN</td>\n",
       "      <td>NaN</td>\n",
       "      <td>NaN</td>\n",
       "    </tr>\n",
       "    <tr>\n",
       "      <th>284</th>\n",
       "      <td>1950</td>\n",
       "      <td>AR</td>\n",
       "      <td>4.0</td>\n",
       "      <td>Arkansas</td>\n",
       "      <td>5</td>\n",
       "      <td>42</td>\n",
       "      <td>-1.113870</td>\n",
       "      <td>-1.618420</td>\n",
       "      <td>-0.676702</td>\n",
       "      <td>0.287288</td>\n",
       "      <td>...</td>\n",
       "      <td>NaN</td>\n",
       "      <td>NaN</td>\n",
       "      <td>NaN</td>\n",
       "      <td>NaN</td>\n",
       "      <td>NaN</td>\n",
       "      <td>NaN</td>\n",
       "      <td>NaN</td>\n",
       "      <td>NaN</td>\n",
       "      <td>NaN</td>\n",
       "      <td>NaN</td>\n",
       "    </tr>\n",
       "    <tr>\n",
       "      <th>401</th>\n",
       "      <td>1950</td>\n",
       "      <td>AZ</td>\n",
       "      <td>3.0</td>\n",
       "      <td>Arizona</td>\n",
       "      <td>4</td>\n",
       "      <td>61</td>\n",
       "      <td>-0.180736</td>\n",
       "      <td>-0.597317</td>\n",
       "      <td>0.173207</td>\n",
       "      <td>0.232623</td>\n",
       "      <td>...</td>\n",
       "      <td>NaN</td>\n",
       "      <td>NaN</td>\n",
       "      <td>NaN</td>\n",
       "      <td>NaN</td>\n",
       "      <td>NaN</td>\n",
       "      <td>NaN</td>\n",
       "      <td>NaN</td>\n",
       "      <td>NaN</td>\n",
       "      <td>NaN</td>\n",
       "      <td>NaN</td>\n",
       "    </tr>\n",
       "    <tr>\n",
       "      <th>518</th>\n",
       "      <td>1950</td>\n",
       "      <td>CA</td>\n",
       "      <td>5.0</td>\n",
       "      <td>California</td>\n",
       "      <td>6</td>\n",
       "      <td>71</td>\n",
       "      <td>1.116370</td>\n",
       "      <td>0.828540</td>\n",
       "      <td>1.405870</td>\n",
       "      <td>0.176360</td>\n",
       "      <td>...</td>\n",
       "      <td>NaN</td>\n",
       "      <td>NaN</td>\n",
       "      <td>NaN</td>\n",
       "      <td>NaN</td>\n",
       "      <td>NaN</td>\n",
       "      <td>NaN</td>\n",
       "      <td>NaN</td>\n",
       "      <td>NaN</td>\n",
       "      <td>NaN</td>\n",
       "      <td>NaN</td>\n",
       "    </tr>\n",
       "  </tbody>\n",
       "</table>\n",
       "<p>5 rows × 928 columns</p>\n",
       "</div>"
      ],
      "text/plain": [
       "     year  st  stateno       state  state_fips  state_icpsr  pollib_median  \\\n",
       "50   1950  AK      2.0      Alaska           2           81            NaN   \n",
       "167  1950  AL      1.0     Alabama           1           41      -0.858539   \n",
       "284  1950  AR      4.0    Arkansas           5           42      -1.113870   \n",
       "401  1950  AZ      3.0     Arizona           4           61      -0.180736   \n",
       "518  1950  CA      5.0  California           6           71       1.116370   \n",
       "\n",
       "     pollib_lower  pollib_upper  pollib_sd     ...       wideo  pid  ideo  \\\n",
       "50            NaN           NaN        NaN     ...         NaN  NaN   NaN   \n",
       "167     -1.372300     -0.437250   0.286938     ...         NaN  NaN   NaN   \n",
       "284     -1.618420     -0.676702   0.287288     ...         NaN  NaN   NaN   \n",
       "401     -0.597317      0.173207   0.232623     ...         NaN  NaN   NaN   \n",
       "518      0.828540      1.405870   0.176360     ...         NaN  NaN   NaN   \n",
       "\n",
       "     npid  mood  democrat  republican  liberal  conservative  hou_chamber  \n",
       "50    NaN   NaN       NaN         NaN      NaN           NaN          NaN  \n",
       "167   NaN   NaN       NaN         NaN      NaN           NaN          NaN  \n",
       "284   NaN   NaN       NaN         NaN      NaN           NaN          NaN  \n",
       "401   NaN   NaN       NaN         NaN      NaN           NaN          NaN  \n",
       "518   NaN   NaN       NaN         NaN      NaN           NaN          NaN  \n",
       "\n",
       "[5 rows x 928 columns]"
      ]
     },
     "execution_count": 11,
     "metadata": {},
     "output_type": "execute_result"
    }
   ],
   "source": [
    "df_1950.head()"
   ]
  },
  {
   "cell_type": "code",
   "execution_count": 12,
   "metadata": {
    "collapsed": false
   },
   "outputs": [
    {
     "data": {
      "text/plain": [
       "50       135000.0\n",
       "167     3100000.0\n",
       "284     1900000.0\n",
       "401      756000.0\n",
       "518    11000000.0\n",
       "Name: pop_annual, dtype: float64"
      ]
     },
     "execution_count": 12,
     "metadata": {},
     "output_type": "execute_result"
    }
   ],
   "source": [
    "df_1950['pop_annual'].head()"
   ]
  },
  {
   "cell_type": "code",
   "execution_count": 13,
   "metadata": {
    "collapsed": false
   },
   "outputs": [
    {
     "name": "stdout",
     "output_type": "stream",
     "text": [
      "mean population = 2996568\n",
      "population std deviation = 3138367\n",
      "median population = 2200000\n"
     ]
    }
   ],
   "source": [
    "print(\"mean population = %d\"%df_1950['pop_annual'].mean())\n",
    "print(\"population std deviation = %d\"%df_1950['pop_annual'].std())\n",
    "print (\"median population = %d\"%df_1950['pop_annual'].median())"
   ]
  },
  {
   "cell_type": "markdown",
   "metadata": {},
   "source": [
    "When the median and mean are significantly different, this suggests that the distribution is non-normal. \n",
    "\n",
    "Let's visualize it in a histogram."
   ]
  },
  {
   "cell_type": "code",
   "execution_count": 14,
   "metadata": {
    "collapsed": false
   },
   "outputs": [
    {
     "data": {
      "image/png": "[encoded data removed]",
      "text/plain": [
       "<matplotlib.figure.Figure at 0x7faba47c2390>"
      ]
     },
     "metadata": {},
     "output_type": "display_data"
    }
   ],
   "source": [
    "# built-in pandas plotting functionality\n",
    "df_1950['pop_annual'].hist(bins=7)\n",
    "plt.xlabel('population')\n",
    "plt.ylabel('states');"
   ]
  },
  {
   "cell_type": "code",
   "execution_count": 15,
   "metadata": {
    "collapsed": false
   },
   "outputs": [
    {
     "data": {
      "image/png": "[encoded data removed]",
      "text/plain": [
       "<matplotlib.figure.Figure at 0x7faba47c26a0>"
      ]
     },
     "metadata": {},
     "output_type": "display_data"
    }
   ],
   "source": [
    "# matplotlib\n",
    "plt.hist(df_1950['pop_annual'],bins=7)\n",
    "plt.xlabel('population')\n",
    "plt.ylabel('states');"
   ]
  },
  {
   "cell_type": "markdown",
   "metadata": {},
   "source": [
    "Let's try the log-population and see if that is more normal."
   ]
  },
  {
   "cell_type": "code",
   "execution_count": 16,
   "metadata": {
    "collapsed": true
   },
   "outputs": [],
   "source": [
    "# numpy is the numerical python library\n",
    "import numpy as np "
   ]
  },
  {
   "cell_type": "code",
   "execution_count": 17,
   "metadata": {
    "collapsed": false
   },
   "outputs": [
    {
     "name": "stdout",
     "output_type": "stream",
     "text": [
      "mean log population = 14.91\n",
      "median log population = 14.60\n"
     ]
    },
    {
     "data": {
      "image/png": "[encoded data removed]",
      "text/plain": [
       "<matplotlib.figure.Figure at 0x7faba462c828>"
      ]
     },
     "metadata": {},
     "output_type": "display_data"
    }
   ],
   "source": [
    "print( \"mean log population = %.2f\"%np.log(df_1950['pop_annual'].mean()))\n",
    "print( \"median log population = %.2f\"%np.log(df_1950['pop_annual'].median()))\n",
    "# matplotlib\n",
    "plt.hist(np.log(df_1950['pop_annual']),bins=7)\n",
    "plt.xlabel('population')\n",
    "plt.ylabel('states');"
   ]
  },
  {
   "cell_type": "markdown",
   "metadata": {},
   "source": [
    "**Your turn**: Do the same analysis for another variable of your choice. \n",
    "Again, the codes are listed here: http://ippsr.msu.edu/sites/default/files/CorrelatesCodebook.pdf"
   ]
  },
  {
   "cell_type": "code",
   "execution_count": 18,
   "metadata": {
    "collapsed": true
   },
   "outputs": [],
   "source": [
    "# your code here\n",
    "# ctrl-m b makes new blocks\n",
    "# pressing 'd' twice deletes blocks"
   ]
  },
  {
   "cell_type": "markdown",
   "metadata": {},
   "source": [
    "# Change over time\n",
    "\n",
    "Let's compare Georgia and New Jersey"
   ]
  },
  {
   "cell_type": "code",
   "execution_count": 19,
   "metadata": {
    "collapsed": false
   },
   "outputs": [],
   "source": [
    "df_ga = df.loc[df['st']=='GA']\n",
    "df_nj = df.loc[df['st']=='NJ']"
   ]
  },
  {
   "cell_type": "markdown",
   "metadata": {},
   "source": [
    "`pollib_median` is a measure of the political liberalism in each state, during each year. Let's plot it."
   ]
  },
  {
   "cell_type": "code",
   "execution_count": 20,
   "metadata": {
    "collapsed": false
   },
   "outputs": [
    {
     "data": {
      "image/png": "[encoded data removed]",
      "text/plain": [
       "<matplotlib.figure.Figure at 0x7faba46e0358>"
      ]
     },
     "metadata": {},
     "output_type": "display_data"
    }
   ],
   "source": [
    "plt.plot(df_ga['year'],df_ga['pollib_median'])\n",
    "# use linestyle to make plots that are readable without color\n",
    "plt.plot(df_nj['year'],df_nj['pollib_median'],linestyle='--')\n",
    "# always have a legend\n",
    "plt.legend(['GA','NJ'])\n",
    "plt.ylabel('political liberalism');"
   ]
  },
  {
   "cell_type": "markdown",
   "metadata": {},
   "source": [
    "Here's spending on higher education over the same period. \n",
    "\n",
    "Definition: \"What is the per student subsidy for\n",
    "higher education?\""
   ]
  },
  {
   "cell_type": "code",
   "execution_count": 21,
   "metadata": {
    "collapsed": false
   },
   "outputs": [],
   "source": [
    "high_ed = 'z_education_higher_edu_spending'"
   ]
  },
  {
   "cell_type": "code",
   "execution_count": 22,
   "metadata": {
    "collapsed": false
   },
   "outputs": [
    {
     "data": {
      "image/png": "[encoded data removed]",
      "text/plain": [
       "<matplotlib.figure.Figure at 0x7faba474c4e0>"
      ]
     },
     "metadata": {},
     "output_type": "display_data"
    }
   ],
   "source": [
    "plt.plot(df_ga['year'],df_ga[high_ed])\n",
    "plt.plot(df_nj['year'],df_nj[high_ed],linestyle='--')\n",
    "plt.legend(['GA','NJ'])\n",
    "plt.ylabel('higher ed subsidy');"
   ]
  },
  {
   "cell_type": "markdown",
   "metadata": {},
   "source": [
    "Per-student public education spending is going down in both conservative Georgia and liberal New Jersey. Is this a nationwide trend?\n",
    "\n",
    "**Your turn:** Add another state to the figures above."
   ]
  },
  {
   "cell_type": "code",
   "execution_count": 23,
   "metadata": {
    "collapsed": true
   },
   "outputs": [],
   "source": [
    "# your code here"
   ]
  },
  {
   "cell_type": "markdown",
   "metadata": {},
   "source": [
    "## Aggregating across states"
   ]
  },
  {
   "cell_type": "code",
   "execution_count": 23,
   "metadata": {
    "collapsed": false
   },
   "outputs": [
    {
     "data": {
      "text/html": [
       "<div>\n",
       "<style>\n",
       "    .dataframe thead tr:only-child th {\n",
       "        text-align: right;\n",
       "    }\n",
       "\n",
       "    .dataframe thead th {\n",
       "        text-align: left;\n",
       "    }\n",
       "\n",
       "    .dataframe tbody tr th {\n",
       "        vertical-align: top;\n",
       "    }\n",
       "</style>\n",
       "<table border=\"1\" class=\"dataframe\">\n",
       "  <thead>\n",
       "    <tr style=\"text-align: right;\">\n",
       "      <th></th>\n",
       "      <th>stateno</th>\n",
       "      <th>state_fips</th>\n",
       "      <th>state_icpsr</th>\n",
       "      <th>pollib_median</th>\n",
       "      <th>pollib_lower</th>\n",
       "      <th>pollib_upper</th>\n",
       "      <th>pollib_sd</th>\n",
       "      <th>st_ec</th>\n",
       "      <th>st_soc</th>\n",
       "      <th>avgec_low</th>\n",
       "      <th>...</th>\n",
       "      <th>wideo</th>\n",
       "      <th>pid</th>\n",
       "      <th>ideo</th>\n",
       "      <th>npid</th>\n",
       "      <th>mood</th>\n",
       "      <th>democrat</th>\n",
       "      <th>republican</th>\n",
       "      <th>liberal</th>\n",
       "      <th>conservative</th>\n",
       "      <th>hou_chamber</th>\n",
       "    </tr>\n",
       "    <tr>\n",
       "      <th>year</th>\n",
       "      <th></th>\n",
       "      <th></th>\n",
       "      <th></th>\n",
       "      <th></th>\n",
       "      <th></th>\n",
       "      <th></th>\n",
       "      <th></th>\n",
       "      <th></th>\n",
       "      <th></th>\n",
       "      <th></th>\n",
       "      <th></th>\n",
       "      <th></th>\n",
       "      <th></th>\n",
       "      <th></th>\n",
       "      <th></th>\n",
       "      <th></th>\n",
       "      <th></th>\n",
       "      <th></th>\n",
       "      <th></th>\n",
       "      <th></th>\n",
       "      <th></th>\n",
       "    </tr>\n",
       "  </thead>\n",
       "  <tbody>\n",
       "    <tr>\n",
       "      <th>1900</th>\n",
       "      <td>25.0</td>\n",
       "      <td>29</td>\n",
       "      <td>43</td>\n",
       "      <td>NaN</td>\n",
       "      <td>NaN</td>\n",
       "      <td>NaN</td>\n",
       "      <td>NaN</td>\n",
       "      <td>NaN</td>\n",
       "      <td>NaN</td>\n",
       "      <td>NaN</td>\n",
       "      <td>...</td>\n",
       "      <td>NaN</td>\n",
       "      <td>NaN</td>\n",
       "      <td>NaN</td>\n",
       "      <td>NaN</td>\n",
       "      <td>NaN</td>\n",
       "      <td>NaN</td>\n",
       "      <td>NaN</td>\n",
       "      <td>NaN</td>\n",
       "      <td>NaN</td>\n",
       "      <td>NaN</td>\n",
       "    </tr>\n",
       "    <tr>\n",
       "      <th>1901</th>\n",
       "      <td>25.0</td>\n",
       "      <td>29</td>\n",
       "      <td>43</td>\n",
       "      <td>NaN</td>\n",
       "      <td>NaN</td>\n",
       "      <td>NaN</td>\n",
       "      <td>NaN</td>\n",
       "      <td>NaN</td>\n",
       "      <td>NaN</td>\n",
       "      <td>NaN</td>\n",
       "      <td>...</td>\n",
       "      <td>NaN</td>\n",
       "      <td>NaN</td>\n",
       "      <td>NaN</td>\n",
       "      <td>NaN</td>\n",
       "      <td>NaN</td>\n",
       "      <td>NaN</td>\n",
       "      <td>NaN</td>\n",
       "      <td>NaN</td>\n",
       "      <td>NaN</td>\n",
       "      <td>NaN</td>\n",
       "    </tr>\n",
       "    <tr>\n",
       "      <th>1902</th>\n",
       "      <td>25.0</td>\n",
       "      <td>29</td>\n",
       "      <td>43</td>\n",
       "      <td>NaN</td>\n",
       "      <td>NaN</td>\n",
       "      <td>NaN</td>\n",
       "      <td>NaN</td>\n",
       "      <td>NaN</td>\n",
       "      <td>NaN</td>\n",
       "      <td>NaN</td>\n",
       "      <td>...</td>\n",
       "      <td>NaN</td>\n",
       "      <td>NaN</td>\n",
       "      <td>NaN</td>\n",
       "      <td>NaN</td>\n",
       "      <td>NaN</td>\n",
       "      <td>NaN</td>\n",
       "      <td>NaN</td>\n",
       "      <td>NaN</td>\n",
       "      <td>NaN</td>\n",
       "      <td>NaN</td>\n",
       "    </tr>\n",
       "  </tbody>\n",
       "</table>\n",
       "<p>3 rows × 899 columns</p>\n",
       "</div>"
      ],
      "text/plain": [
       "      stateno  state_fips  state_icpsr  pollib_median  pollib_lower  \\\n",
       "year                                                                  \n",
       "1900     25.0          29           43            NaN           NaN   \n",
       "1901     25.0          29           43            NaN           NaN   \n",
       "1902     25.0          29           43            NaN           NaN   \n",
       "\n",
       "      pollib_upper  pollib_sd  st_ec  st_soc  avgec_low     ...       wideo  \\\n",
       "year                                                        ...               \n",
       "1900           NaN        NaN    NaN     NaN        NaN     ...         NaN   \n",
       "1901           NaN        NaN    NaN     NaN        NaN     ...         NaN   \n",
       "1902           NaN        NaN    NaN     NaN        NaN     ...         NaN   \n",
       "\n",
       "      pid  ideo  npid  mood  democrat  republican  liberal  conservative  \\\n",
       "year                                                                       \n",
       "1900  NaN   NaN   NaN   NaN       NaN         NaN      NaN           NaN   \n",
       "1901  NaN   NaN   NaN   NaN       NaN         NaN      NaN           NaN   \n",
       "1902  NaN   NaN   NaN   NaN       NaN         NaN      NaN           NaN   \n",
       "\n",
       "      hou_chamber  \n",
       "year               \n",
       "1900          NaN  \n",
       "1901          NaN  \n",
       "1902          NaN  \n",
       "\n",
       "[3 rows x 899 columns]"
      ]
     },
     "execution_count": 23,
     "metadata": {},
     "output_type": "execute_result"
    }
   ],
   "source": [
    "# this produces a dataframe with one entry per year, taking the median across all states in that year\n",
    "df_years = df.groupby('year').aggregate(np.median)\n",
    "df_years.head(3)"
   ]
  },
  {
   "cell_type": "code",
   "execution_count": 24,
   "metadata": {
    "collapsed": false
   },
   "outputs": [
    {
     "data": {
      "image/png": "[encoded data removed]",
      "text/plain": [
       "<matplotlib.figure.Figure at 0x7faba45ad128>"
      ]
     },
     "metadata": {},
     "output_type": "display_data"
    }
   ],
   "source": [
    "plt.plot(df_years[high_ed])\n",
    "plt.ylabel('higher ed subsidy')\n",
    "plt.xlabel('year')\n",
    "plt.legend(['median across states']);"
   ]
  },
  {
   "cell_type": "markdown",
   "metadata": {},
   "source": [
    "**Your turn:** Produce a plot that shows both the median and the mean over time"
   ]
  },
  {
   "cell_type": "code",
   "execution_count": 27,
   "metadata": {
    "collapsed": true
   },
   "outputs": [],
   "source": [
    "# your code here"
   ]
  },
  {
   "cell_type": "markdown",
   "metadata": {},
   "source": [
    "`groupby` and `aggregate` are powerful commands, but they take a little practice to understand. There's more documentation here: https://pandas.pydata.org/pandas-docs/stable/groupby.html"
   ]
  },
  {
   "cell_type": "markdown",
   "metadata": {},
   "source": [
    "## Showing the whole distribution\n",
    "\n",
    "What about the rest of the distribution over states? Seaborn is a visualization library that is good at showing distributions."
   ]
  },
  {
   "cell_type": "code",
   "execution_count": 31,
   "metadata": {
    "collapsed": false
   },
   "outputs": [],
   "source": [
    "# you may need to run \"pip install --user seaborn\" first \n",
    "import seaborn as sns;"
   ]
  },
  {
   "cell_type": "code",
   "execution_count": 32,
   "metadata": {
    "collapsed": false
   },
   "outputs": [
    {
     "data": {
      "image/png": "[encoded data removed]",
      "text/plain": [
       "<matplotlib.figure.Figure at 0x7fab97b9b748>"
      ]
     },
     "metadata": {},
     "output_type": "display_data"
    }
   ],
   "source": [
    "sns.lmplot(x='year',y=high_ed,data=df);"
   ]
  },
  {
   "cell_type": "markdown",
   "metadata": {},
   "source": [
    "Not too good! The problem is that there is no data for the higher education statistic in years before around 1990.\n",
    "\n",
    "Let's try restricting the plot to only the rows where the higher education data is available. We can do this using `df.loc` and `isnull`."
   ]
  },
  {
   "cell_type": "code",
   "execution_count": 33,
   "metadata": {
    "collapsed": false
   },
   "outputs": [
    {
     "data": {
      "image/png": "[encoded data removed]",
      "text/plain": [
       "<matplotlib.figure.Figure at 0x7fab978de860>"
      ]
     },
     "metadata": {},
     "output_type": "display_data"
    }
   ],
   "source": [
    "sns.set_style('white') # this looks a little nicer to me\n",
    "sns.lmplot(x='year',y=high_ed,data=df.loc[~(df[high_ed].isnull())]);"
   ]
  },
  {
   "cell_type": "markdown",
   "metadata": {},
   "source": [
    "Question: do liberal states cut education spending more or less than conservative states?\n",
    "\n",
    "To answer this, you need to do the following: \n",
    "\n",
    "- Assign states to be politically left, moderate, or right, based on `pollib_median`\n",
    "    - To do this, for each state, get the mean value of `pollib_median` from the years 1988 to the present\n",
    "        - To do this, you need to create an aggregated dataframe, using `np.mean`\n",
    "    - Apply `df.qcut` to discretize into three equal bins: left, moderate, and right\n",
    "- Add a column to the original dataframe, indicating your grouping\n",
    "    - To do this, you will need to call `pd.merge`\n",
    "- Then use the 'hue' tag in lmplot to show the different state groups  "
   ]
  },
  {
   "cell_type": "code",
   "execution_count": 34,
   "metadata": {
    "collapsed": false
   },
   "outputs": [],
   "source": [
    "# aggregating all statistics by mean\n",
    "df_states = df.loc[df['year']>1988].groupby('state').aggregate(np.mean)"
   ]
  },
  {
   "cell_type": "code",
   "execution_count": 35,
   "metadata": {
    "collapsed": false
   },
   "outputs": [
    {
     "data": {
      "text/html": [
       "<div>\n",
       "<style>\n",
       "    .dataframe thead tr:only-child th {\n",
       "        text-align: right;\n",
       "    }\n",
       "\n",
       "    .dataframe thead th {\n",
       "        text-align: left;\n",
       "    }\n",
       "\n",
       "    .dataframe tbody tr th {\n",
       "        vertical-align: top;\n",
       "    }\n",
       "</style>\n",
       "<table border=\"1\" class=\"dataframe\">\n",
       "  <thead>\n",
       "    <tr style=\"text-align: right;\">\n",
       "      <th></th>\n",
       "      <th>year</th>\n",
       "      <th>stateno</th>\n",
       "      <th>state_fips</th>\n",
       "      <th>state_icpsr</th>\n",
       "      <th>pollib_median</th>\n",
       "      <th>pollib_lower</th>\n",
       "      <th>pollib_upper</th>\n",
       "      <th>pollib_sd</th>\n",
       "      <th>st_ec</th>\n",
       "      <th>st_soc</th>\n",
       "      <th>...</th>\n",
       "      <th>wideo</th>\n",
       "      <th>pid</th>\n",
       "      <th>ideo</th>\n",
       "      <th>npid</th>\n",
       "      <th>mood</th>\n",
       "      <th>democrat</th>\n",
       "      <th>republican</th>\n",
       "      <th>liberal</th>\n",
       "      <th>conservative</th>\n",
       "      <th>hou_chamber</th>\n",
       "    </tr>\n",
       "    <tr>\n",
       "      <th>state</th>\n",
       "      <th></th>\n",
       "      <th></th>\n",
       "      <th></th>\n",
       "      <th></th>\n",
       "      <th></th>\n",
       "      <th></th>\n",
       "      <th></th>\n",
       "      <th></th>\n",
       "      <th></th>\n",
       "      <th></th>\n",
       "      <th></th>\n",
       "      <th></th>\n",
       "      <th></th>\n",
       "      <th></th>\n",
       "      <th></th>\n",
       "      <th></th>\n",
       "      <th></th>\n",
       "      <th></th>\n",
       "      <th></th>\n",
       "      <th></th>\n",
       "      <th></th>\n",
       "    </tr>\n",
       "  </thead>\n",
       "  <tbody>\n",
       "    <tr>\n",
       "      <th>Alabama</th>\n",
       "      <td>2002.5</td>\n",
       "      <td>1.0</td>\n",
       "      <td>1.0</td>\n",
       "      <td>41.0</td>\n",
       "      <td>-1.828390</td>\n",
       "      <td>-2.337310</td>\n",
       "      <td>-1.415481</td>\n",
       "      <td>0.282576</td>\n",
       "      <td>-0.038403</td>\n",
       "      <td>-0.271491</td>\n",
       "      <td>...</td>\n",
       "      <td>-0.271873</td>\n",
       "      <td>-0.001478</td>\n",
       "      <td>-0.286155</td>\n",
       "      <td>331.217391</td>\n",
       "      <td>39.601136</td>\n",
       "      <td>33.111134</td>\n",
       "      <td>31.203162</td>\n",
       "      <td>14.888115</td>\n",
       "      <td>41.797700</td>\n",
       "      <td>0.218316</td>\n",
       "    </tr>\n",
       "    <tr>\n",
       "      <th>Alaska</th>\n",
       "      <td>2002.5</td>\n",
       "      <td>2.0</td>\n",
       "      <td>2.0</td>\n",
       "      <td>81.0</td>\n",
       "      <td>0.459143</td>\n",
       "      <td>0.015579</td>\n",
       "      <td>0.925451</td>\n",
       "      <td>0.275826</td>\n",
       "      <td>NaN</td>\n",
       "      <td>NaN</td>\n",
       "      <td>...</td>\n",
       "      <td>-0.244973</td>\n",
       "      <td>-0.109096</td>\n",
       "      <td>-0.168719</td>\n",
       "      <td>46.647059</td>\n",
       "      <td>37.275091</td>\n",
       "      <td>25.982322</td>\n",
       "      <td>33.107432</td>\n",
       "      <td>16.113119</td>\n",
       "      <td>38.438294</td>\n",
       "      <td>0.682778</td>\n",
       "    </tr>\n",
       "    <tr>\n",
       "      <th>Arizona</th>\n",
       "      <td>2002.5</td>\n",
       "      <td>3.0</td>\n",
       "      <td>4.0</td>\n",
       "      <td>61.0</td>\n",
       "      <td>-0.739696</td>\n",
       "      <td>-1.097565</td>\n",
       "      <td>-0.315963</td>\n",
       "      <td>0.239679</td>\n",
       "      <td>-0.050711</td>\n",
       "      <td>0.058062</td>\n",
       "      <td>...</td>\n",
       "      <td>-0.122654</td>\n",
       "      <td>-0.072164</td>\n",
       "      <td>-0.132834</td>\n",
       "      <td>307.304348</td>\n",
       "      <td>43.298727</td>\n",
       "      <td>28.380686</td>\n",
       "      <td>32.275975</td>\n",
       "      <td>18.206794</td>\n",
       "      <td>36.033894</td>\n",
       "      <td>0.523737</td>\n",
       "    </tr>\n",
       "  </tbody>\n",
       "</table>\n",
       "<p>3 rows × 900 columns</p>\n",
       "</div>"
      ],
      "text/plain": [
       "           year  stateno  state_fips  state_icpsr  pollib_median  \\\n",
       "state                                                              \n",
       "Alabama  2002.5      1.0         1.0         41.0      -1.828390   \n",
       "Alaska   2002.5      2.0         2.0         81.0       0.459143   \n",
       "Arizona  2002.5      3.0         4.0         61.0      -0.739696   \n",
       "\n",
       "         pollib_lower  pollib_upper  pollib_sd     st_ec    st_soc  \\\n",
       "state                                                                \n",
       "Alabama     -2.337310     -1.415481   0.282576 -0.038403 -0.271491   \n",
       "Alaska       0.015579      0.925451   0.275826       NaN       NaN   \n",
       "Arizona     -1.097565     -0.315963   0.239679 -0.050711  0.058062   \n",
       "\n",
       "            ...          wideo       pid      ideo        npid       mood  \\\n",
       "state       ...                                                             \n",
       "Alabama     ...      -0.271873 -0.001478 -0.286155  331.217391  39.601136   \n",
       "Alaska      ...      -0.244973 -0.109096 -0.168719   46.647059  37.275091   \n",
       "Arizona     ...      -0.122654 -0.072164 -0.132834  307.304348  43.298727   \n",
       "\n",
       "          democrat  republican    liberal  conservative  hou_chamber  \n",
       "state                                                                 \n",
       "Alabama  33.111134   31.203162  14.888115     41.797700     0.218316  \n",
       "Alaska   25.982322   33.107432  16.113119     38.438294     0.682778  \n",
       "Arizona  28.380686   32.275975  18.206794     36.033894     0.523737  \n",
       "\n",
       "[3 rows x 900 columns]"
      ]
     },
     "execution_count": 35,
     "metadata": {},
     "output_type": "execute_result"
    }
   ],
   "source": [
    "df_states.head(3)"
   ]
  },
  {
   "cell_type": "code",
   "execution_count": 36,
   "metadata": {
    "collapsed": false
   },
   "outputs": [],
   "source": [
    "# assigning each state a label, based on their average liberalism\n",
    "df_states['politics'] = pd.qcut(df_states['pollib_median'],3,labels=['right','center','left'])"
   ]
  },
  {
   "cell_type": "code",
   "execution_count": 37,
   "metadata": {
    "collapsed": false
   },
   "outputs": [
    {
     "data": {
      "text/plain": [
       "state\n",
       "Alabama        right\n",
       "Alaska        center\n",
       "Arizona        right\n",
       "Arkansas       right\n",
       "California      left\n",
       "Name: politics, dtype: category\n",
       "Categories (3, object): [right < center < left]"
      ]
     },
     "execution_count": 37,
     "metadata": {},
     "output_type": "execute_result"
    }
   ],
   "source": [
    "# this is a series\n",
    "df_states['politics'].head()"
   ]
  },
  {
   "cell_type": "markdown",
   "metadata": {},
   "source": [
    "We need to merge this information back into the original dataframe `df`, but AFAIK, we can't merge a Series and a dataframe. We need a dataframe instead."
   ]
  },
  {
   "cell_type": "code",
   "execution_count": 38,
   "metadata": {
    "collapsed": false
   },
   "outputs": [
    {
     "data": {
      "text/html": [
       "<div>\n",
       "<style>\n",
       "    .dataframe thead tr:only-child th {\n",
       "        text-align: right;\n",
       "    }\n",
       "\n",
       "    .dataframe thead th {\n",
       "        text-align: left;\n",
       "    }\n",
       "\n",
       "    .dataframe tbody tr th {\n",
       "        vertical-align: top;\n",
       "    }\n",
       "</style>\n",
       "<table border=\"1\" class=\"dataframe\">\n",
       "  <thead>\n",
       "    <tr style=\"text-align: right;\">\n",
       "      <th></th>\n",
       "      <th>politics</th>\n",
       "    </tr>\n",
       "    <tr>\n",
       "      <th>state</th>\n",
       "      <th></th>\n",
       "    </tr>\n",
       "  </thead>\n",
       "  <tbody>\n",
       "    <tr>\n",
       "      <th>Alabama</th>\n",
       "      <td>right</td>\n",
       "    </tr>\n",
       "    <tr>\n",
       "      <th>Alaska</th>\n",
       "      <td>center</td>\n",
       "    </tr>\n",
       "    <tr>\n",
       "      <th>Arizona</th>\n",
       "      <td>right</td>\n",
       "    </tr>\n",
       "    <tr>\n",
       "      <th>Arkansas</th>\n",
       "      <td>right</td>\n",
       "    </tr>\n",
       "    <tr>\n",
       "      <th>California</th>\n",
       "      <td>left</td>\n",
       "    </tr>\n",
       "  </tbody>\n",
       "</table>\n",
       "</div>"
      ],
      "text/plain": [
       "           politics\n",
       "state              \n",
       "Alabama       right\n",
       "Alaska       center\n",
       "Arizona       right\n",
       "Arkansas      right\n",
       "California     left"
      ]
     },
     "execution_count": 38,
     "metadata": {},
     "output_type": "execute_result"
    }
   ],
   "source": [
    "# this is a dataframe\n",
    "df_states[['politics']].head()"
   ]
  },
  {
   "cell_type": "markdown",
   "metadata": {},
   "source": [
    "Now we want to merge this information about each state's political orientation back into the main dataframe.\n",
    "\n",
    "Some documentation here: https://pandas.pydata.org/pandas-docs/stable/merging.html#joining-key-columns-on-an-index"
   ]
  },
  {
   "cell_type": "code",
   "execution_count": 39,
   "metadata": {
    "collapsed": false
   },
   "outputs": [],
   "source": [
    "# This command took a minute to figure out...\n",
    "df_merged = pd.merge(df,df_states[['politics']],left_on='state',right_index=True,how='inner')"
   ]
  },
  {
   "cell_type": "code",
   "execution_count": 40,
   "metadata": {
    "collapsed": false
   },
   "outputs": [
    {
     "data": {
      "text/plain": [
       "Index(['year', 'st', 'stateno', 'state', 'state_fips', 'state_icpsr',\n",
       "       'pollib_median', 'pollib_lower', 'pollib_upper', 'pollib_sd',\n",
       "       ...\n",
       "       'pid', 'ideo', 'npid', 'mood', 'democrat', 'republican', 'liberal',\n",
       "       'conservative', 'hou_chamber', 'politics'],\n",
       "      dtype='object', length=929)"
      ]
     },
     "execution_count": 40,
     "metadata": {},
     "output_type": "execute_result"
    }
   ],
   "source": [
    "df_merged.keys()"
   ]
  },
  {
   "cell_type": "markdown",
   "metadata": {},
   "source": [
    "Note that the last key is `politics`, which is what we want."
   ]
  },
  {
   "cell_type": "code",
   "execution_count": 41,
   "metadata": {
    "collapsed": false
   },
   "outputs": [
    {
     "data": {
      "image/png": "[encoded data removed]",
      "text/plain": [
       "<matplotlib.figure.Figure at 0x7faba4576c18>"
      ]
     },
     "metadata": {},
     "output_type": "display_data"
    }
   ],
   "source": [
    "sns.set_style('white')\n",
    "sns.lmplot(x='year',\n",
    "           y=high_ed,\n",
    "           hue='politics',\n",
    "           data=df_merged.loc[~(df[high_ed].isnull())]);\n",
    "plt.savefig('higher-ed-spending.pdf') # just for fun, this is how you save a PDF of your figure"
   ]
  },
  {
   "cell_type": "markdown",
   "metadata": {},
   "source": [
    "**Your turn**: create a similar figure, plotting some other continuous variable over time"
   ]
  },
  {
   "cell_type": "code",
   "execution_count": null,
   "metadata": {
    "collapsed": true
   },
   "outputs": [],
   "source": [
    "# your code here"
   ]
  }
 ],
 "metadata": {
  "kernelspec": {
   "display_name": "Python 3",
   "language": "python",
   "name": "python3"
  },
  "language_info": {
   "codemirror_mode": {
    "name": "ipython",
    "version": 3
   },
   "file_extension": ".py",
   "mimetype": "text/x-python",
   "name": "python",
   "nbconvert_exporter": "python",
   "pygments_lexer": "ipython3",
   "version": "3.5.3"
  }
 },
 "nbformat": 4,
 "nbformat_minor": 2
}
