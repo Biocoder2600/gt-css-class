{
 "metadata": {
  "name": "",
  "signature": "sha256:18c4b7fc3b67586fbb523c664931a79a1fbdfbba11f1ade8d99a360fd4c2ffdc"
 },
 "nbformat": 3,
 "nbformat_minor": 0,
 "worksheets": [
  {
   "cells": [
    {
     "cell_type": "markdown",
     "metadata": {},
     "source": [
      "Project 2: Network Analysis of International Relations\n",
      "=====\n",
      "\n",
      "- By Jacob Eisenstein\n",
      "- For CS 8803-CSS, Feb 2015\n",
      "\n",
      "In this project, we will apply network analysis to [GDELT: The Global Database of Events, Language, and Tone](http://gdelt.utdallas.edu/). This dataset collects event data of international relations.\n",
      "\n",
      "You will use [networkx](http://networkx.github.io/), a python package for network analysis, and you will need to understand the documentation.\n",
      "\n",
      "You will also use [matplotlib](http://matplotlib.org/) to make figures, and [numpy](http://www.numpy.org/) and scipy for numerical analysis.\n",
      "\n",
      "The homework has two main components: compulsory and freestyle. \n",
      "\n",
      "- In the compulsory program, you will implement and measure some core metrics from the reading\n",
      "- In the freestyle program, you will perform your own analysis (details below)"
     ]
    },
    {
     "cell_type": "markdown",
     "metadata": {},
     "source": [
      "# Setup #\n",
      "\n",
      "The following code will help you load in the data. \n",
      "Feel free to change it during the freestyle part of the project. \n",
      "If you're inexperienced with python, you might also find it as a useful set of examples."
     ]
    },
    {
     "cell_type": "code",
     "collapsed": false,
     "input": [
      "%pylab inline\n",
      "import networkx as nx\n",
      "import sys\n",
      "import csv #reading text files\n",
      "import matplotlib.pyplot as plt\n",
      "import numpy as np #numerical python\n",
      "import cPickle #object serialization\n",
      "from scipy.stats import binom"
     ],
     "language": "python",
     "metadata": {},
     "outputs": [
      {
       "output_type": "stream",
       "stream": "stdout",
       "text": [
        "Populating the interactive namespace from numpy and matplotlib\n"
       ]
      }
     ],
     "prompt_number": 1
    },
    {
     "cell_type": "code",
     "collapsed": false,
     "input": [
      "years = ['1980','1990','2000','2010']\n",
      "files = [x+'.material.new.txt' for x in years]"
     ],
     "language": "python",
     "metadata": {},
     "outputs": [],
     "prompt_number": 2
    },
    {
     "cell_type": "markdown",
     "metadata": {},
     "source": [
      "I made the file 'iso-3166-1' from the [wikipedia page](http://en.wikipedia.org/wiki/ISO_3166-1_alpha-3)."
     ]
    },
    {
     "cell_type": "code",
     "collapsed": false,
     "input": [
      "codes = dict()\n",
      "with open('iso-3166-1','r') as fin:\n",
      "    for line in fin:\n",
      "        parts = line.rstrip().split('\\t')\n",
      "        codes[parts[0]] = parts[1]"
     ],
     "language": "python",
     "metadata": {},
     "outputs": [],
     "prompt_number": 3
    },
    {
     "cell_type": "markdown",
     "metadata": {},
     "source": [
      "# Building graphs #"
     ]
    },
    {
     "cell_type": "markdown",
     "metadata": {},
     "source": [
      "Read all edges from the file into a multi-graph, which can have multiple edges per pair of nodes. \n",
      "The multigraph must then be converted into an aggregated graph later.\n",
      "This same function also gets the locations of all countries.\n",
      "It is somewhat slow, so you may want to serialize (\"pickle\") the output. There is code for that below."
     ]
    },
    {
     "cell_type": "code",
     "collapsed": false,
     "input": [
      "def getGraphAndLocs(filename,graph=None,locs=None,max_lines = sys.maxint): #you can use max_lines for debugging\n",
      "    if locs==None:\n",
      "        locs = dict()\n",
      "    if graph==None:\n",
      "        graph = nx.MultiGraph()\n",
      "    with open(filename,'r') as fin:\n",
      "        reader = csv.DictReader(fin,delimiter='\\t')\n",
      "        for ctr,line in enumerate(reader):\n",
      "            a1 = line['Actor1Code']\n",
      "            a2 = line['Actor2Code']      \n",
      "            if a1 in codes and a2 in codes:\n",
      "                graph.add_edge(a1,a2,quad_category=line['QuadCategory'])\n",
      "            try: #sometimes values are screwed up and can't be converted to strings\n",
      "                if a1 in codes and a1 not in locs:\n",
      "                    locs[a1] = (float(line['Actor1Geo_Lat']),float(line['Actor1Geo_Long']))\n",
      "                if a2 in codes and a2 not in locs:\n",
      "                    locs[a2] = (float(line['Actor2Geo_Lat']),float(line['Actor2Geo_Long']))\n",
      "            except ValueError:\n",
      "                pass\n",
      "            if ctr > max_lines:\n",
      "                break\n",
      "    return graph,locs"
     ],
     "language": "python",
     "metadata": {},
     "outputs": [],
     "prompt_number": 125
    },
    {
     "cell_type": "markdown",
     "metadata": {},
     "source": [
      "The next function aggregates the edges from the multigraph into single edges (per pair of nodes), labeled by polarity.\n",
      "A binomial test is used to determine whether an edge should be negative.\n",
      "\n",
      "There are two parameters that affect the resulting network:\n",
      "\n",
      "- p_thresh, which is the p-value threshold that the binomial test must pass to have a negative edge\n",
      "- min_num_edges, the minimum number of edges that must be observed in the multigraph to have an edge in the aggregated graph\n",
      "\n",
      "You can try playing with these components in the \"freestyle\" part of the assignment."
     ]
    },
    {
     "cell_type": "code",
     "collapsed": false,
     "input": [
      "def aggregateEdges(G,p_thresh=0.1,min_num_edges=7):\n",
      "    G2 = nx.Graph()\n",
      "    #compute rough average proportion of positive links\n",
      "    theta = np.mean([np.mean([np.mean(1*[int(x.values()[0]) <= 2 for x in G[y][x].values()]) for x in G[y]]) for y in G])\n",
      "    for a in G:\n",
      "        for b in G[a]:\n",
      "            edges = G[a][b].values()\n",
      "            if len(edges) > min_num_edges:\n",
      "                k = sum(1*[int(x.values()[0]) <= 2 for x in edges])\n",
      "                p = binom.cdf(k,len(edges),theta)\n",
      "                if p < p_thresh:\n",
      "                    G2.add_edge(a,b,polarity='-')\n",
      "                else:\n",
      "                    G2.add_edge(a,b,polarity='+')\n",
      "    return G2"
     ],
     "language": "python",
     "metadata": {},
     "outputs": [],
     "prompt_number": 126
    },
    {
     "cell_type": "code",
     "collapsed": false,
     "input": [
      "# get the networks\n",
      "G = dict()\n",
      "Gm = dict()\n",
      "locs = dict()\n",
      "for i,filename in enumerate(files):\n",
      "    Gm[years[i]],locs = getGraphAndLocs(filename,locs=locs)\n",
      "    G[years[i]] = aggregateEdges(Gm[years[i]])"
     ],
     "language": "python",
     "metadata": {},
     "outputs": [],
     "prompt_number": 129
    },
    {
     "cell_type": "code",
     "collapsed": false,
     "input": [
      "# just aggregate (no need to run this if you have run the line above)\n",
      "for i,filename in enumerate(files):\n",
      "    #Gm[years[i]],locs = getGraphAndLocs(filename,locs=locs)\n",
      "    G[years[i]] = aggregateEdges(Gm[years[i]])"
     ],
     "language": "python",
     "metadata": {},
     "outputs": [],
     "prompt_number": 438
    },
    {
     "cell_type": "code",
     "collapsed": false,
     "input": [
      "# serialize\n",
      "with open('graphs.p','wb') as fout:\n",
      "    cPickle.dump([G,Gm,locs],fout)"
     ],
     "language": "python",
     "metadata": {},
     "outputs": [],
     "prompt_number": 130
    },
    {
     "cell_type": "code",
     "collapsed": false,
     "input": [
      "# deserialize\n",
      "with open('graphs.p','rb') as fin:\n",
      "    G,Gm,locs = cPickle.load(fin)"
     ],
     "language": "python",
     "metadata": {},
     "outputs": [],
     "prompt_number": 4
    },
    {
     "cell_type": "markdown",
     "metadata": {},
     "source": [
      "### Degree distribution ###\n",
      "\n",
      "Degree distribution is a basic way to characterize a network. \n",
      "\n",
      "You can obtain the degree distribution using\n",
      "networkx's [degree_histogram](http://networkx.lanl.gov/reference/generated/networkx.classes.function.degree_histogram.html) "
     ]
    },
    {
     "cell_type": "code",
     "collapsed": false,
     "input": [
      "# moving average smoothing code. Just pass the sequence and the window size as arguments\n",
      "def movingaverage(interval, window_size):\n",
      "    window = np.ones(int(window_size))/float(window_size)\n",
      "    return np.convolve(interval, window, 'same')"
     ],
     "language": "python",
     "metadata": {},
     "outputs": [],
     "prompt_number": 5
    },
    {
     "cell_type": "code",
     "collapsed": false,
     "input": [
      "# this code plots the smoothed degree distributions for each year\n",
      "for i,year in enumerate(years):\n",
      "    plt.plot(movingaverage(nx.degree_histogram(G[year]),20))\n",
      "plt.legend(years)\n",
      "plt.xlabel('Degree')\n",
      "f = plt.ylabel('Count')"
     ],
     "language": "python",
     "metadata": {},
     "outputs": [
      {
       "metadata": {},
       "output_type": "display_data",
       "png": "[encoded data removed]",
       "text": [
        "<matplotlib.figure.Figure at 0x7f487f0b0550>"
       ]
      }
     ],
     "prompt_number": 6
    },
    {
     "cell_type": "markdown",
     "metadata": {},
     "source": [
      "**1a. How do you interpret the changes in degree distribution over time?**"
     ]
    },
    {
     "cell_type": "markdown",
     "metadata": {},
     "source": [
      "(explain here)"
     ]
    },
    {
     "cell_type": "markdown",
     "metadata": {},
     "source": [
      "**1b. Now compare the degree distribution of these networks with a randomly-generated network.**\n",
      "\n",
      "Use the [Erdos-Renyi model](http://en.wikipedia.org/wiki/Erd%C5%91s%E2%80%93R%C3%A9nyi_model) to produce random graphs,\n",
      "by calling [erdos_renyi_graph](http://networkx.github.io/documentation/latest/reference/generated/networkx.generators.random_graphs.erdos_renyi_graph.html#networkx.generators.random_graphs.erdos_renyi_graph). \n",
      "\n",
      "For each real network, set the parameters of the E-R graph so that the number of nodes and expected number of edges are identical."
     ]
    },
    {
     "cell_type": "code",
     "collapsed": false,
     "input": [
      "# use this code as a shell\n",
      "axes = dict()\n",
      "\n",
      "#this produces multiple axes\n",
      "f, ((axes[years[0]], axes[years[1]]), (axes[years[2]], axes[years[3]])) = plt.subplots(2, 2, sharex='col', sharey='row', figsize=(9,9))\n",
      "\n",
      "for year in years:\n",
      "    N = #your code here\n",
      "    p = #your code here\n",
      "    G_er = nx.erdos_renyi_graph(N,p)\n",
      "    axes[year].plot(movingaverage(nx.degree_histogram(G[year]),1))\n",
      "    axes[year].plot(movingaverage(nx.degree_histogram(G_er),1))\n",
      "    axes[year].legend(['Observed','Erdos-Renyi'])\n",
      "    axes[year].set_title(year)"
     ],
     "language": "python",
     "metadata": {},
     "outputs": [
      {
       "ename": "SyntaxError",
       "evalue": "invalid syntax (<ipython-input-7-aea8d76b724b>, line 8)",
       "output_type": "pyerr",
       "traceback": [
        "\u001b[1;36m  File \u001b[1;32m\"<ipython-input-7-aea8d76b724b>\"\u001b[1;36m, line \u001b[1;32m8\u001b[0m\n\u001b[1;33m    N = #your code here\u001b[0m\n\u001b[1;37m                       ^\u001b[0m\n\u001b[1;31mSyntaxError\u001b[0m\u001b[1;31m:\u001b[0m invalid syntax\n"
       ]
      }
     ],
     "prompt_number": 7
    },
    {
     "cell_type": "markdown",
     "metadata": {},
     "source": [
      "**1c. Describe in a few words the difference between the E-R networks and the observed networks.**"
     ]
    },
    {
     "cell_type": "markdown",
     "metadata": {},
     "source": [
      "(your answer here)"
     ]
    },
    {
     "cell_type": "markdown",
     "metadata": {},
     "source": [
      "**1d. Explore nx.generators to find another random graph model. Try to find one that produces a degree histogram that is more similar to the observed data. Explain how it works. Ideally, the mean, median, and maximum degrees should be similar.**"
     ]
    },
    {
     "cell_type": "code",
     "collapsed": false,
     "input": [
      "# your code here"
     ],
     "language": "python",
     "metadata": {},
     "outputs": []
    },
    {
     "cell_type": "markdown",
     "metadata": {},
     "source": [
      "(your explanation here)"
     ]
    },
    {
     "cell_type": "markdown",
     "metadata": {},
     "source": [
      "# Graph drawing #\n",
      "\n",
      "- This part is not for credit, it just gives you some examples of how to draw these networks.\n",
      "- The code below draws the \"ego-network\" of node n: the subgraphs of G that contains only the immediate neighbors of n.\n",
      "- For more information about drawing, see [here](http://networkx.github.io/documentation/latest/reference/drawing.html)"
     ]
    },
    {
     "cell_type": "code",
     "collapsed": false,
     "input": [
      "def drawEgo(G,node):\n",
      "    nx.draw_spring(nx.subgraph(G,[node] + G.neighbors(node)),width=0.5)\n",
      "#    nx.draw_shell(nx.subgraph(G,[node] + G.neighbors(node)))"
     ],
     "language": "python",
     "metadata": {},
     "outputs": [],
     "prompt_number": 11
    },
    {
     "cell_type": "code",
     "collapsed": false,
     "input": [
      "drawEgo(G['1990'],'MEX')"
     ],
     "language": "python",
     "metadata": {},
     "outputs": [
      {
       "metadata": {},
       "output_type": "display_data",
       "png": "[encoded data removed]",
       "text": [
        "<matplotlib.figure.Figure at 0x7f48777eb190>"
       ]
      }
     ],
     "prompt_number": 107
    },
    {
     "cell_type": "code",
     "collapsed": false,
     "input": [
      "drawEgo(G['2000'],'MEX')"
     ],
     "language": "python",
     "metadata": {},
     "outputs": [
      {
       "metadata": {},
       "output_type": "display_data",
       "png": "[encoded data removed]",
       "text": [
        "<matplotlib.figure.Figure at 0x7f4878d0a510>"
       ]
      }
     ],
     "prompt_number": 108
    },
    {
     "cell_type": "code",
     "collapsed": false,
     "input": [
      "# you can use basemap to draw these networks on maps, but it can be a little difficult to install\n",
      "from mpl_toolkits.basemap import Basemap"
     ],
     "language": "python",
     "metadata": {},
     "outputs": [],
     "prompt_number": 109
    },
    {
     "cell_type": "markdown",
     "metadata": {},
     "source": [
      "Betweenness\n",
      "-----\n",
      "\n",
      "Pages 66 and 67 of Easley and Kleinberg define *betweenness* as a property of edges, based\n",
      "on how frequently each edge is on the shortest path between pairs of nodes.\n",
      "\n",
      "We can also compute betweenness of nodes themselves. \n",
      "The concept is analogous: how often is the node on the shortest path between other nodes.\n",
      "\n",
      "Networkx computes node betweenness using [this function](http://networkx.lanl.gov/reference/generated/networkx.algorithms.centrality.betweenness_centrality.html#networkx.algorithms.centrality.betweenness_centrality)."
     ]
    },
    {
     "cell_type": "code",
     "collapsed": false,
     "input": [
      "import operator #this will help you sort the dictionary by value"
     ],
     "language": "python",
     "metadata": {},
     "outputs": [],
     "prompt_number": 17
    },
    {
     "cell_type": "markdown",
     "metadata": {},
     "source": [
      "** 2a. Compute the top 15 nations by betweenness in each of the four datasets **"
     ]
    },
    {
     "cell_type": "code",
     "collapsed": false,
     "input": [
      "# your code here"
     ],
     "language": "python",
     "metadata": {},
     "outputs": []
    },
    {
     "cell_type": "markdown",
     "metadata": {},
     "source": [
      "**2b. Compute the five nations with the greatest increase and greatest decrease in betweenness in between each of the four datasets.**"
     ]
    },
    {
     "cell_type": "code",
     "collapsed": false,
     "input": [
      "# your code here"
     ],
     "language": "python",
     "metadata": {},
     "outputs": [],
     "prompt_number": 112
    },
    {
     "cell_type": "markdown",
     "metadata": {},
     "source": [
      "Homophily\n",
      "----\n",
      "\n",
      "We'll now measure the geographic homophily between connected nodes in the networks."
     ]
    },
    {
     "cell_type": "code",
     "collapsed": false,
     "input": [
      "# you may need to install geopy: sudo pip install geopy\n",
      "from geopy.distance import distance"
     ],
     "language": "python",
     "metadata": {},
     "outputs": [],
     "prompt_number": 23
    },
    {
     "cell_type": "code",
     "collapsed": false,
     "input": [
      "# example. Note this is the distance between capitals. \n",
      "# You may try something more precise in the freestyle part if you want.\n",
      "distance(locs['USA'],locs['MEX']).km"
     ],
     "language": "python",
     "metadata": {},
     "outputs": [
      {
       "metadata": {},
       "output_type": "pyout",
       "prompt_number": 24,
       "text": [
        "2948.825378995964"
       ]
      }
     ],
     "prompt_number": 24
    },
    {
     "cell_type": "markdown",
     "metadata": {},
     "source": [
      "**3a. In each year, compute the average distance between linked nations, and the fraction of links whose distance is less than 2000km.**"
     ]
    },
    {
     "cell_type": "code",
     "collapsed": false,
     "input": [
      "# your code"
     ],
     "language": "python",
     "metadata": {},
     "outputs": []
    },
    {
     "cell_type": "markdown",
     "metadata": {},
     "source": [
      "**3b. In each year, compute the expected average distance, and expected fraction of links with distance < 2000km, if there were no homophily.**\n",
      "\n",
      "It may take some thought to decide how to compute this, as it does not map directly to the homophily test described in Chapter 4. Explain your method for computing this expectation in words. "
     ]
    },
    {
     "cell_type": "code",
     "collapsed": false,
     "input": [
      "from random import choice #hint"
     ],
     "language": "python",
     "metadata": {},
     "outputs": [],
     "prompt_number": 81
    },
    {
     "cell_type": "code",
     "collapsed": false,
     "input": [
      "# your code"
     ],
     "language": "python",
     "metadata": {},
     "outputs": [],
     "prompt_number": 113
    },
    {
     "cell_type": "markdown",
     "metadata": {},
     "source": [
      "**3c. Use the code below to plot your results **"
     ]
    },
    {
     "cell_type": "code",
     "collapsed": false,
     "input": [
      "f,(ax1,ax2) = plt.subplots(1,2)\n",
      "ax1.plot(years,avg_dist,'o-')\n",
      "ax1.plot(years,e_avg_dist,'s-')\n",
      "ax1.set_title('Average distance')\n",
      "ax2.plot(years,short_dist,'o-')\n",
      "ax2.plot(years,e_short_dist,'s-')\n",
      "ax2.set_title('Fraction of short links')\n",
      "plt.legend(['observed','expectation'])"
     ],
     "language": "python",
     "metadata": {},
     "outputs": [
      {
       "metadata": {},
       "output_type": "pyout",
       "prompt_number": 83,
       "text": [
        "<matplotlib.legend.Legend at 0x7f4879a61150>"
       ]
      },
      {
       "metadata": {},
       "output_type": "display_data",
       "png": "[encoded data removed]",
       "text": [
        "<matplotlib.figure.Figure at 0x7f487de25190>"
       ]
      }
     ],
     "prompt_number": 83
    },
    {
     "cell_type": "markdown",
     "metadata": {},
     "source": [
      "**3d. Do the networks exhibit assortativity in location? What can you say about the change over time?** "
     ]
    },
    {
     "cell_type": "markdown",
     "metadata": {},
     "source": [
      "(your answer here)"
     ]
    },
    {
     "cell_type": "markdown",
     "metadata": {},
     "source": [
      "**3e. Add confidence intervals**\n",
      "\n",
      "Use randomization (at least 100 samples) to compute 95% confidence intervals on the expected distance and fraction of short links.\n",
      "Plot the CIs using \"errorbar\" or a reasonable alternative."
     ]
    },
    {
     "cell_type": "code",
     "collapsed": false,
     "input": [
      "# your code here"
     ],
     "language": "python",
     "metadata": {},
     "outputs": [],
     "prompt_number": 114
    },
    {
     "cell_type": "markdown",
     "metadata": {},
     "source": [
      "Structural balance\n",
      "----\n",
      "\n",
      "The edges in the graph are labeled for positive and negative polarity. \n",
      "Now we're going to check for structural balance.\n",
      "\n",
      "**4a. Count the number of each type of triangle (as in the Leskovec et al reading), separately in each graph.** \n",
      "Report both the raw counts and the percentages."
     ]
    },
    {
     "cell_type": "code",
     "collapsed": false,
     "input": [
      "from collections import Counter #possibly useful"
     ],
     "language": "python",
     "metadata": {},
     "outputs": [],
     "prompt_number": 38
    },
    {
     "cell_type": "code",
     "collapsed": false,
     "input": [
      "# your code here"
     ],
     "language": "python",
     "metadata": {},
     "outputs": [],
     "prompt_number": 115
    },
    {
     "cell_type": "markdown",
     "metadata": {},
     "source": [
      "**4b. Compute the \"prior probability\" of each triangle type, p0.** Use the same method as in the Leskovec et al reading."
     ]
    },
    {
     "cell_type": "code",
     "collapsed": false,
     "input": [
      "for year in years:\n",
      "    print '---- %s ----\\tN\\tp\\tp0'%(year)\n",
      "    real = countEdges(G[year]) #should return a Counter object\n",
      "    fake = countEdges(makeFake(G[year])) #you should define makeFake yourself\n",
      "    N = float(sum([j for i,j in real.items()]))\n",
      "    for tri,count in real.items():        \n",
      "        print '%s\\t%d\\t%.3f\\t%.3f'%(tri,count,count/N,fake[tri]/N)"
     ],
     "language": "python",
     "metadata": {},
     "outputs": [
      {
       "output_type": "stream",
       "stream": "stdout",
       "text": [
        "---- 1980 ----\tN\tp\tp0\n",
        "('+', '+', '+')\t100\t0.271\t0.320\n",
        "('+', '+', '-')\t171\t0.463\t0.431\n",
        "('+', '-', '-')\t74\t0.201\t0.203\n",
        "('-', '-', '-')\t24\t0.065\t0.046\n",
        "---- 1990 ----\tN\tp\tp0\n",
        "('+', '+', '+')\t198\t0.226\t0.260\n",
        "('+', '+', '-')\t345\t0.393\t0.428\n",
        "('+', '-', '-')\t250\t0.285\t0.260\n",
        "('-', '-', '-')\t85\t0.097\t0.052\n",
        "---- 2000 ----\tN\tp\tp0\n",
        "('+', '+', '+')\t1777\t0.344\t0.320"
       ]
      },
      {
       "output_type": "stream",
       "stream": "stdout",
       "text": [
        "\n",
        "('+', '+', '-')\t2133\t0.413\t0.447\n",
        "('+', '-', '-')\t1035\t0.200\t0.200\n",
        "('-', '-', '-')\t225\t0.044\t0.033\n",
        "---- 2010 ----\tN\tp\tp0\n",
        "('+', '+', '+')\t10741\t0.358\t0.368"
       ]
      },
      {
       "output_type": "stream",
       "stream": "stdout",
       "text": [
        "\n",
        "('+', '+', '-')\t11765\t0.392\t0.435\n",
        "('+', '-', '-')\t5805\t0.194\t0.175\n",
        "('-', '-', '-')\t1689\t0.056\t0.022\n"
       ]
      }
     ],
     "prompt_number": 116
    },
    {
     "cell_type": "markdown",
     "metadata": {},
     "source": [
      "** 4c. Use randomization to compute CIs on the null distribution **\n",
      "\n",
      "Since resampling the network is relatively expensive, use a *parametric* resampling technique:\n",
      "compute only 30 samples, then fit a Gaussian, and report a parametric CI using the probability point function (ppf) of the normal distribution."
     ]
    },
    {
     "cell_type": "code",
     "collapsed": false,
     "input": [
      "# useful libraries, maybe\n",
      "from scipy.stats import norm\n",
      "from collections import defaultdict"
     ],
     "language": "python",
     "metadata": {},
     "outputs": [],
     "prompt_number": 52
    },
    {
     "cell_type": "code",
     "collapsed": false,
     "input": [
      "# your code"
     ],
     "language": "python",
     "metadata": {},
     "outputs": [],
     "prompt_number": 117
    },
    {
     "cell_type": "markdown",
     "metadata": {},
     "source": [
      "**4d. To what extent do your observations support the theory of structural balance? To what extent to they contradict it?** \n",
      "\n",
      "Distinguish between the strong and weak theories of structural balance, and note whether your observations are especially relevant to one version of the theory."
     ]
    },
    {
     "cell_type": "markdown",
     "metadata": {},
     "source": [
      "(your text here)"
     ]
    },
    {
     "cell_type": "markdown",
     "metadata": {},
     "source": [
      "** 4e. Chi-squared test **\n",
      "\n",
      "A chi-squared statistic is a number that can be computed from a *contingency* table, in which each cell represents the count for some outcome. For example, the rows might represent years and the columns might represent triads. Under the null hypothesis, the rows and columns are independent; the chi-squared statistic for such a table will be drawn from a chi-squared *distribution*, with the \"degrees of freedom\" parameter determined by the size of the table. By computing the CDF, you can obtain a p-value for the table.\n",
      "\n",
      "You can run the chi-squared test using scipy.stats.chi2_contingency, where the input is a contingency table.\n",
      "\n",
      "Use this test to determine whether the distribution over triads is changing over time. Report both the chi-squared statistic and the p-value."
     ]
    },
    {
     "cell_type": "code",
     "collapsed": false,
     "input": [
      "from scipy.stats import chi2_contingency"
     ],
     "language": "python",
     "metadata": {},
     "outputs": [],
     "prompt_number": 44
    },
    {
     "cell_type": "code",
     "collapsed": false,
     "input": [
      "chi2,p_val,dof,_ = #your code"
     ],
     "language": "python",
     "metadata": {},
     "outputs": [],
     "prompt_number": 103
    },
    {
     "cell_type": "code",
     "collapsed": false,
     "input": [
      "print 'p<%.1e (chi2=%.1f,dof=%d)'%(p_val,chi2,dof)"
     ],
     "language": "python",
     "metadata": {},
     "outputs": [
      {
       "output_type": "stream",
       "stream": "stdout",
       "text": [
        "p<3.2e-25 (chi2=137.6,dof=9)\n"
       ]
      }
     ],
     "prompt_number": 106
    },
    {
     "cell_type": "markdown",
     "metadata": {},
     "source": [
      "Freestyle program\n",
      "----\n",
      "\n",
      "This part is worth 1/3 of your grade for the assignment, so aim to spend about as much time as you spent on two problems from the compulsory program. There are two options:\n",
      "\n",
      "- **GDELT** Choose a single actor (e.g., AFG for Afghanistan). Perform some analyses that describe how this actor's role and position in the network has changed over the course of the last four decades. Make an arguable claim about this actor, and use graphs and statistics to support your claim.\n",
      "- **Campaign finance data** Load in the data from campaign finance that we discussed in class. Perform some analysis that helps explain the structure of this data. Of particular interest is connection to external information, such as political party, state, seniority in the legislature, or committee assignments."
     ]
    }
   ],
   "metadata": {}
  }
 ]
}